{
 "cells": [
  {
   "cell_type": "markdown",
   "metadata": {},
   "source": [
    "¡Hola!\n",
    "\n",
    "Mi nombre es Tonatiuh Cruz. Me complace revisar tu proyecto hoy.\n",
    "\n",
    "Al identificar cualquier error inicialmente, simplemente los destacaré. Te animo a localizar y abordar los problemas de forma independiente como parte de tu preparación para un rol como data-scientist. En un entorno profesional, tu líder de equipo seguiría un enfoque similar. Si encuentras la tarea desafiante, proporcionaré una pista más específica en la próxima iteración.\n",
    "\n",
    "Encontrarás mis comentarios a continuación - **por favor no los muevas, modifiques o elimines**.\n",
    "\n",
    "Puedes encontrar mis comentarios en cajas verdes, amarillas o rojas como esta:\n",
    "\n",
    "<div class=\"alert alert-block alert-success\">\n",
    "<b>Comentario del revisor</b> <a class=\"tocSkip\"></a>\n",
    "\n",
    "Éxito. Todo está hecho correctamente.\n",
    "</div>\n",
    "\n",
    "<div class=\"alert alert-block alert-warning\">\n",
    "<b>Comentario del revisor</b> <a class=\"tocSkip\"></a>\n",
    "\n",
    "Observaciones. Algunas recomendaciones.\n",
    "</div>\n",
    "\n",
    "<div class=\"alert alert-block alert-danger\">\n",
    "<b>Comentario del revisor</b> <a class=\"tocSkip\"></a>\n",
    "\n",
    "Necesita corrección. El bloque requiere algunas correcciones. El trabajo no puede ser aceptado con comentarios en rojo.\n",
    "</div>\n",
    "\n",
    "Puedes responderme utilizando esto:\n",
    "\n",
    "<div class=\"alert alert-block alert-info\">\n",
    "<b>Respuesta del estudiante.</b> <a class=\"tocSkip\"></a>\n",
    "</div>"
   ]
  },
  {
   "cell_type": "markdown",
   "metadata": {},
   "source": [
    "<div class=\"alert alert-block alert-warning\">\n",
    "<b>Comentario del revisor</b> <a class=\"tocSkip\"></a>\n",
    "\n",
    "¡Hola! Recuerda que para los ejercicio de análisis de datos es necesario desarrollar la introducción, objetivo y etapas de análisis. Esto es crucial para cualquier proyecto, ya que establece una guía clara sobre los pasos a seguir. Tener estos elementos bien definidos desde el principio nos permite trabajar de manera más organizada y eficiente. En un futuro lo podrías complementar con una tabla de contenido.\n",
    "</div>"
   ]
  },
  {
   "cell_type": "markdown",
   "metadata": {},
   "source": [
    "# Decripción del proyecto:\n"
   ]
  },
  {
   "cell_type": "markdown",
   "metadata": {},
   "source": [
    "## Chequeo de datos:"
   ]
  },
  {
   "cell_type": "code",
   "execution_count": 202,
   "metadata": {
    "tags": [
     "e5c1f0c2-db9f-43a0-99b9-4875c52427e8"
    ]
   },
   "outputs": [],
   "source": [
    "#Importamos las librerías\n",
    "import pandas as pd\n",
    "import matplotlib.pyplot as plt\n",
    "import seaborn as sns\n",
    "import numpy as np"
   ]
  },
  {
   "cell_type": "code",
   "execution_count": 203,
   "metadata": {},
   "outputs": [
    {
     "name": "stdout",
     "output_type": "stream",
     "text": [
      "<class 'pandas.core.frame.DataFrame'>\n",
      "RangeIndex: 16715 entries, 0 to 16714\n",
      "Data columns (total 11 columns):\n",
      " #   Column           Non-Null Count  Dtype  \n",
      "---  ------           --------------  -----  \n",
      " 0   Name             16713 non-null  object \n",
      " 1   Platform         16715 non-null  object \n",
      " 2   Year_of_Release  16446 non-null  float64\n",
      " 3   Genre            16713 non-null  object \n",
      " 4   NA_sales         16715 non-null  float64\n",
      " 5   EU_sales         16715 non-null  float64\n",
      " 6   JP_sales         16715 non-null  float64\n",
      " 7   Other_sales      16715 non-null  float64\n",
      " 8   Critic_Score     8137 non-null   float64\n",
      " 9   User_Score       10014 non-null  object \n",
      " 10  Rating           9949 non-null   object \n",
      "dtypes: float64(6), object(5)\n",
      "memory usage: 1.4+ MB\n"
     ]
    }
   ],
   "source": [
    "#Definimos nuestro dataframe\n",
    "df = pd.read_csv('/datasets/games.csv')\n",
    "df.info()"
   ]
  },
  {
   "cell_type": "code",
   "execution_count": 204,
   "metadata": {},
   "outputs": [
    {
     "data": {
      "text/html": [
       "<div>\n",
       "<style scoped>\n",
       "    .dataframe tbody tr th:only-of-type {\n",
       "        vertical-align: middle;\n",
       "    }\n",
       "\n",
       "    .dataframe tbody tr th {\n",
       "        vertical-align: top;\n",
       "    }\n",
       "\n",
       "    .dataframe thead th {\n",
       "        text-align: right;\n",
       "    }\n",
       "</style>\n",
       "<table border=\"1\" class=\"dataframe\">\n",
       "  <thead>\n",
       "    <tr style=\"text-align: right;\">\n",
       "      <th></th>\n",
       "      <th>Name</th>\n",
       "      <th>Platform</th>\n",
       "      <th>Year_of_Release</th>\n",
       "      <th>Genre</th>\n",
       "      <th>NA_sales</th>\n",
       "      <th>EU_sales</th>\n",
       "      <th>JP_sales</th>\n",
       "      <th>Other_sales</th>\n",
       "      <th>Critic_Score</th>\n",
       "      <th>User_Score</th>\n",
       "      <th>Rating</th>\n",
       "    </tr>\n",
       "  </thead>\n",
       "  <tbody>\n",
       "    <tr>\n",
       "      <th>0</th>\n",
       "      <td>Wii Sports</td>\n",
       "      <td>Wii</td>\n",
       "      <td>2006.0</td>\n",
       "      <td>Sports</td>\n",
       "      <td>41.36</td>\n",
       "      <td>28.96</td>\n",
       "      <td>3.77</td>\n",
       "      <td>8.45</td>\n",
       "      <td>76.0</td>\n",
       "      <td>8</td>\n",
       "      <td>E</td>\n",
       "    </tr>\n",
       "    <tr>\n",
       "      <th>1</th>\n",
       "      <td>Super Mario Bros.</td>\n",
       "      <td>NES</td>\n",
       "      <td>1985.0</td>\n",
       "      <td>Platform</td>\n",
       "      <td>29.08</td>\n",
       "      <td>3.58</td>\n",
       "      <td>6.81</td>\n",
       "      <td>0.77</td>\n",
       "      <td>NaN</td>\n",
       "      <td>NaN</td>\n",
       "      <td>NaN</td>\n",
       "    </tr>\n",
       "    <tr>\n",
       "      <th>2</th>\n",
       "      <td>Mario Kart Wii</td>\n",
       "      <td>Wii</td>\n",
       "      <td>2008.0</td>\n",
       "      <td>Racing</td>\n",
       "      <td>15.68</td>\n",
       "      <td>12.76</td>\n",
       "      <td>3.79</td>\n",
       "      <td>3.29</td>\n",
       "      <td>82.0</td>\n",
       "      <td>8.3</td>\n",
       "      <td>E</td>\n",
       "    </tr>\n",
       "    <tr>\n",
       "      <th>3</th>\n",
       "      <td>Wii Sports Resort</td>\n",
       "      <td>Wii</td>\n",
       "      <td>2009.0</td>\n",
       "      <td>Sports</td>\n",
       "      <td>15.61</td>\n",
       "      <td>10.93</td>\n",
       "      <td>3.28</td>\n",
       "      <td>2.95</td>\n",
       "      <td>80.0</td>\n",
       "      <td>8</td>\n",
       "      <td>E</td>\n",
       "    </tr>\n",
       "    <tr>\n",
       "      <th>4</th>\n",
       "      <td>Pokemon Red/Pokemon Blue</td>\n",
       "      <td>GB</td>\n",
       "      <td>1996.0</td>\n",
       "      <td>Role-Playing</td>\n",
       "      <td>11.27</td>\n",
       "      <td>8.89</td>\n",
       "      <td>10.22</td>\n",
       "      <td>1.00</td>\n",
       "      <td>NaN</td>\n",
       "      <td>NaN</td>\n",
       "      <td>NaN</td>\n",
       "    </tr>\n",
       "    <tr>\n",
       "      <th>...</th>\n",
       "      <td>...</td>\n",
       "      <td>...</td>\n",
       "      <td>...</td>\n",
       "      <td>...</td>\n",
       "      <td>...</td>\n",
       "      <td>...</td>\n",
       "      <td>...</td>\n",
       "      <td>...</td>\n",
       "      <td>...</td>\n",
       "      <td>...</td>\n",
       "      <td>...</td>\n",
       "    </tr>\n",
       "    <tr>\n",
       "      <th>16710</th>\n",
       "      <td>Samurai Warriors: Sanada Maru</td>\n",
       "      <td>PS3</td>\n",
       "      <td>2016.0</td>\n",
       "      <td>Action</td>\n",
       "      <td>0.00</td>\n",
       "      <td>0.00</td>\n",
       "      <td>0.01</td>\n",
       "      <td>0.00</td>\n",
       "      <td>NaN</td>\n",
       "      <td>NaN</td>\n",
       "      <td>NaN</td>\n",
       "    </tr>\n",
       "    <tr>\n",
       "      <th>16711</th>\n",
       "      <td>LMA Manager 2007</td>\n",
       "      <td>X360</td>\n",
       "      <td>2006.0</td>\n",
       "      <td>Sports</td>\n",
       "      <td>0.00</td>\n",
       "      <td>0.01</td>\n",
       "      <td>0.00</td>\n",
       "      <td>0.00</td>\n",
       "      <td>NaN</td>\n",
       "      <td>NaN</td>\n",
       "      <td>NaN</td>\n",
       "    </tr>\n",
       "    <tr>\n",
       "      <th>16712</th>\n",
       "      <td>Haitaka no Psychedelica</td>\n",
       "      <td>PSV</td>\n",
       "      <td>2016.0</td>\n",
       "      <td>Adventure</td>\n",
       "      <td>0.00</td>\n",
       "      <td>0.00</td>\n",
       "      <td>0.01</td>\n",
       "      <td>0.00</td>\n",
       "      <td>NaN</td>\n",
       "      <td>NaN</td>\n",
       "      <td>NaN</td>\n",
       "    </tr>\n",
       "    <tr>\n",
       "      <th>16713</th>\n",
       "      <td>Spirits &amp; Spells</td>\n",
       "      <td>GBA</td>\n",
       "      <td>2003.0</td>\n",
       "      <td>Platform</td>\n",
       "      <td>0.01</td>\n",
       "      <td>0.00</td>\n",
       "      <td>0.00</td>\n",
       "      <td>0.00</td>\n",
       "      <td>NaN</td>\n",
       "      <td>NaN</td>\n",
       "      <td>NaN</td>\n",
       "    </tr>\n",
       "    <tr>\n",
       "      <th>16714</th>\n",
       "      <td>Winning Post 8 2016</td>\n",
       "      <td>PSV</td>\n",
       "      <td>2016.0</td>\n",
       "      <td>Simulation</td>\n",
       "      <td>0.00</td>\n",
       "      <td>0.00</td>\n",
       "      <td>0.01</td>\n",
       "      <td>0.00</td>\n",
       "      <td>NaN</td>\n",
       "      <td>NaN</td>\n",
       "      <td>NaN</td>\n",
       "    </tr>\n",
       "  </tbody>\n",
       "</table>\n",
       "<p>16715 rows × 11 columns</p>\n",
       "</div>"
      ],
      "text/plain": [
       "                                Name Platform  Year_of_Release         Genre  \\\n",
       "0                         Wii Sports      Wii           2006.0        Sports   \n",
       "1                  Super Mario Bros.      NES           1985.0      Platform   \n",
       "2                     Mario Kart Wii      Wii           2008.0        Racing   \n",
       "3                  Wii Sports Resort      Wii           2009.0        Sports   \n",
       "4           Pokemon Red/Pokemon Blue       GB           1996.0  Role-Playing   \n",
       "...                              ...      ...              ...           ...   \n",
       "16710  Samurai Warriors: Sanada Maru      PS3           2016.0        Action   \n",
       "16711               LMA Manager 2007     X360           2006.0        Sports   \n",
       "16712        Haitaka no Psychedelica      PSV           2016.0     Adventure   \n",
       "16713               Spirits & Spells      GBA           2003.0      Platform   \n",
       "16714            Winning Post 8 2016      PSV           2016.0    Simulation   \n",
       "\n",
       "       NA_sales  EU_sales  JP_sales  Other_sales  Critic_Score User_Score  \\\n",
       "0         41.36     28.96      3.77         8.45          76.0          8   \n",
       "1         29.08      3.58      6.81         0.77           NaN        NaN   \n",
       "2         15.68     12.76      3.79         3.29          82.0        8.3   \n",
       "3         15.61     10.93      3.28         2.95          80.0          8   \n",
       "4         11.27      8.89     10.22         1.00           NaN        NaN   \n",
       "...         ...       ...       ...          ...           ...        ...   \n",
       "16710      0.00      0.00      0.01         0.00           NaN        NaN   \n",
       "16711      0.00      0.01      0.00         0.00           NaN        NaN   \n",
       "16712      0.00      0.00      0.01         0.00           NaN        NaN   \n",
       "16713      0.01      0.00      0.00         0.00           NaN        NaN   \n",
       "16714      0.00      0.00      0.01         0.00           NaN        NaN   \n",
       "\n",
       "      Rating  \n",
       "0          E  \n",
       "1        NaN  \n",
       "2          E  \n",
       "3          E  \n",
       "4        NaN  \n",
       "...      ...  \n",
       "16710    NaN  \n",
       "16711    NaN  \n",
       "16712    NaN  \n",
       "16713    NaN  \n",
       "16714    NaN  \n",
       "\n",
       "[16715 rows x 11 columns]"
      ]
     },
     "execution_count": 204,
     "metadata": {},
     "output_type": "execute_result"
    }
   ],
   "source": [
    "df"
   ]
  },
  {
   "cell_type": "code",
   "execution_count": 205,
   "metadata": {},
   "outputs": [
    {
     "data": {
      "text/plain": [
       "Name                  2\n",
       "Platform              0\n",
       "Year_of_Release     269\n",
       "Genre                 2\n",
       "NA_sales              0\n",
       "EU_sales              0\n",
       "JP_sales              0\n",
       "Other_sales           0\n",
       "Critic_Score       8578\n",
       "User_Score         6701\n",
       "Rating             6766\n",
       "dtype: int64"
      ]
     },
     "execution_count": 205,
     "metadata": {},
     "output_type": "execute_result"
    }
   ],
   "source": [
    "df.isna().sum()"
   ]
  },
  {
   "cell_type": "code",
   "execution_count": 206,
   "metadata": {},
   "outputs": [
    {
     "data": {
      "text/plain": [
       "0"
      ]
     },
     "execution_count": 206,
     "metadata": {},
     "output_type": "execute_result"
    }
   ],
   "source": [
    "df.duplicated().sum()"
   ]
  },
  {
   "cell_type": "markdown",
   "metadata": {},
   "source": [
    "\n",
    "<div class=\"alert alert-block alert-success\">\n",
    "<b>Comentario del revisor:</b> <a class=\"tocSkip\"></a>\n",
    "    \n",
    "Has realizado un excelente trabajo al importar los datos y las bibliotecas necesarias.\n",
    "\n",
    "</div>"
   ]
  },
  {
   "cell_type": "markdown",
   "metadata": {},
   "source": [
    "## Limpieza de datos:"
   ]
  },
  {
   "cell_type": "code",
   "execution_count": 207,
   "metadata": {},
   "outputs": [
    {
     "data": {
      "text/html": [
       "<div>\n",
       "<style scoped>\n",
       "    .dataframe tbody tr th:only-of-type {\n",
       "        vertical-align: middle;\n",
       "    }\n",
       "\n",
       "    .dataframe tbody tr th {\n",
       "        vertical-align: top;\n",
       "    }\n",
       "\n",
       "    .dataframe thead th {\n",
       "        text-align: right;\n",
       "    }\n",
       "</style>\n",
       "<table border=\"1\" class=\"dataframe\">\n",
       "  <thead>\n",
       "    <tr style=\"text-align: right;\">\n",
       "      <th></th>\n",
       "      <th>name</th>\n",
       "      <th>platform</th>\n",
       "      <th>year_of_release</th>\n",
       "      <th>genre</th>\n",
       "      <th>na_sales</th>\n",
       "      <th>eu_sales</th>\n",
       "      <th>jp_sales</th>\n",
       "      <th>other_sales</th>\n",
       "      <th>critic_score</th>\n",
       "      <th>user_score</th>\n",
       "      <th>rating</th>\n",
       "    </tr>\n",
       "  </thead>\n",
       "  <tbody>\n",
       "    <tr>\n",
       "      <th>0</th>\n",
       "      <td>Wii Sports</td>\n",
       "      <td>Wii</td>\n",
       "      <td>2006.0</td>\n",
       "      <td>Sports</td>\n",
       "      <td>41.36</td>\n",
       "      <td>28.96</td>\n",
       "      <td>3.77</td>\n",
       "      <td>8.45</td>\n",
       "      <td>76.0</td>\n",
       "      <td>8</td>\n",
       "      <td>E</td>\n",
       "    </tr>\n",
       "    <tr>\n",
       "      <th>1</th>\n",
       "      <td>Super Mario Bros.</td>\n",
       "      <td>NES</td>\n",
       "      <td>1985.0</td>\n",
       "      <td>Platform</td>\n",
       "      <td>29.08</td>\n",
       "      <td>3.58</td>\n",
       "      <td>6.81</td>\n",
       "      <td>0.77</td>\n",
       "      <td>NaN</td>\n",
       "      <td>NaN</td>\n",
       "      <td>NaN</td>\n",
       "    </tr>\n",
       "    <tr>\n",
       "      <th>2</th>\n",
       "      <td>Mario Kart Wii</td>\n",
       "      <td>Wii</td>\n",
       "      <td>2008.0</td>\n",
       "      <td>Racing</td>\n",
       "      <td>15.68</td>\n",
       "      <td>12.76</td>\n",
       "      <td>3.79</td>\n",
       "      <td>3.29</td>\n",
       "      <td>82.0</td>\n",
       "      <td>8.3</td>\n",
       "      <td>E</td>\n",
       "    </tr>\n",
       "    <tr>\n",
       "      <th>3</th>\n",
       "      <td>Wii Sports Resort</td>\n",
       "      <td>Wii</td>\n",
       "      <td>2009.0</td>\n",
       "      <td>Sports</td>\n",
       "      <td>15.61</td>\n",
       "      <td>10.93</td>\n",
       "      <td>3.28</td>\n",
       "      <td>2.95</td>\n",
       "      <td>80.0</td>\n",
       "      <td>8</td>\n",
       "      <td>E</td>\n",
       "    </tr>\n",
       "    <tr>\n",
       "      <th>4</th>\n",
       "      <td>Pokemon Red/Pokemon Blue</td>\n",
       "      <td>GB</td>\n",
       "      <td>1996.0</td>\n",
       "      <td>Role-Playing</td>\n",
       "      <td>11.27</td>\n",
       "      <td>8.89</td>\n",
       "      <td>10.22</td>\n",
       "      <td>1.00</td>\n",
       "      <td>NaN</td>\n",
       "      <td>NaN</td>\n",
       "      <td>NaN</td>\n",
       "    </tr>\n",
       "    <tr>\n",
       "      <th>...</th>\n",
       "      <td>...</td>\n",
       "      <td>...</td>\n",
       "      <td>...</td>\n",
       "      <td>...</td>\n",
       "      <td>...</td>\n",
       "      <td>...</td>\n",
       "      <td>...</td>\n",
       "      <td>...</td>\n",
       "      <td>...</td>\n",
       "      <td>...</td>\n",
       "      <td>...</td>\n",
       "    </tr>\n",
       "    <tr>\n",
       "      <th>16710</th>\n",
       "      <td>Samurai Warriors: Sanada Maru</td>\n",
       "      <td>PS3</td>\n",
       "      <td>2016.0</td>\n",
       "      <td>Action</td>\n",
       "      <td>0.00</td>\n",
       "      <td>0.00</td>\n",
       "      <td>0.01</td>\n",
       "      <td>0.00</td>\n",
       "      <td>NaN</td>\n",
       "      <td>NaN</td>\n",
       "      <td>NaN</td>\n",
       "    </tr>\n",
       "    <tr>\n",
       "      <th>16711</th>\n",
       "      <td>LMA Manager 2007</td>\n",
       "      <td>X360</td>\n",
       "      <td>2006.0</td>\n",
       "      <td>Sports</td>\n",
       "      <td>0.00</td>\n",
       "      <td>0.01</td>\n",
       "      <td>0.00</td>\n",
       "      <td>0.00</td>\n",
       "      <td>NaN</td>\n",
       "      <td>NaN</td>\n",
       "      <td>NaN</td>\n",
       "    </tr>\n",
       "    <tr>\n",
       "      <th>16712</th>\n",
       "      <td>Haitaka no Psychedelica</td>\n",
       "      <td>PSV</td>\n",
       "      <td>2016.0</td>\n",
       "      <td>Adventure</td>\n",
       "      <td>0.00</td>\n",
       "      <td>0.00</td>\n",
       "      <td>0.01</td>\n",
       "      <td>0.00</td>\n",
       "      <td>NaN</td>\n",
       "      <td>NaN</td>\n",
       "      <td>NaN</td>\n",
       "    </tr>\n",
       "    <tr>\n",
       "      <th>16713</th>\n",
       "      <td>Spirits &amp; Spells</td>\n",
       "      <td>GBA</td>\n",
       "      <td>2003.0</td>\n",
       "      <td>Platform</td>\n",
       "      <td>0.01</td>\n",
       "      <td>0.00</td>\n",
       "      <td>0.00</td>\n",
       "      <td>0.00</td>\n",
       "      <td>NaN</td>\n",
       "      <td>NaN</td>\n",
       "      <td>NaN</td>\n",
       "    </tr>\n",
       "    <tr>\n",
       "      <th>16714</th>\n",
       "      <td>Winning Post 8 2016</td>\n",
       "      <td>PSV</td>\n",
       "      <td>2016.0</td>\n",
       "      <td>Simulation</td>\n",
       "      <td>0.00</td>\n",
       "      <td>0.00</td>\n",
       "      <td>0.01</td>\n",
       "      <td>0.00</td>\n",
       "      <td>NaN</td>\n",
       "      <td>NaN</td>\n",
       "      <td>NaN</td>\n",
       "    </tr>\n",
       "  </tbody>\n",
       "</table>\n",
       "<p>16715 rows × 11 columns</p>\n",
       "</div>"
      ],
      "text/plain": [
       "                                name platform  year_of_release         genre  \\\n",
       "0                         Wii Sports      Wii           2006.0        Sports   \n",
       "1                  Super Mario Bros.      NES           1985.0      Platform   \n",
       "2                     Mario Kart Wii      Wii           2008.0        Racing   \n",
       "3                  Wii Sports Resort      Wii           2009.0        Sports   \n",
       "4           Pokemon Red/Pokemon Blue       GB           1996.0  Role-Playing   \n",
       "...                              ...      ...              ...           ...   \n",
       "16710  Samurai Warriors: Sanada Maru      PS3           2016.0        Action   \n",
       "16711               LMA Manager 2007     X360           2006.0        Sports   \n",
       "16712        Haitaka no Psychedelica      PSV           2016.0     Adventure   \n",
       "16713               Spirits & Spells      GBA           2003.0      Platform   \n",
       "16714            Winning Post 8 2016      PSV           2016.0    Simulation   \n",
       "\n",
       "       na_sales  eu_sales  jp_sales  other_sales  critic_score user_score  \\\n",
       "0         41.36     28.96      3.77         8.45          76.0          8   \n",
       "1         29.08      3.58      6.81         0.77           NaN        NaN   \n",
       "2         15.68     12.76      3.79         3.29          82.0        8.3   \n",
       "3         15.61     10.93      3.28         2.95          80.0          8   \n",
       "4         11.27      8.89     10.22         1.00           NaN        NaN   \n",
       "...         ...       ...       ...          ...           ...        ...   \n",
       "16710      0.00      0.00      0.01         0.00           NaN        NaN   \n",
       "16711      0.00      0.01      0.00         0.00           NaN        NaN   \n",
       "16712      0.00      0.00      0.01         0.00           NaN        NaN   \n",
       "16713      0.01      0.00      0.00         0.00           NaN        NaN   \n",
       "16714      0.00      0.00      0.01         0.00           NaN        NaN   \n",
       "\n",
       "      rating  \n",
       "0          E  \n",
       "1        NaN  \n",
       "2          E  \n",
       "3          E  \n",
       "4        NaN  \n",
       "...      ...  \n",
       "16710    NaN  \n",
       "16711    NaN  \n",
       "16712    NaN  \n",
       "16713    NaN  \n",
       "16714    NaN  \n",
       "\n",
       "[16715 rows x 11 columns]"
      ]
     },
     "execution_count": 207,
     "metadata": {},
     "output_type": "execute_result"
    }
   ],
   "source": [
    "#Hacemos todas las columnas en minúsculas como nos indica el instructivo\n",
    "df.columns = df.columns.str.lower()\n",
    "df"
   ]
  },
  {
   "cell_type": "markdown",
   "metadata": {},
   "source": [
    "### Limpiando columna 'name'"
   ]
  },
  {
   "cell_type": "code",
   "execution_count": 208,
   "metadata": {},
   "outputs": [
    {
     "data": {
      "text/html": [
       "<div>\n",
       "<style scoped>\n",
       "    .dataframe tbody tr th:only-of-type {\n",
       "        vertical-align: middle;\n",
       "    }\n",
       "\n",
       "    .dataframe tbody tr th {\n",
       "        vertical-align: top;\n",
       "    }\n",
       "\n",
       "    .dataframe thead th {\n",
       "        text-align: right;\n",
       "    }\n",
       "</style>\n",
       "<table border=\"1\" class=\"dataframe\">\n",
       "  <thead>\n",
       "    <tr style=\"text-align: right;\">\n",
       "      <th></th>\n",
       "      <th>name</th>\n",
       "      <th>platform</th>\n",
       "      <th>year_of_release</th>\n",
       "      <th>genre</th>\n",
       "      <th>na_sales</th>\n",
       "      <th>eu_sales</th>\n",
       "      <th>jp_sales</th>\n",
       "      <th>other_sales</th>\n",
       "      <th>critic_score</th>\n",
       "      <th>user_score</th>\n",
       "      <th>rating</th>\n",
       "    </tr>\n",
       "  </thead>\n",
       "  <tbody>\n",
       "    <tr>\n",
       "      <th>659</th>\n",
       "      <td>NaN</td>\n",
       "      <td>GEN</td>\n",
       "      <td>1993.0</td>\n",
       "      <td>NaN</td>\n",
       "      <td>1.78</td>\n",
       "      <td>0.53</td>\n",
       "      <td>0.00</td>\n",
       "      <td>0.08</td>\n",
       "      <td>NaN</td>\n",
       "      <td>NaN</td>\n",
       "      <td>NaN</td>\n",
       "    </tr>\n",
       "    <tr>\n",
       "      <th>14244</th>\n",
       "      <td>NaN</td>\n",
       "      <td>GEN</td>\n",
       "      <td>1993.0</td>\n",
       "      <td>NaN</td>\n",
       "      <td>0.00</td>\n",
       "      <td>0.00</td>\n",
       "      <td>0.03</td>\n",
       "      <td>0.00</td>\n",
       "      <td>NaN</td>\n",
       "      <td>NaN</td>\n",
       "      <td>NaN</td>\n",
       "    </tr>\n",
       "  </tbody>\n",
       "</table>\n",
       "</div>"
      ],
      "text/plain": [
       "      name platform  year_of_release genre  na_sales  eu_sales  jp_sales  \\\n",
       "659    NaN      GEN           1993.0   NaN      1.78      0.53      0.00   \n",
       "14244  NaN      GEN           1993.0   NaN      0.00      0.00      0.03   \n",
       "\n",
       "       other_sales  critic_score user_score rating  \n",
       "659           0.08           NaN        NaN    NaN  \n",
       "14244         0.00           NaN        NaN    NaN  "
      ]
     },
     "execution_count": 208,
     "metadata": {},
     "output_type": "execute_result"
    }
   ],
   "source": [
    "df[df['name'].isna()]"
   ]
  },
  {
   "cell_type": "code",
   "execution_count": 209,
   "metadata": {},
   "outputs": [
    {
     "data": {
      "text/plain": [
       "name                  0\n",
       "platform              0\n",
       "year_of_release     269\n",
       "genre                 0\n",
       "na_sales              0\n",
       "eu_sales              0\n",
       "jp_sales              0\n",
       "other_sales           0\n",
       "critic_score       8576\n",
       "user_score         6699\n",
       "rating             6764\n",
       "dtype: int64"
      ]
     },
     "execution_count": 209,
     "metadata": {},
     "output_type": "execute_result"
    }
   ],
   "source": [
    "df.drop(df[df['name'].isna()].index, inplace = True)\n",
    "df.isna().sum()"
   ]
  },
  {
   "cell_type": "markdown",
   "metadata": {},
   "source": [
    "Decidí eliminar estas dos filas ya que no afectarian al conjunto de datos"
   ]
  },
  {
   "cell_type": "markdown",
   "metadata": {},
   "source": [
    "### Limpiando la columna 'year_of release'"
   ]
  },
  {
   "cell_type": "code",
   "execution_count": 210,
   "metadata": {},
   "outputs": [
    {
     "name": "stdout",
     "output_type": "stream",
     "text": [
      "<class 'pandas.core.frame.DataFrame'>\n",
      "Int64Index: 16713 entries, 0 to 16714\n",
      "Data columns (total 11 columns):\n",
      " #   Column           Non-Null Count  Dtype  \n",
      "---  ------           --------------  -----  \n",
      " 0   name             16713 non-null  object \n",
      " 1   platform         16713 non-null  object \n",
      " 2   year_of_release  16444 non-null  float64\n",
      " 3   genre            16713 non-null  object \n",
      " 4   na_sales         16713 non-null  float64\n",
      " 5   eu_sales         16713 non-null  float64\n",
      " 6   jp_sales         16713 non-null  float64\n",
      " 7   other_sales      16713 non-null  float64\n",
      " 8   critic_score     8137 non-null   float64\n",
      " 9   user_score       10014 non-null  object \n",
      " 10  rating           9949 non-null   object \n",
      "dtypes: float64(6), object(5)\n",
      "memory usage: 1.5+ MB\n"
     ]
    }
   ],
   "source": [
    "df.info()"
   ]
  },
  {
   "cell_type": "code",
   "execution_count": 211,
   "metadata": {},
   "outputs": [
    {
     "data": {
      "text/html": [
       "<div>\n",
       "<style scoped>\n",
       "    .dataframe tbody tr th:only-of-type {\n",
       "        vertical-align: middle;\n",
       "    }\n",
       "\n",
       "    .dataframe tbody tr th {\n",
       "        vertical-align: top;\n",
       "    }\n",
       "\n",
       "    .dataframe thead th {\n",
       "        text-align: right;\n",
       "    }\n",
       "</style>\n",
       "<table border=\"1\" class=\"dataframe\">\n",
       "  <thead>\n",
       "    <tr style=\"text-align: right;\">\n",
       "      <th></th>\n",
       "      <th>name</th>\n",
       "      <th>platform</th>\n",
       "      <th>year_of_release</th>\n",
       "      <th>genre</th>\n",
       "      <th>na_sales</th>\n",
       "      <th>eu_sales</th>\n",
       "      <th>jp_sales</th>\n",
       "      <th>other_sales</th>\n",
       "      <th>critic_score</th>\n",
       "      <th>user_score</th>\n",
       "      <th>rating</th>\n",
       "    </tr>\n",
       "  </thead>\n",
       "  <tbody>\n",
       "    <tr>\n",
       "      <th>0</th>\n",
       "      <td>Wii Sports</td>\n",
       "      <td>Wii</td>\n",
       "      <td>2006</td>\n",
       "      <td>Sports</td>\n",
       "      <td>41.36</td>\n",
       "      <td>28.96</td>\n",
       "      <td>3.77</td>\n",
       "      <td>8.45</td>\n",
       "      <td>76.0</td>\n",
       "      <td>8</td>\n",
       "      <td>E</td>\n",
       "    </tr>\n",
       "    <tr>\n",
       "      <th>1</th>\n",
       "      <td>Super Mario Bros.</td>\n",
       "      <td>NES</td>\n",
       "      <td>1985</td>\n",
       "      <td>Platform</td>\n",
       "      <td>29.08</td>\n",
       "      <td>3.58</td>\n",
       "      <td>6.81</td>\n",
       "      <td>0.77</td>\n",
       "      <td>NaN</td>\n",
       "      <td>NaN</td>\n",
       "      <td>NaN</td>\n",
       "    </tr>\n",
       "    <tr>\n",
       "      <th>2</th>\n",
       "      <td>Mario Kart Wii</td>\n",
       "      <td>Wii</td>\n",
       "      <td>2008</td>\n",
       "      <td>Racing</td>\n",
       "      <td>15.68</td>\n",
       "      <td>12.76</td>\n",
       "      <td>3.79</td>\n",
       "      <td>3.29</td>\n",
       "      <td>82.0</td>\n",
       "      <td>8.3</td>\n",
       "      <td>E</td>\n",
       "    </tr>\n",
       "    <tr>\n",
       "      <th>3</th>\n",
       "      <td>Wii Sports Resort</td>\n",
       "      <td>Wii</td>\n",
       "      <td>2009</td>\n",
       "      <td>Sports</td>\n",
       "      <td>15.61</td>\n",
       "      <td>10.93</td>\n",
       "      <td>3.28</td>\n",
       "      <td>2.95</td>\n",
       "      <td>80.0</td>\n",
       "      <td>8</td>\n",
       "      <td>E</td>\n",
       "    </tr>\n",
       "    <tr>\n",
       "      <th>4</th>\n",
       "      <td>Pokemon Red/Pokemon Blue</td>\n",
       "      <td>GB</td>\n",
       "      <td>1996</td>\n",
       "      <td>Role-Playing</td>\n",
       "      <td>11.27</td>\n",
       "      <td>8.89</td>\n",
       "      <td>10.22</td>\n",
       "      <td>1.00</td>\n",
       "      <td>NaN</td>\n",
       "      <td>NaN</td>\n",
       "      <td>NaN</td>\n",
       "    </tr>\n",
       "  </tbody>\n",
       "</table>\n",
       "</div>"
      ],
      "text/plain": [
       "                       name platform  year_of_release         genre  na_sales  \\\n",
       "0                Wii Sports      Wii             2006        Sports     41.36   \n",
       "1         Super Mario Bros.      NES             1985      Platform     29.08   \n",
       "2            Mario Kart Wii      Wii             2008        Racing     15.68   \n",
       "3         Wii Sports Resort      Wii             2009        Sports     15.61   \n",
       "4  Pokemon Red/Pokemon Blue       GB             1996  Role-Playing     11.27   \n",
       "\n",
       "   eu_sales  jp_sales  other_sales  critic_score user_score rating  \n",
       "0     28.96      3.77         8.45          76.0          8      E  \n",
       "1      3.58      6.81         0.77           NaN        NaN    NaN  \n",
       "2     12.76      3.79         3.29          82.0        8.3      E  \n",
       "3     10.93      3.28         2.95          80.0          8      E  \n",
       "4      8.89     10.22         1.00           NaN        NaN    NaN  "
      ]
     },
     "execution_count": 211,
     "metadata": {},
     "output_type": "execute_result"
    }
   ],
   "source": [
    "# Lo pasamos a int ya que no sirve de nda decimales en una fecha\n",
    "df.drop(df[df[\"year_of_release\"].isna()].index, inplace=True)\n",
    "df['year_of_release'] = df['year_of_release'].astype('int64') \n",
    "df.head()"
   ]
  },
  {
   "cell_type": "markdown",
   "metadata": {},
   "source": [
    "Como son muy pocos datos faltantes(menos del 2%), decidí eliminar esas filas igualmente"
   ]
  },
  {
   "cell_type": "markdown",
   "metadata": {},
   "source": [
    "<div class=\"alert alert-block alert-info\">\n",
    "    <b>Comentario del revisor:</b> <a class=\"tocSkip\"></a>\n",
    "    \n",
    "En ocasiones podemos completar los valores faltantes con información recaba mediante una investigación. Es muy común que cuando trabajamos con datos en la vida real, mucho de estos vengan con valores nulos que en ocasiones tendremos que completar con proxys\n",
    "</div>"
   ]
  },
  {
   "cell_type": "markdown",
   "metadata": {},
   "source": [
    "### Limpiando columna 'platfform'"
   ]
  },
  {
   "cell_type": "code",
   "execution_count": 212,
   "metadata": {},
   "outputs": [
    {
     "name": "stdout",
     "output_type": "stream",
     "text": [
      "PS2     2127\n",
      "DS      2121\n",
      "PS3     1306\n",
      "Wii     1286\n",
      "X360    1232\n",
      "PSP     1193\n",
      "PS      1190\n",
      "PC       957\n",
      "GBA      811\n",
      "XB       803\n",
      "GC       542\n",
      "3DS      512\n",
      "PSV      429\n",
      "PS4      392\n",
      "N64      316\n",
      "XOne     247\n",
      "SNES     239\n",
      "SAT      173\n",
      "WiiU     147\n",
      "2600     116\n",
      "NES       98\n",
      "GB        97\n",
      "DC        52\n",
      "GEN       27\n",
      "NG        12\n",
      "WS         6\n",
      "SCD        6\n",
      "3DO        3\n",
      "TG16       2\n",
      "GG         1\n",
      "PCFX       1\n",
      "Name: platform, dtype: int64\n"
     ]
    }
   ],
   "source": [
    "unique_platforms = df['platform'].value_counts()\n",
    "print(unique_platforms)"
   ]
  },
  {
   "cell_type": "code",
   "execution_count": 213,
   "metadata": {},
   "outputs": [
    {
     "data": {
      "text/plain": [
       "2006"
      ]
     },
     "execution_count": 213,
     "metadata": {},
     "output_type": "execute_result"
    }
   ],
   "source": [
    "ps3_games = df[df['platform'] == 'PS3']\n",
    "min_year_ps3 = ps3_games['year_of_release'].min()\n",
    "min_year_ps3"
   ]
  },
  {
   "cell_type": "code",
   "execution_count": 214,
   "metadata": {},
   "outputs": [
    {
     "data": {
      "text/plain": [
       "2005"
      ]
     },
     "execution_count": 214,
     "metadata": {},
     "output_type": "execute_result"
    }
   ],
   "source": [
    "X360_games = df[df['platform'] == 'X360']\n",
    "min_year_X360 = X360_games['year_of_release'].min()\n",
    "min_year_X360"
   ]
  },
  {
   "cell_type": "markdown",
   "metadata": {},
   "source": [
    "### Limpiando la columna 'critic_score'"
   ]
  },
  {
   "cell_type": "code",
   "execution_count": 215,
   "metadata": {},
   "outputs": [
    {
     "data": {
      "text/html": [
       "<div>\n",
       "<style scoped>\n",
       "    .dataframe tbody tr th:only-of-type {\n",
       "        vertical-align: middle;\n",
       "    }\n",
       "\n",
       "    .dataframe tbody tr th {\n",
       "        vertical-align: top;\n",
       "    }\n",
       "\n",
       "    .dataframe thead th {\n",
       "        text-align: right;\n",
       "    }\n",
       "</style>\n",
       "<table border=\"1\" class=\"dataframe\">\n",
       "  <thead>\n",
       "    <tr style=\"text-align: right;\">\n",
       "      <th></th>\n",
       "      <th>critic_score</th>\n",
       "    </tr>\n",
       "    <tr>\n",
       "      <th>genre</th>\n",
       "      <th></th>\n",
       "    </tr>\n",
       "  </thead>\n",
       "  <tbody>\n",
       "    <tr>\n",
       "      <th>Sports</th>\n",
       "      <td>75.0</td>\n",
       "    </tr>\n",
       "    <tr>\n",
       "      <th>Role-Playing</th>\n",
       "      <td>74.0</td>\n",
       "    </tr>\n",
       "    <tr>\n",
       "      <th>Shooter</th>\n",
       "      <td>73.0</td>\n",
       "    </tr>\n",
       "    <tr>\n",
       "      <th>Strategy</th>\n",
       "      <td>73.0</td>\n",
       "    </tr>\n",
       "    <tr>\n",
       "      <th>Fighting</th>\n",
       "      <td>72.0</td>\n",
       "    </tr>\n",
       "    <tr>\n",
       "      <th>Puzzle</th>\n",
       "      <td>70.0</td>\n",
       "    </tr>\n",
       "    <tr>\n",
       "      <th>Simulation</th>\n",
       "      <td>70.0</td>\n",
       "    </tr>\n",
       "    <tr>\n",
       "      <th>Platform</th>\n",
       "      <td>69.5</td>\n",
       "    </tr>\n",
       "    <tr>\n",
       "      <th>Misc</th>\n",
       "      <td>69.0</td>\n",
       "    </tr>\n",
       "    <tr>\n",
       "      <th>Racing</th>\n",
       "      <td>69.0</td>\n",
       "    </tr>\n",
       "    <tr>\n",
       "      <th>Action</th>\n",
       "      <td>68.0</td>\n",
       "    </tr>\n",
       "    <tr>\n",
       "      <th>Adventure</th>\n",
       "      <td>66.0</td>\n",
       "    </tr>\n",
       "  </tbody>\n",
       "</table>\n",
       "</div>"
      ],
      "text/plain": [
       "              critic_score\n",
       "genre                     \n",
       "Sports                75.0\n",
       "Role-Playing          74.0\n",
       "Shooter               73.0\n",
       "Strategy              73.0\n",
       "Fighting              72.0\n",
       "Puzzle                70.0\n",
       "Simulation            70.0\n",
       "Platform              69.5\n",
       "Misc                  69.0\n",
       "Racing                69.0\n",
       "Action                68.0\n",
       "Adventure             66.0"
      ]
     },
     "execution_count": 215,
     "metadata": {},
     "output_type": "execute_result"
    }
   ],
   "source": [
    "#Hacemos un df con la columa sin valores nan\n",
    "critic_without_null = df[df['critic_score'].notnull()]\n",
    "\n",
    "#Creamos una tabla\n",
    "critic_median = critic_without_null.pivot_table(index='genre', values='critic_score', aggfunc='median')\n",
    "\n",
    "#Los ordenamos por la puntuación\n",
    "critic_median.sort_values(by='critic_score', ascending=False)"
   ]
  },
  {
   "cell_type": "markdown",
   "metadata": {},
   "source": [
    "<div class=\"alert alert-block alert-danger\">\n",
    "    <b>Comentario del revisor:</b> <a class=\"tocSkip\"></a>\n",
    "    \n",
    "Cuando trabajamos con distribuciones sesgadas se recomienda completar los valores nulos con la mediana \n",
    "</div>"
   ]
  },
  {
   "cell_type": "code",
   "execution_count": 216,
   "metadata": {},
   "outputs": [
    {
     "data": {
      "text/plain": [
       "70.0"
      ]
     },
     "execution_count": 216,
     "metadata": {},
     "output_type": "execute_result"
    }
   ],
   "source": [
    "#Hacemos una funcion que reemplace dependiendo el género los valores faltantes respecto a la mediana\n",
    "def get_median(critic):\n",
    "    return critic_median['critic_score'].median()\n",
    "\n",
    "#Comprobamos que funcione\n",
    "get_median('Action')"
   ]
  },
  {
   "cell_type": "code",
   "execution_count": 217,
   "metadata": {},
   "outputs": [
    {
     "data": {
      "text/html": [
       "<div>\n",
       "<style scoped>\n",
       "    .dataframe tbody tr th:only-of-type {\n",
       "        vertical-align: middle;\n",
       "    }\n",
       "\n",
       "    .dataframe tbody tr th {\n",
       "        vertical-align: top;\n",
       "    }\n",
       "\n",
       "    .dataframe thead th {\n",
       "        text-align: right;\n",
       "    }\n",
       "</style>\n",
       "<table border=\"1\" class=\"dataframe\">\n",
       "  <thead>\n",
       "    <tr style=\"text-align: right;\">\n",
       "      <th></th>\n",
       "      <th>name</th>\n",
       "      <th>platform</th>\n",
       "      <th>year_of_release</th>\n",
       "      <th>genre</th>\n",
       "      <th>na_sales</th>\n",
       "      <th>eu_sales</th>\n",
       "      <th>jp_sales</th>\n",
       "      <th>other_sales</th>\n",
       "      <th>critic_score</th>\n",
       "      <th>user_score</th>\n",
       "      <th>rating</th>\n",
       "      <th>critic_median</th>\n",
       "    </tr>\n",
       "  </thead>\n",
       "  <tbody>\n",
       "    <tr>\n",
       "      <th>0</th>\n",
       "      <td>Wii Sports</td>\n",
       "      <td>Wii</td>\n",
       "      <td>2006</td>\n",
       "      <td>Sports</td>\n",
       "      <td>41.36</td>\n",
       "      <td>28.96</td>\n",
       "      <td>3.77</td>\n",
       "      <td>8.45</td>\n",
       "      <td>76.0</td>\n",
       "      <td>8</td>\n",
       "      <td>E</td>\n",
       "      <td>70.0</td>\n",
       "    </tr>\n",
       "    <tr>\n",
       "      <th>1</th>\n",
       "      <td>Super Mario Bros.</td>\n",
       "      <td>NES</td>\n",
       "      <td>1985</td>\n",
       "      <td>Platform</td>\n",
       "      <td>29.08</td>\n",
       "      <td>3.58</td>\n",
       "      <td>6.81</td>\n",
       "      <td>0.77</td>\n",
       "      <td>NaN</td>\n",
       "      <td>NaN</td>\n",
       "      <td>NaN</td>\n",
       "      <td>70.0</td>\n",
       "    </tr>\n",
       "    <tr>\n",
       "      <th>2</th>\n",
       "      <td>Mario Kart Wii</td>\n",
       "      <td>Wii</td>\n",
       "      <td>2008</td>\n",
       "      <td>Racing</td>\n",
       "      <td>15.68</td>\n",
       "      <td>12.76</td>\n",
       "      <td>3.79</td>\n",
       "      <td>3.29</td>\n",
       "      <td>82.0</td>\n",
       "      <td>8.3</td>\n",
       "      <td>E</td>\n",
       "      <td>70.0</td>\n",
       "    </tr>\n",
       "    <tr>\n",
       "      <th>3</th>\n",
       "      <td>Wii Sports Resort</td>\n",
       "      <td>Wii</td>\n",
       "      <td>2009</td>\n",
       "      <td>Sports</td>\n",
       "      <td>15.61</td>\n",
       "      <td>10.93</td>\n",
       "      <td>3.28</td>\n",
       "      <td>2.95</td>\n",
       "      <td>80.0</td>\n",
       "      <td>8</td>\n",
       "      <td>E</td>\n",
       "      <td>70.0</td>\n",
       "    </tr>\n",
       "    <tr>\n",
       "      <th>4</th>\n",
       "      <td>Pokemon Red/Pokemon Blue</td>\n",
       "      <td>GB</td>\n",
       "      <td>1996</td>\n",
       "      <td>Role-Playing</td>\n",
       "      <td>11.27</td>\n",
       "      <td>8.89</td>\n",
       "      <td>10.22</td>\n",
       "      <td>1.00</td>\n",
       "      <td>NaN</td>\n",
       "      <td>NaN</td>\n",
       "      <td>NaN</td>\n",
       "      <td>70.0</td>\n",
       "    </tr>\n",
       "  </tbody>\n",
       "</table>\n",
       "</div>"
      ],
      "text/plain": [
       "                       name platform  year_of_release         genre  na_sales  \\\n",
       "0                Wii Sports      Wii             2006        Sports     41.36   \n",
       "1         Super Mario Bros.      NES             1985      Platform     29.08   \n",
       "2            Mario Kart Wii      Wii             2008        Racing     15.68   \n",
       "3         Wii Sports Resort      Wii             2009        Sports     15.61   \n",
       "4  Pokemon Red/Pokemon Blue       GB             1996  Role-Playing     11.27   \n",
       "\n",
       "   eu_sales  jp_sales  other_sales  critic_score user_score rating  \\\n",
       "0     28.96      3.77         8.45          76.0          8      E   \n",
       "1      3.58      6.81         0.77           NaN        NaN    NaN   \n",
       "2     12.76      3.79         3.29          82.0        8.3      E   \n",
       "3     10.93      3.28         2.95          80.0          8      E   \n",
       "4      8.89     10.22         1.00           NaN        NaN    NaN   \n",
       "\n",
       "   critic_median  \n",
       "0           70.0  \n",
       "1           70.0  \n",
       "2           70.0  \n",
       "3           70.0  \n",
       "4           70.0  "
      ]
     },
     "execution_count": 217,
     "metadata": {},
     "output_type": "execute_result"
    }
   ],
   "source": [
    "#Hacemos una nueva columna con la mediana\n",
    "df['critic_median'] = df['genre'].apply(get_median)\n",
    "df.head()"
   ]
  },
  {
   "cell_type": "code",
   "execution_count": 218,
   "metadata": {},
   "outputs": [
    {
     "name": "stdout",
     "output_type": "stream",
     "text": [
      "0\n",
      "70.0\n"
     ]
    }
   ],
   "source": [
    "#Comprobamos que no haya ni un valor nulo\n",
    "print(df['genre'].isna().sum())\n",
    "\n",
    "#Como usamos la mediana pues no debería de cambiar y es otra manera de comprobar que funcionó el código\n",
    "print(get_median('action'))"
   ]
  },
  {
   "cell_type": "code",
   "execution_count": 219,
   "metadata": {},
   "outputs": [
    {
     "data": {
      "text/html": [
       "<div>\n",
       "<style scoped>\n",
       "    .dataframe tbody tr th:only-of-type {\n",
       "        vertical-align: middle;\n",
       "    }\n",
       "\n",
       "    .dataframe tbody tr th {\n",
       "        vertical-align: top;\n",
       "    }\n",
       "\n",
       "    .dataframe thead th {\n",
       "        text-align: right;\n",
       "    }\n",
       "</style>\n",
       "<table border=\"1\" class=\"dataframe\">\n",
       "  <thead>\n",
       "    <tr style=\"text-align: right;\">\n",
       "      <th></th>\n",
       "      <th>name</th>\n",
       "      <th>platform</th>\n",
       "      <th>year_of_release</th>\n",
       "      <th>genre</th>\n",
       "      <th>na_sales</th>\n",
       "      <th>eu_sales</th>\n",
       "      <th>jp_sales</th>\n",
       "      <th>other_sales</th>\n",
       "      <th>critic_score</th>\n",
       "      <th>user_score</th>\n",
       "      <th>rating</th>\n",
       "      <th>critic_median</th>\n",
       "    </tr>\n",
       "  </thead>\n",
       "  <tbody>\n",
       "    <tr>\n",
       "      <th>0</th>\n",
       "      <td>Wii Sports</td>\n",
       "      <td>Wii</td>\n",
       "      <td>2006</td>\n",
       "      <td>Sports</td>\n",
       "      <td>41.36</td>\n",
       "      <td>28.96</td>\n",
       "      <td>3.77</td>\n",
       "      <td>8.45</td>\n",
       "      <td>76.0</td>\n",
       "      <td>8</td>\n",
       "      <td>E</td>\n",
       "      <td>70.0</td>\n",
       "    </tr>\n",
       "    <tr>\n",
       "      <th>1</th>\n",
       "      <td>Super Mario Bros.</td>\n",
       "      <td>NES</td>\n",
       "      <td>1985</td>\n",
       "      <td>Platform</td>\n",
       "      <td>29.08</td>\n",
       "      <td>3.58</td>\n",
       "      <td>6.81</td>\n",
       "      <td>0.77</td>\n",
       "      <td>70.0</td>\n",
       "      <td>NaN</td>\n",
       "      <td>NaN</td>\n",
       "      <td>70.0</td>\n",
       "    </tr>\n",
       "    <tr>\n",
       "      <th>2</th>\n",
       "      <td>Mario Kart Wii</td>\n",
       "      <td>Wii</td>\n",
       "      <td>2008</td>\n",
       "      <td>Racing</td>\n",
       "      <td>15.68</td>\n",
       "      <td>12.76</td>\n",
       "      <td>3.79</td>\n",
       "      <td>3.29</td>\n",
       "      <td>82.0</td>\n",
       "      <td>8.3</td>\n",
       "      <td>E</td>\n",
       "      <td>70.0</td>\n",
       "    </tr>\n",
       "    <tr>\n",
       "      <th>3</th>\n",
       "      <td>Wii Sports Resort</td>\n",
       "      <td>Wii</td>\n",
       "      <td>2009</td>\n",
       "      <td>Sports</td>\n",
       "      <td>15.61</td>\n",
       "      <td>10.93</td>\n",
       "      <td>3.28</td>\n",
       "      <td>2.95</td>\n",
       "      <td>80.0</td>\n",
       "      <td>8</td>\n",
       "      <td>E</td>\n",
       "      <td>70.0</td>\n",
       "    </tr>\n",
       "    <tr>\n",
       "      <th>4</th>\n",
       "      <td>Pokemon Red/Pokemon Blue</td>\n",
       "      <td>GB</td>\n",
       "      <td>1996</td>\n",
       "      <td>Role-Playing</td>\n",
       "      <td>11.27</td>\n",
       "      <td>8.89</td>\n",
       "      <td>10.22</td>\n",
       "      <td>1.00</td>\n",
       "      <td>70.0</td>\n",
       "      <td>NaN</td>\n",
       "      <td>NaN</td>\n",
       "      <td>70.0</td>\n",
       "    </tr>\n",
       "    <tr>\n",
       "      <th>...</th>\n",
       "      <td>...</td>\n",
       "      <td>...</td>\n",
       "      <td>...</td>\n",
       "      <td>...</td>\n",
       "      <td>...</td>\n",
       "      <td>...</td>\n",
       "      <td>...</td>\n",
       "      <td>...</td>\n",
       "      <td>...</td>\n",
       "      <td>...</td>\n",
       "      <td>...</td>\n",
       "      <td>...</td>\n",
       "    </tr>\n",
       "    <tr>\n",
       "      <th>16710</th>\n",
       "      <td>Samurai Warriors: Sanada Maru</td>\n",
       "      <td>PS3</td>\n",
       "      <td>2016</td>\n",
       "      <td>Action</td>\n",
       "      <td>0.00</td>\n",
       "      <td>0.00</td>\n",
       "      <td>0.01</td>\n",
       "      <td>0.00</td>\n",
       "      <td>70.0</td>\n",
       "      <td>NaN</td>\n",
       "      <td>NaN</td>\n",
       "      <td>70.0</td>\n",
       "    </tr>\n",
       "    <tr>\n",
       "      <th>16711</th>\n",
       "      <td>LMA Manager 2007</td>\n",
       "      <td>X360</td>\n",
       "      <td>2006</td>\n",
       "      <td>Sports</td>\n",
       "      <td>0.00</td>\n",
       "      <td>0.01</td>\n",
       "      <td>0.00</td>\n",
       "      <td>0.00</td>\n",
       "      <td>70.0</td>\n",
       "      <td>NaN</td>\n",
       "      <td>NaN</td>\n",
       "      <td>70.0</td>\n",
       "    </tr>\n",
       "    <tr>\n",
       "      <th>16712</th>\n",
       "      <td>Haitaka no Psychedelica</td>\n",
       "      <td>PSV</td>\n",
       "      <td>2016</td>\n",
       "      <td>Adventure</td>\n",
       "      <td>0.00</td>\n",
       "      <td>0.00</td>\n",
       "      <td>0.01</td>\n",
       "      <td>0.00</td>\n",
       "      <td>70.0</td>\n",
       "      <td>NaN</td>\n",
       "      <td>NaN</td>\n",
       "      <td>70.0</td>\n",
       "    </tr>\n",
       "    <tr>\n",
       "      <th>16713</th>\n",
       "      <td>Spirits &amp; Spells</td>\n",
       "      <td>GBA</td>\n",
       "      <td>2003</td>\n",
       "      <td>Platform</td>\n",
       "      <td>0.01</td>\n",
       "      <td>0.00</td>\n",
       "      <td>0.00</td>\n",
       "      <td>0.00</td>\n",
       "      <td>70.0</td>\n",
       "      <td>NaN</td>\n",
       "      <td>NaN</td>\n",
       "      <td>70.0</td>\n",
       "    </tr>\n",
       "    <tr>\n",
       "      <th>16714</th>\n",
       "      <td>Winning Post 8 2016</td>\n",
       "      <td>PSV</td>\n",
       "      <td>2016</td>\n",
       "      <td>Simulation</td>\n",
       "      <td>0.00</td>\n",
       "      <td>0.00</td>\n",
       "      <td>0.01</td>\n",
       "      <td>0.00</td>\n",
       "      <td>70.0</td>\n",
       "      <td>NaN</td>\n",
       "      <td>NaN</td>\n",
       "      <td>70.0</td>\n",
       "    </tr>\n",
       "  </tbody>\n",
       "</table>\n",
       "<p>16444 rows × 12 columns</p>\n",
       "</div>"
      ],
      "text/plain": [
       "                                name platform  year_of_release         genre  \\\n",
       "0                         Wii Sports      Wii             2006        Sports   \n",
       "1                  Super Mario Bros.      NES             1985      Platform   \n",
       "2                     Mario Kart Wii      Wii             2008        Racing   \n",
       "3                  Wii Sports Resort      Wii             2009        Sports   \n",
       "4           Pokemon Red/Pokemon Blue       GB             1996  Role-Playing   \n",
       "...                              ...      ...              ...           ...   \n",
       "16710  Samurai Warriors: Sanada Maru      PS3             2016        Action   \n",
       "16711               LMA Manager 2007     X360             2006        Sports   \n",
       "16712        Haitaka no Psychedelica      PSV             2016     Adventure   \n",
       "16713               Spirits & Spells      GBA             2003      Platform   \n",
       "16714            Winning Post 8 2016      PSV             2016    Simulation   \n",
       "\n",
       "       na_sales  eu_sales  jp_sales  other_sales  critic_score user_score  \\\n",
       "0         41.36     28.96      3.77         8.45          76.0          8   \n",
       "1         29.08      3.58      6.81         0.77          70.0        NaN   \n",
       "2         15.68     12.76      3.79         3.29          82.0        8.3   \n",
       "3         15.61     10.93      3.28         2.95          80.0          8   \n",
       "4         11.27      8.89     10.22         1.00          70.0        NaN   \n",
       "...         ...       ...       ...          ...           ...        ...   \n",
       "16710      0.00      0.00      0.01         0.00          70.0        NaN   \n",
       "16711      0.00      0.01      0.00         0.00          70.0        NaN   \n",
       "16712      0.00      0.00      0.01         0.00          70.0        NaN   \n",
       "16713      0.01      0.00      0.00         0.00          70.0        NaN   \n",
       "16714      0.00      0.00      0.01         0.00          70.0        NaN   \n",
       "\n",
       "      rating  critic_median  \n",
       "0          E           70.0  \n",
       "1        NaN           70.0  \n",
       "2          E           70.0  \n",
       "3          E           70.0  \n",
       "4        NaN           70.0  \n",
       "...      ...            ...  \n",
       "16710    NaN           70.0  \n",
       "16711    NaN           70.0  \n",
       "16712    NaN           70.0  \n",
       "16713    NaN           70.0  \n",
       "16714    NaN           70.0  \n",
       "\n",
       "[16444 rows x 12 columns]"
      ]
     },
     "execution_count": 219,
     "metadata": {},
     "output_type": "execute_result"
    }
   ],
   "source": [
    "#Lo aplicamos y listo\n",
    "df['critic_score'] = df['critic_score'].fillna(df['critic_median']) \n",
    "df"
   ]
  },
  {
   "cell_type": "markdown",
   "metadata": {},
   "source": [
    "### Limpiando la columna 'user_score'"
   ]
  },
  {
   "cell_type": "code",
   "execution_count": 220,
   "metadata": {},
   "outputs": [],
   "source": [
    "df.loc[df['user_score'] == 'tbd', 'user_score'] = np.nan"
   ]
  },
  {
   "cell_type": "code",
   "execution_count": 221,
   "metadata": {},
   "outputs": [
    {
     "data": {
      "text/plain": [
       "array(['8', nan, '8.3', '8.5', '6.6', '8.4', '8.6', '7.7', '6.3', '7.4',\n",
       "       '8.2', '9', '7.9', '8.1', '8.7', '7.1', '3.4', '5.3', '4.8', '3.2',\n",
       "       '8.9', '6.4', '7.8', '7.5', '2.6', '7.2', '9.2', '7', '7.3', '4.3',\n",
       "       '7.6', '5.7', '5', '9.1', '6.5', '8.8', '6.9', '9.4', '6.8', '6.1',\n",
       "       '6.7', '5.4', '4', '4.9', '4.5', '9.3', '6.2', '4.2', '6', '3.7',\n",
       "       '4.1', '5.8', '5.6', '5.5', '4.4', '4.6', '5.9', '3.9', '3.1',\n",
       "       '2.9', '5.2', '3.3', '4.7', '5.1', '3.5', '2.5', '1.9', '3', '2.7',\n",
       "       '2.2', '2', '9.5', '2.1', '3.6', '2.8', '1.8', '3.8', '0', '1.6',\n",
       "       '9.6', '2.4', '1.7', '1.1', '0.3', '1.5', '0.7', '1.2', '2.3',\n",
       "       '0.5', '1.3', '0.2', '0.6', '1.4', '0.9', '1', '9.7'], dtype=object)"
      ]
     },
     "execution_count": 221,
     "metadata": {},
     "output_type": "execute_result"
    }
   ],
   "source": [
    "df['user_score'].unique()"
   ]
  },
  {
   "cell_type": "code",
   "execution_count": 222,
   "metadata": {
    "scrolled": true
   },
   "outputs": [
    {
     "data": {
      "text/html": [
       "<div>\n",
       "<style scoped>\n",
       "    .dataframe tbody tr th:only-of-type {\n",
       "        vertical-align: middle;\n",
       "    }\n",
       "\n",
       "    .dataframe tbody tr th {\n",
       "        vertical-align: top;\n",
       "    }\n",
       "\n",
       "    .dataframe thead th {\n",
       "        text-align: right;\n",
       "    }\n",
       "</style>\n",
       "<table border=\"1\" class=\"dataframe\">\n",
       "  <thead>\n",
       "    <tr style=\"text-align: right;\">\n",
       "      <th></th>\n",
       "      <th>user_score</th>\n",
       "    </tr>\n",
       "    <tr>\n",
       "      <th>genre</th>\n",
       "      <th></th>\n",
       "    </tr>\n",
       "  </thead>\n",
       "  <tbody>\n",
       "    <tr>\n",
       "      <th>Role-Playing</th>\n",
       "      <td>7.8</td>\n",
       "    </tr>\n",
       "    <tr>\n",
       "      <th>Strategy</th>\n",
       "      <td>7.8</td>\n",
       "    </tr>\n",
       "    <tr>\n",
       "      <th>Platform</th>\n",
       "      <td>7.7</td>\n",
       "    </tr>\n",
       "    <tr>\n",
       "      <th>Adventure</th>\n",
       "      <td>7.6</td>\n",
       "    </tr>\n",
       "    <tr>\n",
       "      <th>Fighting</th>\n",
       "      <td>7.6</td>\n",
       "    </tr>\n",
       "    <tr>\n",
       "      <th>Puzzle</th>\n",
       "      <td>7.5</td>\n",
       "    </tr>\n",
       "    <tr>\n",
       "      <th>Simulation</th>\n",
       "      <td>7.5</td>\n",
       "    </tr>\n",
       "    <tr>\n",
       "      <th>Action</th>\n",
       "      <td>7.4</td>\n",
       "    </tr>\n",
       "    <tr>\n",
       "      <th>Racing</th>\n",
       "      <td>7.4</td>\n",
       "    </tr>\n",
       "    <tr>\n",
       "      <th>Shooter</th>\n",
       "      <td>7.4</td>\n",
       "    </tr>\n",
       "    <tr>\n",
       "      <th>Sports</th>\n",
       "      <td>7.4</td>\n",
       "    </tr>\n",
       "    <tr>\n",
       "      <th>Misc</th>\n",
       "      <td>7.1</td>\n",
       "    </tr>\n",
       "  </tbody>\n",
       "</table>\n",
       "</div>"
      ],
      "text/plain": [
       "              user_score\n",
       "genre                   \n",
       "Role-Playing         7.8\n",
       "Strategy             7.8\n",
       "Platform             7.7\n",
       "Adventure            7.6\n",
       "Fighting             7.6\n",
       "Puzzle               7.5\n",
       "Simulation           7.5\n",
       "Action               7.4\n",
       "Racing               7.4\n",
       "Shooter              7.4\n",
       "Sports               7.4\n",
       "Misc                 7.1"
      ]
     },
     "execution_count": 222,
     "metadata": {},
     "output_type": "execute_result"
    }
   ],
   "source": [
    "df['user_score'] = pd.to_numeric(df['user_score'], errors='coerce')\n",
    "\n",
    "#Hacemos un df con la columa sin valores nan\n",
    "score_without_null = df[df['user_score'].notnull()]\n",
    "\n",
    "#Creamos una tabla\n",
    "score_median = score_without_null.pivot_table(index='genre', values='user_score', aggfunc='median')\n",
    "\n",
    "#Los ordenamos por la puntuación\n",
    "score_median.sort_values(by='user_score', ascending=False)"
   ]
  },
  {
   "cell_type": "code",
   "execution_count": 223,
   "metadata": {},
   "outputs": [],
   "source": [
    "def get_median_score(genre):\n",
    "    return score_median['user_score'][genre]"
   ]
  },
  {
   "cell_type": "code",
   "execution_count": 224,
   "metadata": {},
   "outputs": [
    {
     "data": {
      "text/html": [
       "<div>\n",
       "<style scoped>\n",
       "    .dataframe tbody tr th:only-of-type {\n",
       "        vertical-align: middle;\n",
       "    }\n",
       "\n",
       "    .dataframe tbody tr th {\n",
       "        vertical-align: top;\n",
       "    }\n",
       "\n",
       "    .dataframe thead th {\n",
       "        text-align: right;\n",
       "    }\n",
       "</style>\n",
       "<table border=\"1\" class=\"dataframe\">\n",
       "  <thead>\n",
       "    <tr style=\"text-align: right;\">\n",
       "      <th></th>\n",
       "      <th>name</th>\n",
       "      <th>platform</th>\n",
       "      <th>year_of_release</th>\n",
       "      <th>genre</th>\n",
       "      <th>na_sales</th>\n",
       "      <th>eu_sales</th>\n",
       "      <th>jp_sales</th>\n",
       "      <th>other_sales</th>\n",
       "      <th>critic_score</th>\n",
       "      <th>user_score</th>\n",
       "      <th>rating</th>\n",
       "      <th>critic_median</th>\n",
       "      <th>user_median</th>\n",
       "    </tr>\n",
       "  </thead>\n",
       "  <tbody>\n",
       "    <tr>\n",
       "      <th>0</th>\n",
       "      <td>Wii Sports</td>\n",
       "      <td>Wii</td>\n",
       "      <td>2006</td>\n",
       "      <td>Sports</td>\n",
       "      <td>41.36</td>\n",
       "      <td>28.96</td>\n",
       "      <td>3.77</td>\n",
       "      <td>8.45</td>\n",
       "      <td>76.0</td>\n",
       "      <td>8.0</td>\n",
       "      <td>E</td>\n",
       "      <td>70.0</td>\n",
       "      <td>7.4</td>\n",
       "    </tr>\n",
       "    <tr>\n",
       "      <th>1</th>\n",
       "      <td>Super Mario Bros.</td>\n",
       "      <td>NES</td>\n",
       "      <td>1985</td>\n",
       "      <td>Platform</td>\n",
       "      <td>29.08</td>\n",
       "      <td>3.58</td>\n",
       "      <td>6.81</td>\n",
       "      <td>0.77</td>\n",
       "      <td>70.0</td>\n",
       "      <td>NaN</td>\n",
       "      <td>NaN</td>\n",
       "      <td>70.0</td>\n",
       "      <td>7.7</td>\n",
       "    </tr>\n",
       "    <tr>\n",
       "      <th>2</th>\n",
       "      <td>Mario Kart Wii</td>\n",
       "      <td>Wii</td>\n",
       "      <td>2008</td>\n",
       "      <td>Racing</td>\n",
       "      <td>15.68</td>\n",
       "      <td>12.76</td>\n",
       "      <td>3.79</td>\n",
       "      <td>3.29</td>\n",
       "      <td>82.0</td>\n",
       "      <td>8.3</td>\n",
       "      <td>E</td>\n",
       "      <td>70.0</td>\n",
       "      <td>7.4</td>\n",
       "    </tr>\n",
       "    <tr>\n",
       "      <th>3</th>\n",
       "      <td>Wii Sports Resort</td>\n",
       "      <td>Wii</td>\n",
       "      <td>2009</td>\n",
       "      <td>Sports</td>\n",
       "      <td>15.61</td>\n",
       "      <td>10.93</td>\n",
       "      <td>3.28</td>\n",
       "      <td>2.95</td>\n",
       "      <td>80.0</td>\n",
       "      <td>8.0</td>\n",
       "      <td>E</td>\n",
       "      <td>70.0</td>\n",
       "      <td>7.4</td>\n",
       "    </tr>\n",
       "    <tr>\n",
       "      <th>4</th>\n",
       "      <td>Pokemon Red/Pokemon Blue</td>\n",
       "      <td>GB</td>\n",
       "      <td>1996</td>\n",
       "      <td>Role-Playing</td>\n",
       "      <td>11.27</td>\n",
       "      <td>8.89</td>\n",
       "      <td>10.22</td>\n",
       "      <td>1.00</td>\n",
       "      <td>70.0</td>\n",
       "      <td>NaN</td>\n",
       "      <td>NaN</td>\n",
       "      <td>70.0</td>\n",
       "      <td>7.8</td>\n",
       "    </tr>\n",
       "    <tr>\n",
       "      <th>...</th>\n",
       "      <td>...</td>\n",
       "      <td>...</td>\n",
       "      <td>...</td>\n",
       "      <td>...</td>\n",
       "      <td>...</td>\n",
       "      <td>...</td>\n",
       "      <td>...</td>\n",
       "      <td>...</td>\n",
       "      <td>...</td>\n",
       "      <td>...</td>\n",
       "      <td>...</td>\n",
       "      <td>...</td>\n",
       "      <td>...</td>\n",
       "    </tr>\n",
       "    <tr>\n",
       "      <th>16710</th>\n",
       "      <td>Samurai Warriors: Sanada Maru</td>\n",
       "      <td>PS3</td>\n",
       "      <td>2016</td>\n",
       "      <td>Action</td>\n",
       "      <td>0.00</td>\n",
       "      <td>0.00</td>\n",
       "      <td>0.01</td>\n",
       "      <td>0.00</td>\n",
       "      <td>70.0</td>\n",
       "      <td>NaN</td>\n",
       "      <td>NaN</td>\n",
       "      <td>70.0</td>\n",
       "      <td>7.4</td>\n",
       "    </tr>\n",
       "    <tr>\n",
       "      <th>16711</th>\n",
       "      <td>LMA Manager 2007</td>\n",
       "      <td>X360</td>\n",
       "      <td>2006</td>\n",
       "      <td>Sports</td>\n",
       "      <td>0.00</td>\n",
       "      <td>0.01</td>\n",
       "      <td>0.00</td>\n",
       "      <td>0.00</td>\n",
       "      <td>70.0</td>\n",
       "      <td>NaN</td>\n",
       "      <td>NaN</td>\n",
       "      <td>70.0</td>\n",
       "      <td>7.4</td>\n",
       "    </tr>\n",
       "    <tr>\n",
       "      <th>16712</th>\n",
       "      <td>Haitaka no Psychedelica</td>\n",
       "      <td>PSV</td>\n",
       "      <td>2016</td>\n",
       "      <td>Adventure</td>\n",
       "      <td>0.00</td>\n",
       "      <td>0.00</td>\n",
       "      <td>0.01</td>\n",
       "      <td>0.00</td>\n",
       "      <td>70.0</td>\n",
       "      <td>NaN</td>\n",
       "      <td>NaN</td>\n",
       "      <td>70.0</td>\n",
       "      <td>7.6</td>\n",
       "    </tr>\n",
       "    <tr>\n",
       "      <th>16713</th>\n",
       "      <td>Spirits &amp; Spells</td>\n",
       "      <td>GBA</td>\n",
       "      <td>2003</td>\n",
       "      <td>Platform</td>\n",
       "      <td>0.01</td>\n",
       "      <td>0.00</td>\n",
       "      <td>0.00</td>\n",
       "      <td>0.00</td>\n",
       "      <td>70.0</td>\n",
       "      <td>NaN</td>\n",
       "      <td>NaN</td>\n",
       "      <td>70.0</td>\n",
       "      <td>7.7</td>\n",
       "    </tr>\n",
       "    <tr>\n",
       "      <th>16714</th>\n",
       "      <td>Winning Post 8 2016</td>\n",
       "      <td>PSV</td>\n",
       "      <td>2016</td>\n",
       "      <td>Simulation</td>\n",
       "      <td>0.00</td>\n",
       "      <td>0.00</td>\n",
       "      <td>0.01</td>\n",
       "      <td>0.00</td>\n",
       "      <td>70.0</td>\n",
       "      <td>NaN</td>\n",
       "      <td>NaN</td>\n",
       "      <td>70.0</td>\n",
       "      <td>7.5</td>\n",
       "    </tr>\n",
       "  </tbody>\n",
       "</table>\n",
       "<p>16444 rows × 13 columns</p>\n",
       "</div>"
      ],
      "text/plain": [
       "                                name platform  year_of_release         genre  \\\n",
       "0                         Wii Sports      Wii             2006        Sports   \n",
       "1                  Super Mario Bros.      NES             1985      Platform   \n",
       "2                     Mario Kart Wii      Wii             2008        Racing   \n",
       "3                  Wii Sports Resort      Wii             2009        Sports   \n",
       "4           Pokemon Red/Pokemon Blue       GB             1996  Role-Playing   \n",
       "...                              ...      ...              ...           ...   \n",
       "16710  Samurai Warriors: Sanada Maru      PS3             2016        Action   \n",
       "16711               LMA Manager 2007     X360             2006        Sports   \n",
       "16712        Haitaka no Psychedelica      PSV             2016     Adventure   \n",
       "16713               Spirits & Spells      GBA             2003      Platform   \n",
       "16714            Winning Post 8 2016      PSV             2016    Simulation   \n",
       "\n",
       "       na_sales  eu_sales  jp_sales  other_sales  critic_score  user_score  \\\n",
       "0         41.36     28.96      3.77         8.45          76.0         8.0   \n",
       "1         29.08      3.58      6.81         0.77          70.0         NaN   \n",
       "2         15.68     12.76      3.79         3.29          82.0         8.3   \n",
       "3         15.61     10.93      3.28         2.95          80.0         8.0   \n",
       "4         11.27      8.89     10.22         1.00          70.0         NaN   \n",
       "...         ...       ...       ...          ...           ...         ...   \n",
       "16710      0.00      0.00      0.01         0.00          70.0         NaN   \n",
       "16711      0.00      0.01      0.00         0.00          70.0         NaN   \n",
       "16712      0.00      0.00      0.01         0.00          70.0         NaN   \n",
       "16713      0.01      0.00      0.00         0.00          70.0         NaN   \n",
       "16714      0.00      0.00      0.01         0.00          70.0         NaN   \n",
       "\n",
       "      rating  critic_median  user_median  \n",
       "0          E           70.0          7.4  \n",
       "1        NaN           70.0          7.7  \n",
       "2          E           70.0          7.4  \n",
       "3          E           70.0          7.4  \n",
       "4        NaN           70.0          7.8  \n",
       "...      ...            ...          ...  \n",
       "16710    NaN           70.0          7.4  \n",
       "16711    NaN           70.0          7.4  \n",
       "16712    NaN           70.0          7.6  \n",
       "16713    NaN           70.0          7.7  \n",
       "16714    NaN           70.0          7.5  \n",
       "\n",
       "[16444 rows x 13 columns]"
      ]
     },
     "execution_count": 224,
     "metadata": {},
     "output_type": "execute_result"
    }
   ],
   "source": [
    "df['user_median'] = df['genre'].apply(get_median_score)\n",
    "df"
   ]
  },
  {
   "cell_type": "code",
   "execution_count": 225,
   "metadata": {},
   "outputs": [
    {
     "data": {
      "text/html": [
       "<div>\n",
       "<style scoped>\n",
       "    .dataframe tbody tr th:only-of-type {\n",
       "        vertical-align: middle;\n",
       "    }\n",
       "\n",
       "    .dataframe tbody tr th {\n",
       "        vertical-align: top;\n",
       "    }\n",
       "\n",
       "    .dataframe thead th {\n",
       "        text-align: right;\n",
       "    }\n",
       "</style>\n",
       "<table border=\"1\" class=\"dataframe\">\n",
       "  <thead>\n",
       "    <tr style=\"text-align: right;\">\n",
       "      <th></th>\n",
       "      <th>name</th>\n",
       "      <th>platform</th>\n",
       "      <th>year_of_release</th>\n",
       "      <th>genre</th>\n",
       "      <th>na_sales</th>\n",
       "      <th>eu_sales</th>\n",
       "      <th>jp_sales</th>\n",
       "      <th>other_sales</th>\n",
       "      <th>critic_score</th>\n",
       "      <th>user_score</th>\n",
       "      <th>rating</th>\n",
       "      <th>critic_median</th>\n",
       "      <th>user_median</th>\n",
       "    </tr>\n",
       "  </thead>\n",
       "  <tbody>\n",
       "    <tr>\n",
       "      <th>0</th>\n",
       "      <td>Wii Sports</td>\n",
       "      <td>Wii</td>\n",
       "      <td>2006</td>\n",
       "      <td>Sports</td>\n",
       "      <td>41.36</td>\n",
       "      <td>28.96</td>\n",
       "      <td>3.77</td>\n",
       "      <td>8.45</td>\n",
       "      <td>76.0</td>\n",
       "      <td>8.0</td>\n",
       "      <td>E</td>\n",
       "      <td>70.0</td>\n",
       "      <td>7.4</td>\n",
       "    </tr>\n",
       "    <tr>\n",
       "      <th>1</th>\n",
       "      <td>Super Mario Bros.</td>\n",
       "      <td>NES</td>\n",
       "      <td>1985</td>\n",
       "      <td>Platform</td>\n",
       "      <td>29.08</td>\n",
       "      <td>3.58</td>\n",
       "      <td>6.81</td>\n",
       "      <td>0.77</td>\n",
       "      <td>70.0</td>\n",
       "      <td>7.7</td>\n",
       "      <td>NaN</td>\n",
       "      <td>70.0</td>\n",
       "      <td>7.7</td>\n",
       "    </tr>\n",
       "    <tr>\n",
       "      <th>2</th>\n",
       "      <td>Mario Kart Wii</td>\n",
       "      <td>Wii</td>\n",
       "      <td>2008</td>\n",
       "      <td>Racing</td>\n",
       "      <td>15.68</td>\n",
       "      <td>12.76</td>\n",
       "      <td>3.79</td>\n",
       "      <td>3.29</td>\n",
       "      <td>82.0</td>\n",
       "      <td>8.3</td>\n",
       "      <td>E</td>\n",
       "      <td>70.0</td>\n",
       "      <td>7.4</td>\n",
       "    </tr>\n",
       "    <tr>\n",
       "      <th>3</th>\n",
       "      <td>Wii Sports Resort</td>\n",
       "      <td>Wii</td>\n",
       "      <td>2009</td>\n",
       "      <td>Sports</td>\n",
       "      <td>15.61</td>\n",
       "      <td>10.93</td>\n",
       "      <td>3.28</td>\n",
       "      <td>2.95</td>\n",
       "      <td>80.0</td>\n",
       "      <td>8.0</td>\n",
       "      <td>E</td>\n",
       "      <td>70.0</td>\n",
       "      <td>7.4</td>\n",
       "    </tr>\n",
       "    <tr>\n",
       "      <th>4</th>\n",
       "      <td>Pokemon Red/Pokemon Blue</td>\n",
       "      <td>GB</td>\n",
       "      <td>1996</td>\n",
       "      <td>Role-Playing</td>\n",
       "      <td>11.27</td>\n",
       "      <td>8.89</td>\n",
       "      <td>10.22</td>\n",
       "      <td>1.00</td>\n",
       "      <td>70.0</td>\n",
       "      <td>7.8</td>\n",
       "      <td>NaN</td>\n",
       "      <td>70.0</td>\n",
       "      <td>7.8</td>\n",
       "    </tr>\n",
       "    <tr>\n",
       "      <th>...</th>\n",
       "      <td>...</td>\n",
       "      <td>...</td>\n",
       "      <td>...</td>\n",
       "      <td>...</td>\n",
       "      <td>...</td>\n",
       "      <td>...</td>\n",
       "      <td>...</td>\n",
       "      <td>...</td>\n",
       "      <td>...</td>\n",
       "      <td>...</td>\n",
       "      <td>...</td>\n",
       "      <td>...</td>\n",
       "      <td>...</td>\n",
       "    </tr>\n",
       "    <tr>\n",
       "      <th>16710</th>\n",
       "      <td>Samurai Warriors: Sanada Maru</td>\n",
       "      <td>PS3</td>\n",
       "      <td>2016</td>\n",
       "      <td>Action</td>\n",
       "      <td>0.00</td>\n",
       "      <td>0.00</td>\n",
       "      <td>0.01</td>\n",
       "      <td>0.00</td>\n",
       "      <td>70.0</td>\n",
       "      <td>7.4</td>\n",
       "      <td>NaN</td>\n",
       "      <td>70.0</td>\n",
       "      <td>7.4</td>\n",
       "    </tr>\n",
       "    <tr>\n",
       "      <th>16711</th>\n",
       "      <td>LMA Manager 2007</td>\n",
       "      <td>X360</td>\n",
       "      <td>2006</td>\n",
       "      <td>Sports</td>\n",
       "      <td>0.00</td>\n",
       "      <td>0.01</td>\n",
       "      <td>0.00</td>\n",
       "      <td>0.00</td>\n",
       "      <td>70.0</td>\n",
       "      <td>7.4</td>\n",
       "      <td>NaN</td>\n",
       "      <td>70.0</td>\n",
       "      <td>7.4</td>\n",
       "    </tr>\n",
       "    <tr>\n",
       "      <th>16712</th>\n",
       "      <td>Haitaka no Psychedelica</td>\n",
       "      <td>PSV</td>\n",
       "      <td>2016</td>\n",
       "      <td>Adventure</td>\n",
       "      <td>0.00</td>\n",
       "      <td>0.00</td>\n",
       "      <td>0.01</td>\n",
       "      <td>0.00</td>\n",
       "      <td>70.0</td>\n",
       "      <td>7.6</td>\n",
       "      <td>NaN</td>\n",
       "      <td>70.0</td>\n",
       "      <td>7.6</td>\n",
       "    </tr>\n",
       "    <tr>\n",
       "      <th>16713</th>\n",
       "      <td>Spirits &amp; Spells</td>\n",
       "      <td>GBA</td>\n",
       "      <td>2003</td>\n",
       "      <td>Platform</td>\n",
       "      <td>0.01</td>\n",
       "      <td>0.00</td>\n",
       "      <td>0.00</td>\n",
       "      <td>0.00</td>\n",
       "      <td>70.0</td>\n",
       "      <td>7.7</td>\n",
       "      <td>NaN</td>\n",
       "      <td>70.0</td>\n",
       "      <td>7.7</td>\n",
       "    </tr>\n",
       "    <tr>\n",
       "      <th>16714</th>\n",
       "      <td>Winning Post 8 2016</td>\n",
       "      <td>PSV</td>\n",
       "      <td>2016</td>\n",
       "      <td>Simulation</td>\n",
       "      <td>0.00</td>\n",
       "      <td>0.00</td>\n",
       "      <td>0.01</td>\n",
       "      <td>0.00</td>\n",
       "      <td>70.0</td>\n",
       "      <td>7.5</td>\n",
       "      <td>NaN</td>\n",
       "      <td>70.0</td>\n",
       "      <td>7.5</td>\n",
       "    </tr>\n",
       "  </tbody>\n",
       "</table>\n",
       "<p>16444 rows × 13 columns</p>\n",
       "</div>"
      ],
      "text/plain": [
       "                                name platform  year_of_release         genre  \\\n",
       "0                         Wii Sports      Wii             2006        Sports   \n",
       "1                  Super Mario Bros.      NES             1985      Platform   \n",
       "2                     Mario Kart Wii      Wii             2008        Racing   \n",
       "3                  Wii Sports Resort      Wii             2009        Sports   \n",
       "4           Pokemon Red/Pokemon Blue       GB             1996  Role-Playing   \n",
       "...                              ...      ...              ...           ...   \n",
       "16710  Samurai Warriors: Sanada Maru      PS3             2016        Action   \n",
       "16711               LMA Manager 2007     X360             2006        Sports   \n",
       "16712        Haitaka no Psychedelica      PSV             2016     Adventure   \n",
       "16713               Spirits & Spells      GBA             2003      Platform   \n",
       "16714            Winning Post 8 2016      PSV             2016    Simulation   \n",
       "\n",
       "       na_sales  eu_sales  jp_sales  other_sales  critic_score  user_score  \\\n",
       "0         41.36     28.96      3.77         8.45          76.0         8.0   \n",
       "1         29.08      3.58      6.81         0.77          70.0         7.7   \n",
       "2         15.68     12.76      3.79         3.29          82.0         8.3   \n",
       "3         15.61     10.93      3.28         2.95          80.0         8.0   \n",
       "4         11.27      8.89     10.22         1.00          70.0         7.8   \n",
       "...         ...       ...       ...          ...           ...         ...   \n",
       "16710      0.00      0.00      0.01         0.00          70.0         7.4   \n",
       "16711      0.00      0.01      0.00         0.00          70.0         7.4   \n",
       "16712      0.00      0.00      0.01         0.00          70.0         7.6   \n",
       "16713      0.01      0.00      0.00         0.00          70.0         7.7   \n",
       "16714      0.00      0.00      0.01         0.00          70.0         7.5   \n",
       "\n",
       "      rating  critic_median  user_median  \n",
       "0          E           70.0          7.4  \n",
       "1        NaN           70.0          7.7  \n",
       "2          E           70.0          7.4  \n",
       "3          E           70.0          7.4  \n",
       "4        NaN           70.0          7.8  \n",
       "...      ...            ...          ...  \n",
       "16710    NaN           70.0          7.4  \n",
       "16711    NaN           70.0          7.4  \n",
       "16712    NaN           70.0          7.6  \n",
       "16713    NaN           70.0          7.7  \n",
       "16714    NaN           70.0          7.5  \n",
       "\n",
       "[16444 rows x 13 columns]"
      ]
     },
     "execution_count": 225,
     "metadata": {},
     "output_type": "execute_result"
    }
   ],
   "source": [
    "df['user_score'] = df['user_score'].fillna(df['user_median'])\n",
    "df"
   ]
  },
  {
   "cell_type": "code",
   "execution_count": 226,
   "metadata": {},
   "outputs": [
    {
     "data": {
      "text/plain": [
       "name                  0\n",
       "platform              0\n",
       "year_of_release       0\n",
       "genre                 0\n",
       "na_sales              0\n",
       "eu_sales              0\n",
       "jp_sales              0\n",
       "other_sales           0\n",
       "critic_score          0\n",
       "user_score            0\n",
       "rating             6676\n",
       "critic_median         0\n",
       "user_median           0\n",
       "dtype: int64"
      ]
     },
     "execution_count": 226,
     "metadata": {},
     "output_type": "execute_result"
    }
   ],
   "source": [
    "df.isna().sum()"
   ]
  },
  {
   "cell_type": "markdown",
   "metadata": {},
   "source": [
    "### Limpiando a coluna 'rating'"
   ]
  },
  {
   "cell_type": "code",
   "execution_count": 227,
   "metadata": {},
   "outputs": [
    {
     "data": {
      "text/plain": [
       "array(['AO', 'E', 'E10+', 'EC', 'K-A', 'M', 'RP', 'T', nan], dtype=object)"
      ]
     },
     "execution_count": 227,
     "metadata": {},
     "output_type": "execute_result"
    }
   ],
   "source": [
    "df['rating'].sort_values().unique()"
   ]
  },
  {
   "cell_type": "code",
   "execution_count": 228,
   "metadata": {},
   "outputs": [],
   "source": [
    "df['rating_id'] = df['rating']"
   ]
  },
  {
   "cell_type": "code",
   "execution_count": 229,
   "metadata": {},
   "outputs": [
    {
     "data": {
      "text/html": [
       "<div>\n",
       "<style scoped>\n",
       "    .dataframe tbody tr th:only-of-type {\n",
       "        vertical-align: middle;\n",
       "    }\n",
       "\n",
       "    .dataframe tbody tr th {\n",
       "        vertical-align: top;\n",
       "    }\n",
       "\n",
       "    .dataframe thead th {\n",
       "        text-align: right;\n",
       "    }\n",
       "</style>\n",
       "<table border=\"1\" class=\"dataframe\">\n",
       "  <thead>\n",
       "    <tr style=\"text-align: right;\">\n",
       "      <th></th>\n",
       "      <th>name</th>\n",
       "      <th>platform</th>\n",
       "      <th>year_of_release</th>\n",
       "      <th>genre</th>\n",
       "      <th>na_sales</th>\n",
       "      <th>eu_sales</th>\n",
       "      <th>jp_sales</th>\n",
       "      <th>other_sales</th>\n",
       "      <th>critic_score</th>\n",
       "      <th>user_score</th>\n",
       "      <th>rating</th>\n",
       "      <th>critic_median</th>\n",
       "      <th>user_median</th>\n",
       "      <th>rating_id</th>\n",
       "    </tr>\n",
       "  </thead>\n",
       "  <tbody>\n",
       "    <tr>\n",
       "      <th>0</th>\n",
       "      <td>Wii Sports</td>\n",
       "      <td>Wii</td>\n",
       "      <td>2006</td>\n",
       "      <td>Sports</td>\n",
       "      <td>41.36</td>\n",
       "      <td>28.96</td>\n",
       "      <td>3.77</td>\n",
       "      <td>8.45</td>\n",
       "      <td>76.0</td>\n",
       "      <td>8.0</td>\n",
       "      <td>E</td>\n",
       "      <td>70.0</td>\n",
       "      <td>7.4</td>\n",
       "      <td>1.0</td>\n",
       "    </tr>\n",
       "    <tr>\n",
       "      <th>2</th>\n",
       "      <td>Mario Kart Wii</td>\n",
       "      <td>Wii</td>\n",
       "      <td>2008</td>\n",
       "      <td>Racing</td>\n",
       "      <td>15.68</td>\n",
       "      <td>12.76</td>\n",
       "      <td>3.79</td>\n",
       "      <td>3.29</td>\n",
       "      <td>82.0</td>\n",
       "      <td>8.3</td>\n",
       "      <td>E</td>\n",
       "      <td>70.0</td>\n",
       "      <td>7.4</td>\n",
       "      <td>1.0</td>\n",
       "    </tr>\n",
       "    <tr>\n",
       "      <th>3</th>\n",
       "      <td>Wii Sports Resort</td>\n",
       "      <td>Wii</td>\n",
       "      <td>2009</td>\n",
       "      <td>Sports</td>\n",
       "      <td>15.61</td>\n",
       "      <td>10.93</td>\n",
       "      <td>3.28</td>\n",
       "      <td>2.95</td>\n",
       "      <td>80.0</td>\n",
       "      <td>8.0</td>\n",
       "      <td>E</td>\n",
       "      <td>70.0</td>\n",
       "      <td>7.4</td>\n",
       "      <td>1.0</td>\n",
       "    </tr>\n",
       "    <tr>\n",
       "      <th>6</th>\n",
       "      <td>New Super Mario Bros.</td>\n",
       "      <td>DS</td>\n",
       "      <td>2006</td>\n",
       "      <td>Platform</td>\n",
       "      <td>11.28</td>\n",
       "      <td>9.14</td>\n",
       "      <td>6.50</td>\n",
       "      <td>2.88</td>\n",
       "      <td>89.0</td>\n",
       "      <td>8.5</td>\n",
       "      <td>E</td>\n",
       "      <td>70.0</td>\n",
       "      <td>7.7</td>\n",
       "      <td>1.0</td>\n",
       "    </tr>\n",
       "    <tr>\n",
       "      <th>7</th>\n",
       "      <td>Wii Play</td>\n",
       "      <td>Wii</td>\n",
       "      <td>2006</td>\n",
       "      <td>Misc</td>\n",
       "      <td>13.96</td>\n",
       "      <td>9.18</td>\n",
       "      <td>2.93</td>\n",
       "      <td>2.84</td>\n",
       "      <td>58.0</td>\n",
       "      <td>6.6</td>\n",
       "      <td>E</td>\n",
       "      <td>70.0</td>\n",
       "      <td>7.1</td>\n",
       "      <td>1.0</td>\n",
       "    </tr>\n",
       "    <tr>\n",
       "      <th>...</th>\n",
       "      <td>...</td>\n",
       "      <td>...</td>\n",
       "      <td>...</td>\n",
       "      <td>...</td>\n",
       "      <td>...</td>\n",
       "      <td>...</td>\n",
       "      <td>...</td>\n",
       "      <td>...</td>\n",
       "      <td>...</td>\n",
       "      <td>...</td>\n",
       "      <td>...</td>\n",
       "      <td>...</td>\n",
       "      <td>...</td>\n",
       "      <td>...</td>\n",
       "    </tr>\n",
       "    <tr>\n",
       "      <th>16663</th>\n",
       "      <td>E.T. The Extra-Terrestrial</td>\n",
       "      <td>GBA</td>\n",
       "      <td>2001</td>\n",
       "      <td>Action</td>\n",
       "      <td>0.01</td>\n",
       "      <td>0.00</td>\n",
       "      <td>0.00</td>\n",
       "      <td>0.00</td>\n",
       "      <td>46.0</td>\n",
       "      <td>2.4</td>\n",
       "      <td>E</td>\n",
       "      <td>70.0</td>\n",
       "      <td>7.4</td>\n",
       "      <td>1.0</td>\n",
       "    </tr>\n",
       "    <tr>\n",
       "      <th>16695</th>\n",
       "      <td>Planet Monsters</td>\n",
       "      <td>GBA</td>\n",
       "      <td>2001</td>\n",
       "      <td>Action</td>\n",
       "      <td>0.01</td>\n",
       "      <td>0.00</td>\n",
       "      <td>0.00</td>\n",
       "      <td>0.00</td>\n",
       "      <td>67.0</td>\n",
       "      <td>7.4</td>\n",
       "      <td>E</td>\n",
       "      <td>70.0</td>\n",
       "      <td>7.4</td>\n",
       "      <td>1.0</td>\n",
       "    </tr>\n",
       "    <tr>\n",
       "      <th>16697</th>\n",
       "      <td>Bust-A-Move 3000</td>\n",
       "      <td>GC</td>\n",
       "      <td>2003</td>\n",
       "      <td>Puzzle</td>\n",
       "      <td>0.01</td>\n",
       "      <td>0.00</td>\n",
       "      <td>0.00</td>\n",
       "      <td>0.00</td>\n",
       "      <td>53.0</td>\n",
       "      <td>7.5</td>\n",
       "      <td>E</td>\n",
       "      <td>70.0</td>\n",
       "      <td>7.5</td>\n",
       "      <td>1.0</td>\n",
       "    </tr>\n",
       "    <tr>\n",
       "      <th>16698</th>\n",
       "      <td>Mega Brain Boost</td>\n",
       "      <td>DS</td>\n",
       "      <td>2008</td>\n",
       "      <td>Puzzle</td>\n",
       "      <td>0.01</td>\n",
       "      <td>0.00</td>\n",
       "      <td>0.00</td>\n",
       "      <td>0.00</td>\n",
       "      <td>48.0</td>\n",
       "      <td>7.5</td>\n",
       "      <td>E</td>\n",
       "      <td>70.0</td>\n",
       "      <td>7.5</td>\n",
       "      <td>1.0</td>\n",
       "    </tr>\n",
       "    <tr>\n",
       "      <th>16704</th>\n",
       "      <td>Plushees</td>\n",
       "      <td>DS</td>\n",
       "      <td>2008</td>\n",
       "      <td>Simulation</td>\n",
       "      <td>0.01</td>\n",
       "      <td>0.00</td>\n",
       "      <td>0.00</td>\n",
       "      <td>0.00</td>\n",
       "      <td>70.0</td>\n",
       "      <td>7.5</td>\n",
       "      <td>E</td>\n",
       "      <td>70.0</td>\n",
       "      <td>7.5</td>\n",
       "      <td>1.0</td>\n",
       "    </tr>\n",
       "  </tbody>\n",
       "</table>\n",
       "<p>3921 rows × 14 columns</p>\n",
       "</div>"
      ],
      "text/plain": [
       "                             name platform  year_of_release       genre  \\\n",
       "0                      Wii Sports      Wii             2006      Sports   \n",
       "2                  Mario Kart Wii      Wii             2008      Racing   \n",
       "3               Wii Sports Resort      Wii             2009      Sports   \n",
       "6           New Super Mario Bros.       DS             2006    Platform   \n",
       "7                        Wii Play      Wii             2006        Misc   \n",
       "...                           ...      ...              ...         ...   \n",
       "16663  E.T. The Extra-Terrestrial      GBA             2001      Action   \n",
       "16695             Planet Monsters      GBA             2001      Action   \n",
       "16697            Bust-A-Move 3000       GC             2003      Puzzle   \n",
       "16698            Mega Brain Boost       DS             2008      Puzzle   \n",
       "16704                    Plushees       DS             2008  Simulation   \n",
       "\n",
       "       na_sales  eu_sales  jp_sales  other_sales  critic_score  user_score  \\\n",
       "0         41.36     28.96      3.77         8.45          76.0         8.0   \n",
       "2         15.68     12.76      3.79         3.29          82.0         8.3   \n",
       "3         15.61     10.93      3.28         2.95          80.0         8.0   \n",
       "6         11.28      9.14      6.50         2.88          89.0         8.5   \n",
       "7         13.96      9.18      2.93         2.84          58.0         6.6   \n",
       "...         ...       ...       ...          ...           ...         ...   \n",
       "16663      0.01      0.00      0.00         0.00          46.0         2.4   \n",
       "16695      0.01      0.00      0.00         0.00          67.0         7.4   \n",
       "16697      0.01      0.00      0.00         0.00          53.0         7.5   \n",
       "16698      0.01      0.00      0.00         0.00          48.0         7.5   \n",
       "16704      0.01      0.00      0.00         0.00          70.0         7.5   \n",
       "\n",
       "      rating  critic_median  user_median  rating_id  \n",
       "0          E           70.0          7.4        1.0  \n",
       "2          E           70.0          7.4        1.0  \n",
       "3          E           70.0          7.4        1.0  \n",
       "6          E           70.0          7.7        1.0  \n",
       "7          E           70.0          7.1        1.0  \n",
       "...      ...            ...          ...        ...  \n",
       "16663      E           70.0          7.4        1.0  \n",
       "16695      E           70.0          7.4        1.0  \n",
       "16697      E           70.0          7.5        1.0  \n",
       "16698      E           70.0          7.5        1.0  \n",
       "16704      E           70.0          7.5        1.0  \n",
       "\n",
       "[3921 rows x 14 columns]"
      ]
     },
     "execution_count": 229,
     "metadata": {},
     "output_type": "execute_result"
    }
   ],
   "source": [
    "rating = ['AO', 'E', 'E10+', 'EC', 'K-A', 'M', 'RP', 'T']\n",
    "rating_value = [0, 1, 2, 3, 4, 5, 6, 7]\n",
    "df['rating_id']= df['rating_id'].replace(rating, rating_value)\n",
    "\n",
    "#Comprobamos que se creo bien la columna\n",
    "df[df['rating']=='E']"
   ]
  },
  {
   "cell_type": "code",
   "execution_count": 230,
   "metadata": {},
   "outputs": [
    {
     "data": {
      "text/html": [
       "<div>\n",
       "<style scoped>\n",
       "    .dataframe tbody tr th:only-of-type {\n",
       "        vertical-align: middle;\n",
       "    }\n",
       "\n",
       "    .dataframe tbody tr th {\n",
       "        vertical-align: top;\n",
       "    }\n",
       "\n",
       "    .dataframe thead th {\n",
       "        text-align: right;\n",
       "    }\n",
       "</style>\n",
       "<table border=\"1\" class=\"dataframe\">\n",
       "  <thead>\n",
       "    <tr style=\"text-align: right;\">\n",
       "      <th></th>\n",
       "      <th>rating_id</th>\n",
       "    </tr>\n",
       "    <tr>\n",
       "      <th>genre</th>\n",
       "      <th></th>\n",
       "    </tr>\n",
       "  </thead>\n",
       "  <tbody>\n",
       "    <tr>\n",
       "      <th>Action</th>\n",
       "      <td>5.0</td>\n",
       "    </tr>\n",
       "    <tr>\n",
       "      <th>Adventure</th>\n",
       "      <td>2.0</td>\n",
       "    </tr>\n",
       "    <tr>\n",
       "      <th>Fighting</th>\n",
       "      <td>7.0</td>\n",
       "    </tr>\n",
       "    <tr>\n",
       "      <th>Misc</th>\n",
       "      <td>1.0</td>\n",
       "    </tr>\n",
       "    <tr>\n",
       "      <th>Platform</th>\n",
       "      <td>1.0</td>\n",
       "    </tr>\n",
       "    <tr>\n",
       "      <th>Puzzle</th>\n",
       "      <td>1.0</td>\n",
       "    </tr>\n",
       "    <tr>\n",
       "      <th>Racing</th>\n",
       "      <td>1.0</td>\n",
       "    </tr>\n",
       "    <tr>\n",
       "      <th>Role-Playing</th>\n",
       "      <td>7.0</td>\n",
       "    </tr>\n",
       "    <tr>\n",
       "      <th>Shooter</th>\n",
       "      <td>5.0</td>\n",
       "    </tr>\n",
       "    <tr>\n",
       "      <th>Simulation</th>\n",
       "      <td>1.0</td>\n",
       "    </tr>\n",
       "    <tr>\n",
       "      <th>Sports</th>\n",
       "      <td>1.0</td>\n",
       "    </tr>\n",
       "    <tr>\n",
       "      <th>Strategy</th>\n",
       "      <td>5.0</td>\n",
       "    </tr>\n",
       "  </tbody>\n",
       "</table>\n",
       "</div>"
      ],
      "text/plain": [
       "              rating_id\n",
       "genre                  \n",
       "Action              5.0\n",
       "Adventure           2.0\n",
       "Fighting            7.0\n",
       "Misc                1.0\n",
       "Platform            1.0\n",
       "Puzzle              1.0\n",
       "Racing              1.0\n",
       "Role-Playing        7.0\n",
       "Shooter             5.0\n",
       "Simulation          1.0\n",
       "Sports              1.0\n",
       "Strategy            5.0"
      ]
     },
     "execution_count": 230,
     "metadata": {},
     "output_type": "execute_result"
    }
   ],
   "source": [
    "rating_without_null = df[df['rating_id'].notnull()]\n",
    "median_rating = rating_without_null.pivot_table(index='genre', values='rating_id', aggfunc='median')\n",
    "median_rating"
   ]
  },
  {
   "cell_type": "code",
   "execution_count": 231,
   "metadata": {},
   "outputs": [],
   "source": [
    "def rating_median(rating):\n",
    "    return median_rating['rating_id'][rating]"
   ]
  },
  {
   "cell_type": "code",
   "execution_count": 232,
   "metadata": {},
   "outputs": [
    {
     "data": {
      "text/html": [
       "<div>\n",
       "<style scoped>\n",
       "    .dataframe tbody tr th:only-of-type {\n",
       "        vertical-align: middle;\n",
       "    }\n",
       "\n",
       "    .dataframe tbody tr th {\n",
       "        vertical-align: top;\n",
       "    }\n",
       "\n",
       "    .dataframe thead th {\n",
       "        text-align: right;\n",
       "    }\n",
       "</style>\n",
       "<table border=\"1\" class=\"dataframe\">\n",
       "  <thead>\n",
       "    <tr style=\"text-align: right;\">\n",
       "      <th></th>\n",
       "      <th>name</th>\n",
       "      <th>platform</th>\n",
       "      <th>year_of_release</th>\n",
       "      <th>genre</th>\n",
       "      <th>na_sales</th>\n",
       "      <th>eu_sales</th>\n",
       "      <th>jp_sales</th>\n",
       "      <th>other_sales</th>\n",
       "      <th>critic_score</th>\n",
       "      <th>user_score</th>\n",
       "      <th>rating</th>\n",
       "      <th>critic_median</th>\n",
       "      <th>user_median</th>\n",
       "      <th>rating_id</th>\n",
       "    </tr>\n",
       "  </thead>\n",
       "  <tbody>\n",
       "    <tr>\n",
       "      <th>0</th>\n",
       "      <td>Wii Sports</td>\n",
       "      <td>Wii</td>\n",
       "      <td>2006</td>\n",
       "      <td>Sports</td>\n",
       "      <td>41.36</td>\n",
       "      <td>28.96</td>\n",
       "      <td>3.77</td>\n",
       "      <td>8.45</td>\n",
       "      <td>76.0</td>\n",
       "      <td>8.0</td>\n",
       "      <td>E</td>\n",
       "      <td>70.0</td>\n",
       "      <td>7.4</td>\n",
       "      <td>1</td>\n",
       "    </tr>\n",
       "    <tr>\n",
       "      <th>1</th>\n",
       "      <td>Super Mario Bros.</td>\n",
       "      <td>NES</td>\n",
       "      <td>1985</td>\n",
       "      <td>Platform</td>\n",
       "      <td>29.08</td>\n",
       "      <td>3.58</td>\n",
       "      <td>6.81</td>\n",
       "      <td>0.77</td>\n",
       "      <td>70.0</td>\n",
       "      <td>7.7</td>\n",
       "      <td>NaN</td>\n",
       "      <td>70.0</td>\n",
       "      <td>7.7</td>\n",
       "      <td>1</td>\n",
       "    </tr>\n",
       "    <tr>\n",
       "      <th>2</th>\n",
       "      <td>Mario Kart Wii</td>\n",
       "      <td>Wii</td>\n",
       "      <td>2008</td>\n",
       "      <td>Racing</td>\n",
       "      <td>15.68</td>\n",
       "      <td>12.76</td>\n",
       "      <td>3.79</td>\n",
       "      <td>3.29</td>\n",
       "      <td>82.0</td>\n",
       "      <td>8.3</td>\n",
       "      <td>E</td>\n",
       "      <td>70.0</td>\n",
       "      <td>7.4</td>\n",
       "      <td>1</td>\n",
       "    </tr>\n",
       "    <tr>\n",
       "      <th>3</th>\n",
       "      <td>Wii Sports Resort</td>\n",
       "      <td>Wii</td>\n",
       "      <td>2009</td>\n",
       "      <td>Sports</td>\n",
       "      <td>15.61</td>\n",
       "      <td>10.93</td>\n",
       "      <td>3.28</td>\n",
       "      <td>2.95</td>\n",
       "      <td>80.0</td>\n",
       "      <td>8.0</td>\n",
       "      <td>E</td>\n",
       "      <td>70.0</td>\n",
       "      <td>7.4</td>\n",
       "      <td>1</td>\n",
       "    </tr>\n",
       "    <tr>\n",
       "      <th>4</th>\n",
       "      <td>Pokemon Red/Pokemon Blue</td>\n",
       "      <td>GB</td>\n",
       "      <td>1996</td>\n",
       "      <td>Role-Playing</td>\n",
       "      <td>11.27</td>\n",
       "      <td>8.89</td>\n",
       "      <td>10.22</td>\n",
       "      <td>1.00</td>\n",
       "      <td>70.0</td>\n",
       "      <td>7.8</td>\n",
       "      <td>NaN</td>\n",
       "      <td>70.0</td>\n",
       "      <td>7.8</td>\n",
       "      <td>7</td>\n",
       "    </tr>\n",
       "    <tr>\n",
       "      <th>...</th>\n",
       "      <td>...</td>\n",
       "      <td>...</td>\n",
       "      <td>...</td>\n",
       "      <td>...</td>\n",
       "      <td>...</td>\n",
       "      <td>...</td>\n",
       "      <td>...</td>\n",
       "      <td>...</td>\n",
       "      <td>...</td>\n",
       "      <td>...</td>\n",
       "      <td>...</td>\n",
       "      <td>...</td>\n",
       "      <td>...</td>\n",
       "      <td>...</td>\n",
       "    </tr>\n",
       "    <tr>\n",
       "      <th>16710</th>\n",
       "      <td>Samurai Warriors: Sanada Maru</td>\n",
       "      <td>PS3</td>\n",
       "      <td>2016</td>\n",
       "      <td>Action</td>\n",
       "      <td>0.00</td>\n",
       "      <td>0.00</td>\n",
       "      <td>0.01</td>\n",
       "      <td>0.00</td>\n",
       "      <td>70.0</td>\n",
       "      <td>7.4</td>\n",
       "      <td>NaN</td>\n",
       "      <td>70.0</td>\n",
       "      <td>7.4</td>\n",
       "      <td>5</td>\n",
       "    </tr>\n",
       "    <tr>\n",
       "      <th>16711</th>\n",
       "      <td>LMA Manager 2007</td>\n",
       "      <td>X360</td>\n",
       "      <td>2006</td>\n",
       "      <td>Sports</td>\n",
       "      <td>0.00</td>\n",
       "      <td>0.01</td>\n",
       "      <td>0.00</td>\n",
       "      <td>0.00</td>\n",
       "      <td>70.0</td>\n",
       "      <td>7.4</td>\n",
       "      <td>NaN</td>\n",
       "      <td>70.0</td>\n",
       "      <td>7.4</td>\n",
       "      <td>1</td>\n",
       "    </tr>\n",
       "    <tr>\n",
       "      <th>16712</th>\n",
       "      <td>Haitaka no Psychedelica</td>\n",
       "      <td>PSV</td>\n",
       "      <td>2016</td>\n",
       "      <td>Adventure</td>\n",
       "      <td>0.00</td>\n",
       "      <td>0.00</td>\n",
       "      <td>0.01</td>\n",
       "      <td>0.00</td>\n",
       "      <td>70.0</td>\n",
       "      <td>7.6</td>\n",
       "      <td>NaN</td>\n",
       "      <td>70.0</td>\n",
       "      <td>7.6</td>\n",
       "      <td>2</td>\n",
       "    </tr>\n",
       "    <tr>\n",
       "      <th>16713</th>\n",
       "      <td>Spirits &amp; Spells</td>\n",
       "      <td>GBA</td>\n",
       "      <td>2003</td>\n",
       "      <td>Platform</td>\n",
       "      <td>0.01</td>\n",
       "      <td>0.00</td>\n",
       "      <td>0.00</td>\n",
       "      <td>0.00</td>\n",
       "      <td>70.0</td>\n",
       "      <td>7.7</td>\n",
       "      <td>NaN</td>\n",
       "      <td>70.0</td>\n",
       "      <td>7.7</td>\n",
       "      <td>1</td>\n",
       "    </tr>\n",
       "    <tr>\n",
       "      <th>16714</th>\n",
       "      <td>Winning Post 8 2016</td>\n",
       "      <td>PSV</td>\n",
       "      <td>2016</td>\n",
       "      <td>Simulation</td>\n",
       "      <td>0.00</td>\n",
       "      <td>0.00</td>\n",
       "      <td>0.01</td>\n",
       "      <td>0.00</td>\n",
       "      <td>70.0</td>\n",
       "      <td>7.5</td>\n",
       "      <td>NaN</td>\n",
       "      <td>70.0</td>\n",
       "      <td>7.5</td>\n",
       "      <td>1</td>\n",
       "    </tr>\n",
       "  </tbody>\n",
       "</table>\n",
       "<p>16444 rows × 14 columns</p>\n",
       "</div>"
      ],
      "text/plain": [
       "                                name platform  year_of_release         genre  \\\n",
       "0                         Wii Sports      Wii             2006        Sports   \n",
       "1                  Super Mario Bros.      NES             1985      Platform   \n",
       "2                     Mario Kart Wii      Wii             2008        Racing   \n",
       "3                  Wii Sports Resort      Wii             2009        Sports   \n",
       "4           Pokemon Red/Pokemon Blue       GB             1996  Role-Playing   \n",
       "...                              ...      ...              ...           ...   \n",
       "16710  Samurai Warriors: Sanada Maru      PS3             2016        Action   \n",
       "16711               LMA Manager 2007     X360             2006        Sports   \n",
       "16712        Haitaka no Psychedelica      PSV             2016     Adventure   \n",
       "16713               Spirits & Spells      GBA             2003      Platform   \n",
       "16714            Winning Post 8 2016      PSV             2016    Simulation   \n",
       "\n",
       "       na_sales  eu_sales  jp_sales  other_sales  critic_score  user_score  \\\n",
       "0         41.36     28.96      3.77         8.45          76.0         8.0   \n",
       "1         29.08      3.58      6.81         0.77          70.0         7.7   \n",
       "2         15.68     12.76      3.79         3.29          82.0         8.3   \n",
       "3         15.61     10.93      3.28         2.95          80.0         8.0   \n",
       "4         11.27      8.89     10.22         1.00          70.0         7.8   \n",
       "...         ...       ...       ...          ...           ...         ...   \n",
       "16710      0.00      0.00      0.01         0.00          70.0         7.4   \n",
       "16711      0.00      0.01      0.00         0.00          70.0         7.4   \n",
       "16712      0.00      0.00      0.01         0.00          70.0         7.6   \n",
       "16713      0.01      0.00      0.00         0.00          70.0         7.7   \n",
       "16714      0.00      0.00      0.01         0.00          70.0         7.5   \n",
       "\n",
       "      rating  critic_median  user_median  rating_id  \n",
       "0          E           70.0          7.4          1  \n",
       "1        NaN           70.0          7.7          1  \n",
       "2          E           70.0          7.4          1  \n",
       "3          E           70.0          7.4          1  \n",
       "4        NaN           70.0          7.8          7  \n",
       "...      ...            ...          ...        ...  \n",
       "16710    NaN           70.0          7.4          5  \n",
       "16711    NaN           70.0          7.4          1  \n",
       "16712    NaN           70.0          7.6          2  \n",
       "16713    NaN           70.0          7.7          1  \n",
       "16714    NaN           70.0          7.5          1  \n",
       "\n",
       "[16444 rows x 14 columns]"
      ]
     },
     "execution_count": 232,
     "metadata": {},
     "output_type": "execute_result"
    }
   ],
   "source": [
    "df['rating_id'] = df['genre'].apply(rating_median)\n",
    "df['rating_id'] = df['rating_id'].astype('int64')\n",
    "df"
   ]
  },
  {
   "cell_type": "code",
   "execution_count": 233,
   "metadata": {},
   "outputs": [
    {
     "data": {
      "text/html": [
       "<div>\n",
       "<style scoped>\n",
       "    .dataframe tbody tr th:only-of-type {\n",
       "        vertical-align: middle;\n",
       "    }\n",
       "\n",
       "    .dataframe tbody tr th {\n",
       "        vertical-align: top;\n",
       "    }\n",
       "\n",
       "    .dataframe thead th {\n",
       "        text-align: right;\n",
       "    }\n",
       "</style>\n",
       "<table border=\"1\" class=\"dataframe\">\n",
       "  <thead>\n",
       "    <tr style=\"text-align: right;\">\n",
       "      <th></th>\n",
       "      <th>name</th>\n",
       "      <th>platform</th>\n",
       "      <th>year_of_release</th>\n",
       "      <th>genre</th>\n",
       "      <th>na_sales</th>\n",
       "      <th>eu_sales</th>\n",
       "      <th>jp_sales</th>\n",
       "      <th>other_sales</th>\n",
       "      <th>critic_score</th>\n",
       "      <th>user_score</th>\n",
       "      <th>rating</th>\n",
       "      <th>critic_median</th>\n",
       "      <th>user_median</th>\n",
       "      <th>rating_id</th>\n",
       "    </tr>\n",
       "  </thead>\n",
       "  <tbody>\n",
       "    <tr>\n",
       "      <th>0</th>\n",
       "      <td>Wii Sports</td>\n",
       "      <td>Wii</td>\n",
       "      <td>2006</td>\n",
       "      <td>Sports</td>\n",
       "      <td>41.36</td>\n",
       "      <td>28.96</td>\n",
       "      <td>3.77</td>\n",
       "      <td>8.45</td>\n",
       "      <td>76.0</td>\n",
       "      <td>8.0</td>\n",
       "      <td>E</td>\n",
       "      <td>70.0</td>\n",
       "      <td>7.4</td>\n",
       "      <td>1</td>\n",
       "    </tr>\n",
       "    <tr>\n",
       "      <th>1</th>\n",
       "      <td>Super Mario Bros.</td>\n",
       "      <td>NES</td>\n",
       "      <td>1985</td>\n",
       "      <td>Platform</td>\n",
       "      <td>29.08</td>\n",
       "      <td>3.58</td>\n",
       "      <td>6.81</td>\n",
       "      <td>0.77</td>\n",
       "      <td>70.0</td>\n",
       "      <td>7.7</td>\n",
       "      <td>1</td>\n",
       "      <td>70.0</td>\n",
       "      <td>7.7</td>\n",
       "      <td>1</td>\n",
       "    </tr>\n",
       "    <tr>\n",
       "      <th>2</th>\n",
       "      <td>Mario Kart Wii</td>\n",
       "      <td>Wii</td>\n",
       "      <td>2008</td>\n",
       "      <td>Racing</td>\n",
       "      <td>15.68</td>\n",
       "      <td>12.76</td>\n",
       "      <td>3.79</td>\n",
       "      <td>3.29</td>\n",
       "      <td>82.0</td>\n",
       "      <td>8.3</td>\n",
       "      <td>E</td>\n",
       "      <td>70.0</td>\n",
       "      <td>7.4</td>\n",
       "      <td>1</td>\n",
       "    </tr>\n",
       "    <tr>\n",
       "      <th>3</th>\n",
       "      <td>Wii Sports Resort</td>\n",
       "      <td>Wii</td>\n",
       "      <td>2009</td>\n",
       "      <td>Sports</td>\n",
       "      <td>15.61</td>\n",
       "      <td>10.93</td>\n",
       "      <td>3.28</td>\n",
       "      <td>2.95</td>\n",
       "      <td>80.0</td>\n",
       "      <td>8.0</td>\n",
       "      <td>E</td>\n",
       "      <td>70.0</td>\n",
       "      <td>7.4</td>\n",
       "      <td>1</td>\n",
       "    </tr>\n",
       "    <tr>\n",
       "      <th>4</th>\n",
       "      <td>Pokemon Red/Pokemon Blue</td>\n",
       "      <td>GB</td>\n",
       "      <td>1996</td>\n",
       "      <td>Role-Playing</td>\n",
       "      <td>11.27</td>\n",
       "      <td>8.89</td>\n",
       "      <td>10.22</td>\n",
       "      <td>1.00</td>\n",
       "      <td>70.0</td>\n",
       "      <td>7.8</td>\n",
       "      <td>7</td>\n",
       "      <td>70.0</td>\n",
       "      <td>7.8</td>\n",
       "      <td>7</td>\n",
       "    </tr>\n",
       "  </tbody>\n",
       "</table>\n",
       "</div>"
      ],
      "text/plain": [
       "                       name platform  year_of_release         genre  na_sales  \\\n",
       "0                Wii Sports      Wii             2006        Sports     41.36   \n",
       "1         Super Mario Bros.      NES             1985      Platform     29.08   \n",
       "2            Mario Kart Wii      Wii             2008        Racing     15.68   \n",
       "3         Wii Sports Resort      Wii             2009        Sports     15.61   \n",
       "4  Pokemon Red/Pokemon Blue       GB             1996  Role-Playing     11.27   \n",
       "\n",
       "   eu_sales  jp_sales  other_sales  critic_score  user_score rating  \\\n",
       "0     28.96      3.77         8.45          76.0         8.0      E   \n",
       "1      3.58      6.81         0.77          70.0         7.7      1   \n",
       "2     12.76      3.79         3.29          82.0         8.3      E   \n",
       "3     10.93      3.28         2.95          80.0         8.0      E   \n",
       "4      8.89     10.22         1.00          70.0         7.8      7   \n",
       "\n",
       "   critic_median  user_median  rating_id  \n",
       "0           70.0          7.4          1  \n",
       "1           70.0          7.7          1  \n",
       "2           70.0          7.4          1  \n",
       "3           70.0          7.4          1  \n",
       "4           70.0          7.8          7  "
      ]
     },
     "execution_count": 233,
     "metadata": {},
     "output_type": "execute_result"
    }
   ],
   "source": [
    "df['rating'] = df['rating'].fillna(df['rating_id'])\n",
    "df.head()"
   ]
  },
  {
   "cell_type": "code",
   "execution_count": 234,
   "metadata": {},
   "outputs": [
    {
     "data": {
      "text/html": [
       "<div>\n",
       "<style scoped>\n",
       "    .dataframe tbody tr th:only-of-type {\n",
       "        vertical-align: middle;\n",
       "    }\n",
       "\n",
       "    .dataframe tbody tr th {\n",
       "        vertical-align: top;\n",
       "    }\n",
       "\n",
       "    .dataframe thead th {\n",
       "        text-align: right;\n",
       "    }\n",
       "</style>\n",
       "<table border=\"1\" class=\"dataframe\">\n",
       "  <thead>\n",
       "    <tr style=\"text-align: right;\">\n",
       "      <th></th>\n",
       "      <th>name</th>\n",
       "      <th>platform</th>\n",
       "      <th>year_of_release</th>\n",
       "      <th>genre</th>\n",
       "      <th>na_sales</th>\n",
       "      <th>eu_sales</th>\n",
       "      <th>jp_sales</th>\n",
       "      <th>other_sales</th>\n",
       "      <th>critic_score</th>\n",
       "      <th>user_score</th>\n",
       "      <th>rating</th>\n",
       "      <th>critic_median</th>\n",
       "      <th>user_median</th>\n",
       "      <th>rating_id</th>\n",
       "    </tr>\n",
       "  </thead>\n",
       "  <tbody>\n",
       "    <tr>\n",
       "      <th>0</th>\n",
       "      <td>Wii Sports</td>\n",
       "      <td>Wii</td>\n",
       "      <td>2006</td>\n",
       "      <td>Sports</td>\n",
       "      <td>41.36</td>\n",
       "      <td>28.96</td>\n",
       "      <td>3.77</td>\n",
       "      <td>8.45</td>\n",
       "      <td>76.0</td>\n",
       "      <td>8.0</td>\n",
       "      <td>E</td>\n",
       "      <td>70.0</td>\n",
       "      <td>7.4</td>\n",
       "      <td>1</td>\n",
       "    </tr>\n",
       "    <tr>\n",
       "      <th>1</th>\n",
       "      <td>Super Mario Bros.</td>\n",
       "      <td>NES</td>\n",
       "      <td>1985</td>\n",
       "      <td>Platform</td>\n",
       "      <td>29.08</td>\n",
       "      <td>3.58</td>\n",
       "      <td>6.81</td>\n",
       "      <td>0.77</td>\n",
       "      <td>70.0</td>\n",
       "      <td>7.7</td>\n",
       "      <td>E</td>\n",
       "      <td>70.0</td>\n",
       "      <td>7.7</td>\n",
       "      <td>1</td>\n",
       "    </tr>\n",
       "    <tr>\n",
       "      <th>2</th>\n",
       "      <td>Mario Kart Wii</td>\n",
       "      <td>Wii</td>\n",
       "      <td>2008</td>\n",
       "      <td>Racing</td>\n",
       "      <td>15.68</td>\n",
       "      <td>12.76</td>\n",
       "      <td>3.79</td>\n",
       "      <td>3.29</td>\n",
       "      <td>82.0</td>\n",
       "      <td>8.3</td>\n",
       "      <td>E</td>\n",
       "      <td>70.0</td>\n",
       "      <td>7.4</td>\n",
       "      <td>1</td>\n",
       "    </tr>\n",
       "    <tr>\n",
       "      <th>3</th>\n",
       "      <td>Wii Sports Resort</td>\n",
       "      <td>Wii</td>\n",
       "      <td>2009</td>\n",
       "      <td>Sports</td>\n",
       "      <td>15.61</td>\n",
       "      <td>10.93</td>\n",
       "      <td>3.28</td>\n",
       "      <td>2.95</td>\n",
       "      <td>80.0</td>\n",
       "      <td>8.0</td>\n",
       "      <td>E</td>\n",
       "      <td>70.0</td>\n",
       "      <td>7.4</td>\n",
       "      <td>1</td>\n",
       "    </tr>\n",
       "    <tr>\n",
       "      <th>4</th>\n",
       "      <td>Pokemon Red/Pokemon Blue</td>\n",
       "      <td>GB</td>\n",
       "      <td>1996</td>\n",
       "      <td>Role-Playing</td>\n",
       "      <td>11.27</td>\n",
       "      <td>8.89</td>\n",
       "      <td>10.22</td>\n",
       "      <td>1.00</td>\n",
       "      <td>70.0</td>\n",
       "      <td>7.8</td>\n",
       "      <td>T</td>\n",
       "      <td>70.0</td>\n",
       "      <td>7.8</td>\n",
       "      <td>7</td>\n",
       "    </tr>\n",
       "    <tr>\n",
       "      <th>...</th>\n",
       "      <td>...</td>\n",
       "      <td>...</td>\n",
       "      <td>...</td>\n",
       "      <td>...</td>\n",
       "      <td>...</td>\n",
       "      <td>...</td>\n",
       "      <td>...</td>\n",
       "      <td>...</td>\n",
       "      <td>...</td>\n",
       "      <td>...</td>\n",
       "      <td>...</td>\n",
       "      <td>...</td>\n",
       "      <td>...</td>\n",
       "      <td>...</td>\n",
       "    </tr>\n",
       "    <tr>\n",
       "      <th>16710</th>\n",
       "      <td>Samurai Warriors: Sanada Maru</td>\n",
       "      <td>PS3</td>\n",
       "      <td>2016</td>\n",
       "      <td>Action</td>\n",
       "      <td>0.00</td>\n",
       "      <td>0.00</td>\n",
       "      <td>0.01</td>\n",
       "      <td>0.00</td>\n",
       "      <td>70.0</td>\n",
       "      <td>7.4</td>\n",
       "      <td>M</td>\n",
       "      <td>70.0</td>\n",
       "      <td>7.4</td>\n",
       "      <td>5</td>\n",
       "    </tr>\n",
       "    <tr>\n",
       "      <th>16711</th>\n",
       "      <td>LMA Manager 2007</td>\n",
       "      <td>X360</td>\n",
       "      <td>2006</td>\n",
       "      <td>Sports</td>\n",
       "      <td>0.00</td>\n",
       "      <td>0.01</td>\n",
       "      <td>0.00</td>\n",
       "      <td>0.00</td>\n",
       "      <td>70.0</td>\n",
       "      <td>7.4</td>\n",
       "      <td>E</td>\n",
       "      <td>70.0</td>\n",
       "      <td>7.4</td>\n",
       "      <td>1</td>\n",
       "    </tr>\n",
       "    <tr>\n",
       "      <th>16712</th>\n",
       "      <td>Haitaka no Psychedelica</td>\n",
       "      <td>PSV</td>\n",
       "      <td>2016</td>\n",
       "      <td>Adventure</td>\n",
       "      <td>0.00</td>\n",
       "      <td>0.00</td>\n",
       "      <td>0.01</td>\n",
       "      <td>0.00</td>\n",
       "      <td>70.0</td>\n",
       "      <td>7.6</td>\n",
       "      <td>E10+</td>\n",
       "      <td>70.0</td>\n",
       "      <td>7.6</td>\n",
       "      <td>2</td>\n",
       "    </tr>\n",
       "    <tr>\n",
       "      <th>16713</th>\n",
       "      <td>Spirits &amp; Spells</td>\n",
       "      <td>GBA</td>\n",
       "      <td>2003</td>\n",
       "      <td>Platform</td>\n",
       "      <td>0.01</td>\n",
       "      <td>0.00</td>\n",
       "      <td>0.00</td>\n",
       "      <td>0.00</td>\n",
       "      <td>70.0</td>\n",
       "      <td>7.7</td>\n",
       "      <td>E</td>\n",
       "      <td>70.0</td>\n",
       "      <td>7.7</td>\n",
       "      <td>1</td>\n",
       "    </tr>\n",
       "    <tr>\n",
       "      <th>16714</th>\n",
       "      <td>Winning Post 8 2016</td>\n",
       "      <td>PSV</td>\n",
       "      <td>2016</td>\n",
       "      <td>Simulation</td>\n",
       "      <td>0.00</td>\n",
       "      <td>0.00</td>\n",
       "      <td>0.01</td>\n",
       "      <td>0.00</td>\n",
       "      <td>70.0</td>\n",
       "      <td>7.5</td>\n",
       "      <td>E</td>\n",
       "      <td>70.0</td>\n",
       "      <td>7.5</td>\n",
       "      <td>1</td>\n",
       "    </tr>\n",
       "  </tbody>\n",
       "</table>\n",
       "<p>16444 rows × 14 columns</p>\n",
       "</div>"
      ],
      "text/plain": [
       "                                name platform  year_of_release         genre  \\\n",
       "0                         Wii Sports      Wii             2006        Sports   \n",
       "1                  Super Mario Bros.      NES             1985      Platform   \n",
       "2                     Mario Kart Wii      Wii             2008        Racing   \n",
       "3                  Wii Sports Resort      Wii             2009        Sports   \n",
       "4           Pokemon Red/Pokemon Blue       GB             1996  Role-Playing   \n",
       "...                              ...      ...              ...           ...   \n",
       "16710  Samurai Warriors: Sanada Maru      PS3             2016        Action   \n",
       "16711               LMA Manager 2007     X360             2006        Sports   \n",
       "16712        Haitaka no Psychedelica      PSV             2016     Adventure   \n",
       "16713               Spirits & Spells      GBA             2003      Platform   \n",
       "16714            Winning Post 8 2016      PSV             2016    Simulation   \n",
       "\n",
       "       na_sales  eu_sales  jp_sales  other_sales  critic_score  user_score  \\\n",
       "0         41.36     28.96      3.77         8.45          76.0         8.0   \n",
       "1         29.08      3.58      6.81         0.77          70.0         7.7   \n",
       "2         15.68     12.76      3.79         3.29          82.0         8.3   \n",
       "3         15.61     10.93      3.28         2.95          80.0         8.0   \n",
       "4         11.27      8.89     10.22         1.00          70.0         7.8   \n",
       "...         ...       ...       ...          ...           ...         ...   \n",
       "16710      0.00      0.00      0.01         0.00          70.0         7.4   \n",
       "16711      0.00      0.01      0.00         0.00          70.0         7.4   \n",
       "16712      0.00      0.00      0.01         0.00          70.0         7.6   \n",
       "16713      0.01      0.00      0.00         0.00          70.0         7.7   \n",
       "16714      0.00      0.00      0.01         0.00          70.0         7.5   \n",
       "\n",
       "      rating  critic_median  user_median  rating_id  \n",
       "0          E           70.0          7.4          1  \n",
       "1          E           70.0          7.7          1  \n",
       "2          E           70.0          7.4          1  \n",
       "3          E           70.0          7.4          1  \n",
       "4          T           70.0          7.8          7  \n",
       "...      ...            ...          ...        ...  \n",
       "16710      M           70.0          7.4          5  \n",
       "16711      E           70.0          7.4          1  \n",
       "16712   E10+           70.0          7.6          2  \n",
       "16713      E           70.0          7.7          1  \n",
       "16714      E           70.0          7.5          1  \n",
       "\n",
       "[16444 rows x 14 columns]"
      ]
     },
     "execution_count": 234,
     "metadata": {},
     "output_type": "execute_result"
    }
   ],
   "source": [
    "df['rating'] = df['rating'].replace(rating_value, rating)\n",
    "df"
   ]
  },
  {
   "cell_type": "markdown",
   "metadata": {},
   "source": [
    "## Análisis"
   ]
  },
  {
   "cell_type": "markdown",
   "metadata": {},
   "source": [
    "### Primer punto"
   ]
  },
  {
   "cell_type": "code",
   "execution_count": 235,
   "metadata": {},
   "outputs": [],
   "source": [
    "df['total_sales'] = df['na_sales'] + df['eu_sales'] + df['jp_sales'] + df['other_sales']"
   ]
  },
  {
   "cell_type": "code",
   "execution_count": 236,
   "metadata": {
    "scrolled": true
   },
   "outputs": [
    {
     "data": {
      "text/plain": [
       "2012    653\n",
       "2013    544\n",
       "2014    581\n",
       "2015    606\n",
       "2016    502\n",
       "Name: year_of_release, dtype: int64"
      ]
     },
     "execution_count": 236,
     "metadata": {},
     "output_type": "execute_result"
    }
   ],
   "source": [
    "games_per_year_df = df.groupby('year_of_release')['name'].count()\n",
    "games_per_year_df = df[(df['year_of_release'] >= 2012) & (df['year_of_release'] <= 2016)]\n",
    "games_per_year"
   ]
  },
  {
   "cell_type": "code",
   "execution_count": 237,
   "metadata": {},
   "outputs": [
    {
     "name": "stdout",
     "output_type": "stream",
     "text": [
      "year_of_release\n",
      "2012    355.84\n",
      "2013    361.24\n",
      "2014    331.53\n",
      "2015    267.98\n",
      "2016    129.94\n",
      "Name: total_sales, dtype: float64\n"
     ]
    }
   ],
   "source": [
    "sales_per_year = games_per_year_df.groupby('year_of_release')['total_sales'].sum()\n",
    "print(sales_per_year)"
   ]
  },
  {
   "cell_type": "code",
   "execution_count": 238,
   "metadata": {},
   "outputs": [
    {
     "data": {
      "image/png": "[encoded data removed]",
      "text/plain": [
       "<Figure size 1000x500 with 1 Axes>"
      ]
     },
     "metadata": {},
     "output_type": "display_data"
    }
   ],
   "source": [
    "# Contar los juegos lanzados por año\n",
    "games_per_year = games_per_year_df['year_of_release'].value_counts().sort_index()\n",
    "\n",
    "# Graficar los datos\n",
    "plt.figure(figsize=(10, 5))\n",
    "games_per_year.plot(kind='bar', color = 'skyblue')\n",
    "plt.xlabel('Año de Lanzamiento')\n",
    "plt.ylabel('Número de Juegos Lanzados')\n",
    "plt.title('Número de Juegos Lanzados por Año (2012-2016)')\n",
    "plt.xticks(rotation=0)\n",
    "plt.grid(linestyle = '--', linewidth = 0.5)\n",
    "plt.show()"
   ]
  },
  {
   "cell_type": "code",
   "execution_count": 239,
   "metadata": {},
   "outputs": [
    {
     "name": "stdout",
     "output_type": "stream",
     "text": [
      "El 2012 fue el año con más lanzamientos, con 653 juegos lanzados, , el año con menos lanzamientos ha sido 2016 con 502 juegos  lanzados, y la media fue de 577.2 juegos lanzador por año\n"
     ]
    }
   ],
   "source": [
    "print(f'El 2012 fue el año con más lanzamientos, con {games_per_year.max()} juegos lanzados, '\n",
    "      f', el año con menos lanzamientos ha sido 2016 con {games_per_year.min()} juegos  lanzados,' f' y la media fue de {games_per_year.mean()} juegos lanzador por año')"
   ]
  },
  {
   "cell_type": "markdown",
   "metadata": {},
   "source": [
    "### Haciendo nuevo df"
   ]
  },
  {
   "cell_type": "code",
   "execution_count": 240,
   "metadata": {},
   "outputs": [
    {
     "data": {
      "text/html": [
       "<div>\n",
       "<style scoped>\n",
       "    .dataframe tbody tr th:only-of-type {\n",
       "        vertical-align: middle;\n",
       "    }\n",
       "\n",
       "    .dataframe tbody tr th {\n",
       "        vertical-align: top;\n",
       "    }\n",
       "\n",
       "    .dataframe thead th {\n",
       "        text-align: right;\n",
       "    }\n",
       "</style>\n",
       "<table border=\"1\" class=\"dataframe\">\n",
       "  <thead>\n",
       "    <tr style=\"text-align: right;\">\n",
       "      <th></th>\n",
       "      <th>name</th>\n",
       "      <th>platform</th>\n",
       "      <th>year_of_release</th>\n",
       "      <th>genre</th>\n",
       "      <th>na_sales</th>\n",
       "      <th>eu_sales</th>\n",
       "      <th>jp_sales</th>\n",
       "      <th>other_sales</th>\n",
       "      <th>critic_score</th>\n",
       "      <th>user_score</th>\n",
       "      <th>rating</th>\n",
       "      <th>total_sales</th>\n",
       "    </tr>\n",
       "  </thead>\n",
       "  <tbody>\n",
       "    <tr>\n",
       "      <th>0</th>\n",
       "      <td>Wii Sports</td>\n",
       "      <td>Wii</td>\n",
       "      <td>2006</td>\n",
       "      <td>Sports</td>\n",
       "      <td>41.36</td>\n",
       "      <td>28.96</td>\n",
       "      <td>3.77</td>\n",
       "      <td>8.45</td>\n",
       "      <td>76.0</td>\n",
       "      <td>8.0</td>\n",
       "      <td>E</td>\n",
       "      <td>82.54</td>\n",
       "    </tr>\n",
       "    <tr>\n",
       "      <th>1</th>\n",
       "      <td>Super Mario Bros.</td>\n",
       "      <td>NES</td>\n",
       "      <td>1985</td>\n",
       "      <td>Platform</td>\n",
       "      <td>29.08</td>\n",
       "      <td>3.58</td>\n",
       "      <td>6.81</td>\n",
       "      <td>0.77</td>\n",
       "      <td>70.0</td>\n",
       "      <td>7.7</td>\n",
       "      <td>E</td>\n",
       "      <td>40.24</td>\n",
       "    </tr>\n",
       "    <tr>\n",
       "      <th>2</th>\n",
       "      <td>Mario Kart Wii</td>\n",
       "      <td>Wii</td>\n",
       "      <td>2008</td>\n",
       "      <td>Racing</td>\n",
       "      <td>15.68</td>\n",
       "      <td>12.76</td>\n",
       "      <td>3.79</td>\n",
       "      <td>3.29</td>\n",
       "      <td>82.0</td>\n",
       "      <td>8.3</td>\n",
       "      <td>E</td>\n",
       "      <td>35.52</td>\n",
       "    </tr>\n",
       "    <tr>\n",
       "      <th>3</th>\n",
       "      <td>Wii Sports Resort</td>\n",
       "      <td>Wii</td>\n",
       "      <td>2009</td>\n",
       "      <td>Sports</td>\n",
       "      <td>15.61</td>\n",
       "      <td>10.93</td>\n",
       "      <td>3.28</td>\n",
       "      <td>2.95</td>\n",
       "      <td>80.0</td>\n",
       "      <td>8.0</td>\n",
       "      <td>E</td>\n",
       "      <td>32.77</td>\n",
       "    </tr>\n",
       "    <tr>\n",
       "      <th>4</th>\n",
       "      <td>Pokemon Red/Pokemon Blue</td>\n",
       "      <td>GB</td>\n",
       "      <td>1996</td>\n",
       "      <td>Role-Playing</td>\n",
       "      <td>11.27</td>\n",
       "      <td>8.89</td>\n",
       "      <td>10.22</td>\n",
       "      <td>1.00</td>\n",
       "      <td>70.0</td>\n",
       "      <td>7.8</td>\n",
       "      <td>T</td>\n",
       "      <td>31.38</td>\n",
       "    </tr>\n",
       "    <tr>\n",
       "      <th>...</th>\n",
       "      <td>...</td>\n",
       "      <td>...</td>\n",
       "      <td>...</td>\n",
       "      <td>...</td>\n",
       "      <td>...</td>\n",
       "      <td>...</td>\n",
       "      <td>...</td>\n",
       "      <td>...</td>\n",
       "      <td>...</td>\n",
       "      <td>...</td>\n",
       "      <td>...</td>\n",
       "      <td>...</td>\n",
       "    </tr>\n",
       "    <tr>\n",
       "      <th>16710</th>\n",
       "      <td>Samurai Warriors: Sanada Maru</td>\n",
       "      <td>PS3</td>\n",
       "      <td>2016</td>\n",
       "      <td>Action</td>\n",
       "      <td>0.00</td>\n",
       "      <td>0.00</td>\n",
       "      <td>0.01</td>\n",
       "      <td>0.00</td>\n",
       "      <td>70.0</td>\n",
       "      <td>7.4</td>\n",
       "      <td>M</td>\n",
       "      <td>0.01</td>\n",
       "    </tr>\n",
       "    <tr>\n",
       "      <th>16711</th>\n",
       "      <td>LMA Manager 2007</td>\n",
       "      <td>X360</td>\n",
       "      <td>2006</td>\n",
       "      <td>Sports</td>\n",
       "      <td>0.00</td>\n",
       "      <td>0.01</td>\n",
       "      <td>0.00</td>\n",
       "      <td>0.00</td>\n",
       "      <td>70.0</td>\n",
       "      <td>7.4</td>\n",
       "      <td>E</td>\n",
       "      <td>0.01</td>\n",
       "    </tr>\n",
       "    <tr>\n",
       "      <th>16712</th>\n",
       "      <td>Haitaka no Psychedelica</td>\n",
       "      <td>PSV</td>\n",
       "      <td>2016</td>\n",
       "      <td>Adventure</td>\n",
       "      <td>0.00</td>\n",
       "      <td>0.00</td>\n",
       "      <td>0.01</td>\n",
       "      <td>0.00</td>\n",
       "      <td>70.0</td>\n",
       "      <td>7.6</td>\n",
       "      <td>E10+</td>\n",
       "      <td>0.01</td>\n",
       "    </tr>\n",
       "    <tr>\n",
       "      <th>16713</th>\n",
       "      <td>Spirits &amp; Spells</td>\n",
       "      <td>GBA</td>\n",
       "      <td>2003</td>\n",
       "      <td>Platform</td>\n",
       "      <td>0.01</td>\n",
       "      <td>0.00</td>\n",
       "      <td>0.00</td>\n",
       "      <td>0.00</td>\n",
       "      <td>70.0</td>\n",
       "      <td>7.7</td>\n",
       "      <td>E</td>\n",
       "      <td>0.01</td>\n",
       "    </tr>\n",
       "    <tr>\n",
       "      <th>16714</th>\n",
       "      <td>Winning Post 8 2016</td>\n",
       "      <td>PSV</td>\n",
       "      <td>2016</td>\n",
       "      <td>Simulation</td>\n",
       "      <td>0.00</td>\n",
       "      <td>0.00</td>\n",
       "      <td>0.01</td>\n",
       "      <td>0.00</td>\n",
       "      <td>70.0</td>\n",
       "      <td>7.5</td>\n",
       "      <td>E</td>\n",
       "      <td>0.01</td>\n",
       "    </tr>\n",
       "  </tbody>\n",
       "</table>\n",
       "<p>16444 rows × 12 columns</p>\n",
       "</div>"
      ],
      "text/plain": [
       "                                name platform  year_of_release         genre  \\\n",
       "0                         Wii Sports      Wii             2006        Sports   \n",
       "1                  Super Mario Bros.      NES             1985      Platform   \n",
       "2                     Mario Kart Wii      Wii             2008        Racing   \n",
       "3                  Wii Sports Resort      Wii             2009        Sports   \n",
       "4           Pokemon Red/Pokemon Blue       GB             1996  Role-Playing   \n",
       "...                              ...      ...              ...           ...   \n",
       "16710  Samurai Warriors: Sanada Maru      PS3             2016        Action   \n",
       "16711               LMA Manager 2007     X360             2006        Sports   \n",
       "16712        Haitaka no Psychedelica      PSV             2016     Adventure   \n",
       "16713               Spirits & Spells      GBA             2003      Platform   \n",
       "16714            Winning Post 8 2016      PSV             2016    Simulation   \n",
       "\n",
       "       na_sales  eu_sales  jp_sales  other_sales  critic_score  user_score  \\\n",
       "0         41.36     28.96      3.77         8.45          76.0         8.0   \n",
       "1         29.08      3.58      6.81         0.77          70.0         7.7   \n",
       "2         15.68     12.76      3.79         3.29          82.0         8.3   \n",
       "3         15.61     10.93      3.28         2.95          80.0         8.0   \n",
       "4         11.27      8.89     10.22         1.00          70.0         7.8   \n",
       "...         ...       ...       ...          ...           ...         ...   \n",
       "16710      0.00      0.00      0.01         0.00          70.0         7.4   \n",
       "16711      0.00      0.01      0.00         0.00          70.0         7.4   \n",
       "16712      0.00      0.00      0.01         0.00          70.0         7.6   \n",
       "16713      0.01      0.00      0.00         0.00          70.0         7.7   \n",
       "16714      0.00      0.00      0.01         0.00          70.0         7.5   \n",
       "\n",
       "      rating  total_sales  \n",
       "0          E        82.54  \n",
       "1          E        40.24  \n",
       "2          E        35.52  \n",
       "3          E        32.77  \n",
       "4          T        31.38  \n",
       "...      ...          ...  \n",
       "16710      M         0.01  \n",
       "16711      E         0.01  \n",
       "16712   E10+         0.01  \n",
       "16713      E         0.01  \n",
       "16714      E         0.01  \n",
       "\n",
       "[16444 rows x 12 columns]"
      ]
     },
     "execution_count": 240,
     "metadata": {},
     "output_type": "execute_result"
    }
   ],
   "source": [
    "new_df = df[['name', 'platform', 'year_of_release', 'genre', 'na_sales', 'eu_sales', 'jp_sales', 'other_sales', 'critic_score', 'user_score', 'rating', 'total_sales']]\n",
    "new_df"
   ]
  },
  {
   "cell_type": "markdown",
   "metadata": {},
   "source": [
    "### Segundo punto"
   ]
  },
  {
   "cell_type": "code",
   "execution_count": 241,
   "metadata": {},
   "outputs": [],
   "source": [
    "df_5 = df[(df['year_of_release'] >= 2012) & (df['year_of_release'] <= 2016)]"
   ]
  },
  {
   "cell_type": "code",
   "execution_count": 242,
   "metadata": {},
   "outputs": [
    {
     "name": "stdout",
     "output_type": "stream",
     "text": [
      "platform\n",
      "PS4     314.14\n",
      "PS3     288.79\n",
      "X360    236.54\n",
      "3DS     194.61\n",
      "XOne    159.32\n",
      "WiiU     82.19\n",
      "PC       62.65\n",
      "PSV      49.18\n",
      "Wii      35.37\n",
      "DS       12.55\n",
      "PSP      11.19\n",
      "Name: total_sales, dtype: float64\n"
     ]
    }
   ],
   "source": [
    "platform_sales = df_5.groupby('platform')['total_sales'].sum().sort_values(ascending=False)\n",
    "print(platform_sales)"
   ]
  },
  {
   "cell_type": "markdown",
   "metadata": {},
   "source": [
    "<div class=\"alert alert-block alert-success\">\n",
    "<b>Comentario del revisor:</b> <a class=\"tocSkip\"></a>\n",
    "    \n",
    "Hola! Muy buen trabajo en la sección, ajustaste los nombres de las columnas a minúsculas con el uso de la función str.lower(), cambiaste el tipo de variable de dos de las variables de la base de datos, consideraste ajustar los valores ausentes de las variables identificadas de score y muy buen trabajo con la suma de todas las ventas. \n",
    "    \n",
    "   \n",
    "\n",
    "</div>"
   ]
  },
  {
   "cell_type": "code",
   "execution_count": 243,
   "metadata": {},
   "outputs": [
    {
     "name": "stdout",
     "output_type": "stream",
     "text": [
      "Index(['PS4', 'PS3', 'X360', '3DS', 'XOne'], dtype='object', name='platform')\n"
     ]
    }
   ],
   "source": [
    "top_platforms = platform_sales.head(5).index\n",
    "print(top_platforms)"
   ]
  },
  {
   "cell_type": "code",
   "execution_count": 244,
   "metadata": {},
   "outputs": [
    {
     "data": {
      "image/png": "[encoded data removed]",
      "text/plain": [
       "<Figure size 1400x700 with 1 Axes>"
      ]
     },
     "metadata": {},
     "output_type": "display_data"
    }
   ],
   "source": [
    "# Filtrar el DataFrame original para incluir solo las plataformas seleccionadas\n",
    "df_top_platforms = df_5[df_5['platform'].isin(top_platforms)]\n",
    "\n",
    "# Agrupar por año y plataforma, y sumar las ventas totales\n",
    "sales_per_year_platform = df_top_platforms.groupby(['year_of_release', 'platform'])['total_sales'].sum().unstack().fillna(0)\n",
    "\n",
    "# Graficar las ventas por año para cada plataforma con marcadores enteros en el eje x\n",
    "ax = sales_per_year_platform.plot(kind='line', figsize=(14, 7))\n",
    "plt.xlabel('Año de Lanzamiento')\n",
    "plt.ylabel('Ventas Totales (en millones)')\n",
    "plt.title('Ventas Totales por Año para las Principales Plataformas')\n",
    "plt.legend(title='Plataforma')\n",
    "plt.grid(True)\n",
    "\n",
    "# Configurar los marcadores en el eje x para que sean enteros\n",
    "ax.xaxis.set_major_locator(plt.MaxNLocator(integer=True))\n",
    "\n",
    "plt.show()"
   ]
  },
  {
   "cell_type": "markdown",
   "metadata": {},
   "source": [
    "<div class=\"alert alert-block alert-warning\">\n",
    "<b>Comentario del revisor</b> <a class=\"tocSkip\"></a>\n",
    "    \n",
    "Gran trabajo con el desarrollo de la gráfica. Solamente te recomendaría que intentes reducir el periodo dado que el perido actual puede resultar muy extenso. Recordemos que con base en la información la popularidad la alcanzan en los primeros años. Es por ello que con un periodo largo puede no ser posible analizar de forma clara las plataformas y videojuegos actualizados y podrías estar analizando los desactualizados. Es por ello y dado que buscamos responder qué vender en 2017 te recomendareia gráficar un periodo que no supere los 5 años.     \n",
    "\n",
    "</div>"
   ]
  },
  {
   "cell_type": "code",
   "execution_count": 245,
   "metadata": {},
   "outputs": [
    {
     "name": "stdout",
     "output_type": "stream",
     "text": [
      "Index(['2600', '3DO', 'DC', 'DS', 'GB', 'GBA', 'GC', 'GEN', 'GG', 'N64', 'NES',\n",
      "       'NG', 'PCFX', 'PS', 'PS2', 'PSP', 'SAT', 'SCD', 'SNES', 'TG16', 'WS',\n",
      "       'XB'],\n",
      "      dtype='object', name='platform')\n"
     ]
    }
   ],
   "source": [
    "last_year_with_sales = df.groupby('platform')['year_of_release'].max()\n",
    "platforms_disappeared = last_year_with_sales[last_year_with_sales < 2016].index\n",
    "print(platforms_disappeared)"
   ]
  },
  {
   "cell_type": "code",
   "execution_count": 246,
   "metadata": {},
   "outputs": [
    {
     "name": "stdout",
     "output_type": "stream",
     "text": [
      "platform\n",
      "PC      31\n",
      "DS      28\n",
      "GB      13\n",
      "X360    11\n",
      "PSP     11\n",
      "PS2     11\n",
      "NES     11\n",
      "DC      10\n",
      "Wii     10\n",
      "PS3     10\n",
      "2600     9\n",
      "SNES     9\n",
      "PS       9\n",
      "XB       8\n",
      "GBA      7\n",
      "GC       6\n",
      "N64      6\n",
      "3DS      5\n",
      "PSV      5\n",
      "SAT      5\n",
      "WiiU     4\n",
      "GEN      4\n",
      "NG       3\n",
      "XOne     3\n",
      "PS4      3\n",
      "WS       2\n",
      "3DO      1\n",
      "SCD      1\n",
      "TG16     0\n",
      "PCFX     0\n",
      "GG       0\n",
      "Name: year_of_release, dtype: int64\n"
     ]
    }
   ],
   "source": [
    "# Calcular el tiempo de vida de cada plataforma\n",
    "first_year_with_sales = df.groupby('platform')['year_of_release'].min()\n",
    "platform_lifetime = last_year_with_sales - first_year_with_sales\n",
    "\n",
    "# Mostrar la duración de vida de cada plataforma\n",
    "print(platform_lifetime.sort_values(ascending=False))"
   ]
  },
  {
   "cell_type": "code",
   "execution_count": 247,
   "metadata": {},
   "outputs": [
    {
     "name": "stdout",
     "output_type": "stream",
     "text": [
      "Los 5 juegos más vendidos en Xbox (X360):\n",
      "                          name  total_sales\n",
      "23          Grand Theft Auto V        16.27\n",
      "35  Call of Duty: Black Ops II        13.68\n",
      "60        Call of Duty: Ghosts        10.24\n",
      "66                      Halo 4         9.71\n",
      "72                   Minecraft         9.18\n",
      "\n",
      "Los 5 juegos más vendidos en PS3:\n",
      "                           name  total_sales\n",
      "16           Grand Theft Auto V        21.05\n",
      "34   Call of Duty: Black Ops II        13.79\n",
      "69         Call of Duty: Ghosts         9.36\n",
      "81               FIFA Soccer 13         8.17\n",
      "126                     FIFA 14         6.46\n"
     ]
    }
   ],
   "source": [
    "# Filtrar por las plataformas Xbox y PS3\n",
    "xbox_games = df_5[df_5['platform'] == 'X360'].nlargest(5, 'total_sales')[['name', 'total_sales']]\n",
    "ps3_games = df_5[df_5['platform'] == 'PS3'].nlargest(5, 'total_sales')[['name', 'total_sales']]\n",
    "\n",
    "# Mostrar los resultados\n",
    "print(\"Los 5 juegos más vendidos en Xbox (X360):\")\n",
    "print(xbox_games)\n",
    "\n",
    "print(\"\\nLos 5 juegos más vendidos en PS3:\")\n",
    "print(ps3_games)"
   ]
  },
  {
   "cell_type": "markdown",
   "metadata": {},
   "source": [
    "Los Shooters empiezan a tener más relevancia y esto deja de ser una guerra del mejor juego a la mejor consola y vemos que ps3 siempre llevó la delantera en todos los juegos "
   ]
  },
  {
   "cell_type": "markdown",
   "metadata": {},
   "source": [
    "Plataformas Populares Desaparecidas: Algunas plataformas que solían tener ventas altas ya no están activas, lo que puede deberse a la introducción de nuevas tecnologías o cambios en el mercado.\n",
    "\n",
    "Guerra de consolas: Empieza la caida de nintendo y se ve como ps3 va contra xbox 360 en ventas"
   ]
  },
  {
   "cell_type": "markdown",
   "metadata": {},
   "source": [
    "### Punto extra"
   ]
  },
  {
   "cell_type": "code",
   "execution_count": 248,
   "metadata": {},
   "outputs": [
    {
     "data": {
      "text/html": [
       "<div>\n",
       "<style scoped>\n",
       "    .dataframe tbody tr th:only-of-type {\n",
       "        vertical-align: middle;\n",
       "    }\n",
       "\n",
       "    .dataframe tbody tr th {\n",
       "        vertical-align: top;\n",
       "    }\n",
       "\n",
       "    .dataframe thead th {\n",
       "        text-align: right;\n",
       "    }\n",
       "</style>\n",
       "<table border=\"1\" class=\"dataframe\">\n",
       "  <thead>\n",
       "    <tr style=\"text-align: right;\">\n",
       "      <th></th>\n",
       "      <th>name</th>\n",
       "      <th>platform</th>\n",
       "      <th>year_of_release</th>\n",
       "      <th>genre</th>\n",
       "      <th>na_sales</th>\n",
       "      <th>eu_sales</th>\n",
       "      <th>jp_sales</th>\n",
       "      <th>other_sales</th>\n",
       "      <th>critic_score</th>\n",
       "      <th>user_score</th>\n",
       "      <th>rating</th>\n",
       "      <th>critic_median</th>\n",
       "      <th>user_median</th>\n",
       "      <th>rating_id</th>\n",
       "      <th>total_sales</th>\n",
       "    </tr>\n",
       "  </thead>\n",
       "  <tbody>\n",
       "    <tr>\n",
       "      <th>6608</th>\n",
       "      <td>Happy Feet</td>\n",
       "      <td>GC</td>\n",
       "      <td>2006</td>\n",
       "      <td>Action</td>\n",
       "      <td>0.20</td>\n",
       "      <td>0.05</td>\n",
       "      <td>0.00</td>\n",
       "      <td>0.01</td>\n",
       "      <td>70.0</td>\n",
       "      <td>8.6</td>\n",
       "      <td>E</td>\n",
       "      <td>70.0</td>\n",
       "      <td>7.4</td>\n",
       "      <td>5</td>\n",
       "      <td>0.26</td>\n",
       "    </tr>\n",
       "    <tr>\n",
       "      <th>16089</th>\n",
       "      <td>Bomberman (jp sales)</td>\n",
       "      <td>PSP</td>\n",
       "      <td>2006</td>\n",
       "      <td>Puzzle</td>\n",
       "      <td>0.00</td>\n",
       "      <td>0.00</td>\n",
       "      <td>0.01</td>\n",
       "      <td>0.00</td>\n",
       "      <td>70.0</td>\n",
       "      <td>7.5</td>\n",
       "      <td>E</td>\n",
       "      <td>70.0</td>\n",
       "      <td>7.5</td>\n",
       "      <td>1</td>\n",
       "      <td>0.01</td>\n",
       "    </tr>\n",
       "    <tr>\n",
       "      <th>6662</th>\n",
       "      <td>Up</td>\n",
       "      <td>PS3</td>\n",
       "      <td>2009</td>\n",
       "      <td>Action</td>\n",
       "      <td>0.15</td>\n",
       "      <td>0.06</td>\n",
       "      <td>0.00</td>\n",
       "      <td>0.03</td>\n",
       "      <td>65.0</td>\n",
       "      <td>6.5</td>\n",
       "      <td>E10+</td>\n",
       "      <td>70.0</td>\n",
       "      <td>7.4</td>\n",
       "      <td>5</td>\n",
       "      <td>0.24</td>\n",
       "    </tr>\n",
       "    <tr>\n",
       "      <th>15044</th>\n",
       "      <td>Spy Hunter: Nowhere To Run</td>\n",
       "      <td>PS2</td>\n",
       "      <td>2006</td>\n",
       "      <td>Racing</td>\n",
       "      <td>0.01</td>\n",
       "      <td>0.01</td>\n",
       "      <td>0.00</td>\n",
       "      <td>0.00</td>\n",
       "      <td>51.0</td>\n",
       "      <td>6.0</td>\n",
       "      <td>T</td>\n",
       "      <td>70.0</td>\n",
       "      <td>7.4</td>\n",
       "      <td>1</td>\n",
       "      <td>0.02</td>\n",
       "    </tr>\n",
       "    <tr>\n",
       "      <th>12156</th>\n",
       "      <td>Assassin's Creed Chronicles</td>\n",
       "      <td>PSV</td>\n",
       "      <td>2016</td>\n",
       "      <td>Action</td>\n",
       "      <td>0.01</td>\n",
       "      <td>0.04</td>\n",
       "      <td>0.01</td>\n",
       "      <td>0.01</td>\n",
       "      <td>70.0</td>\n",
       "      <td>8.0</td>\n",
       "      <td>T</td>\n",
       "      <td>70.0</td>\n",
       "      <td>7.4</td>\n",
       "      <td>5</td>\n",
       "      <td>0.07</td>\n",
       "    </tr>\n",
       "    <tr>\n",
       "      <th>6033</th>\n",
       "      <td>Shrek: Forever After</td>\n",
       "      <td>Wii</td>\n",
       "      <td>2010</td>\n",
       "      <td>Platform</td>\n",
       "      <td>0.18</td>\n",
       "      <td>0.09</td>\n",
       "      <td>0.00</td>\n",
       "      <td>0.03</td>\n",
       "      <td>70.0</td>\n",
       "      <td>7.7</td>\n",
       "      <td>E10+</td>\n",
       "      <td>70.0</td>\n",
       "      <td>7.7</td>\n",
       "      <td>1</td>\n",
       "      <td>0.30</td>\n",
       "    </tr>\n",
       "    <tr>\n",
       "      <th>15571</th>\n",
       "      <td>Dark Tales: Edgar Allan Poe's The Premature Bu...</td>\n",
       "      <td>PC</td>\n",
       "      <td>2012</td>\n",
       "      <td>Puzzle</td>\n",
       "      <td>0.00</td>\n",
       "      <td>0.02</td>\n",
       "      <td>0.00</td>\n",
       "      <td>0.00</td>\n",
       "      <td>70.0</td>\n",
       "      <td>7.5</td>\n",
       "      <td>E</td>\n",
       "      <td>70.0</td>\n",
       "      <td>7.5</td>\n",
       "      <td>1</td>\n",
       "      <td>0.02</td>\n",
       "    </tr>\n",
       "    <tr>\n",
       "      <th>9980</th>\n",
       "      <td>Dorabase 2: Nettou Ultra Stadium</td>\n",
       "      <td>DS</td>\n",
       "      <td>2009</td>\n",
       "      <td>Sports</td>\n",
       "      <td>0.00</td>\n",
       "      <td>0.00</td>\n",
       "      <td>0.12</td>\n",
       "      <td>0.00</td>\n",
       "      <td>70.0</td>\n",
       "      <td>7.4</td>\n",
       "      <td>E</td>\n",
       "      <td>70.0</td>\n",
       "      <td>7.4</td>\n",
       "      <td>1</td>\n",
       "      <td>0.12</td>\n",
       "    </tr>\n",
       "    <tr>\n",
       "      <th>3716</th>\n",
       "      <td>Dragon Quest Characters: Torneko no Daibouken ...</td>\n",
       "      <td>PS2</td>\n",
       "      <td>2002</td>\n",
       "      <td>Role-Playing</td>\n",
       "      <td>0.00</td>\n",
       "      <td>0.00</td>\n",
       "      <td>0.54</td>\n",
       "      <td>0.00</td>\n",
       "      <td>70.0</td>\n",
       "      <td>7.8</td>\n",
       "      <td>T</td>\n",
       "      <td>70.0</td>\n",
       "      <td>7.8</td>\n",
       "      <td>7</td>\n",
       "      <td>0.54</td>\n",
       "    </tr>\n",
       "    <tr>\n",
       "      <th>14750</th>\n",
       "      <td>Nobunaga no Yabou DS 2</td>\n",
       "      <td>DS</td>\n",
       "      <td>2008</td>\n",
       "      <td>Strategy</td>\n",
       "      <td>0.00</td>\n",
       "      <td>0.00</td>\n",
       "      <td>0.03</td>\n",
       "      <td>0.00</td>\n",
       "      <td>70.0</td>\n",
       "      <td>7.8</td>\n",
       "      <td>M</td>\n",
       "      <td>70.0</td>\n",
       "      <td>7.8</td>\n",
       "      <td>5</td>\n",
       "      <td>0.03</td>\n",
       "    </tr>\n",
       "  </tbody>\n",
       "</table>\n",
       "</div>"
      ],
      "text/plain": [
       "                                                    name platform  \\\n",
       "6608                                          Happy Feet       GC   \n",
       "16089                               Bomberman (jp sales)      PSP   \n",
       "6662                                                  Up      PS3   \n",
       "15044                         Spy Hunter: Nowhere To Run      PS2   \n",
       "12156                        Assassin's Creed Chronicles      PSV   \n",
       "6033                                Shrek: Forever After      Wii   \n",
       "15571  Dark Tales: Edgar Allan Poe's The Premature Bu...       PC   \n",
       "9980                    Dorabase 2: Nettou Ultra Stadium       DS   \n",
       "3716   Dragon Quest Characters: Torneko no Daibouken ...      PS2   \n",
       "14750                             Nobunaga no Yabou DS 2       DS   \n",
       "\n",
       "       year_of_release         genre  na_sales  eu_sales  jp_sales  \\\n",
       "6608              2006        Action      0.20      0.05      0.00   \n",
       "16089             2006        Puzzle      0.00      0.00      0.01   \n",
       "6662              2009        Action      0.15      0.06      0.00   \n",
       "15044             2006        Racing      0.01      0.01      0.00   \n",
       "12156             2016        Action      0.01      0.04      0.01   \n",
       "6033              2010      Platform      0.18      0.09      0.00   \n",
       "15571             2012        Puzzle      0.00      0.02      0.00   \n",
       "9980              2009        Sports      0.00      0.00      0.12   \n",
       "3716              2002  Role-Playing      0.00      0.00      0.54   \n",
       "14750             2008      Strategy      0.00      0.00      0.03   \n",
       "\n",
       "       other_sales  critic_score  user_score rating  critic_median  \\\n",
       "6608          0.01          70.0         8.6      E           70.0   \n",
       "16089         0.00          70.0         7.5      E           70.0   \n",
       "6662          0.03          65.0         6.5   E10+           70.0   \n",
       "15044         0.00          51.0         6.0      T           70.0   \n",
       "12156         0.01          70.0         8.0      T           70.0   \n",
       "6033          0.03          70.0         7.7   E10+           70.0   \n",
       "15571         0.00          70.0         7.5      E           70.0   \n",
       "9980          0.00          70.0         7.4      E           70.0   \n",
       "3716          0.00          70.0         7.8      T           70.0   \n",
       "14750         0.00          70.0         7.8      M           70.0   \n",
       "\n",
       "       user_median  rating_id  total_sales  \n",
       "6608           7.4          5         0.26  \n",
       "16089          7.5          1         0.01  \n",
       "6662           7.4          5         0.24  \n",
       "15044          7.4          1         0.02  \n",
       "12156          7.4          5         0.07  \n",
       "6033           7.7          1         0.30  \n",
       "15571          7.5          1         0.02  \n",
       "9980           7.4          1         0.12  \n",
       "3716           7.8          7         0.54  \n",
       "14750          7.8          5         0.03  "
      ]
     },
     "execution_count": 248,
     "metadata": {},
     "output_type": "execute_result"
    }
   ],
   "source": [
    "df.sample(10)"
   ]
  },
  {
   "cell_type": "code",
   "execution_count": 249,
   "metadata": {},
   "outputs": [
    {
     "name": "stdout",
     "output_type": "stream",
     "text": [
      "                        name platform  total_sales  year_of_release  \\\n",
      "0                 Wii Sports      Wii        82.54             2006   \n",
      "1          Super Mario Bros.      NES        40.24             1985   \n",
      "2             Mario Kart Wii      Wii        35.52             2008   \n",
      "3          Wii Sports Resort      Wii        32.77             2009   \n",
      "4   Pokemon Red/Pokemon Blue       GB        31.38             1996   \n",
      "5                     Tetris       GB        30.26             1989   \n",
      "6      New Super Mario Bros.       DS        29.80             2006   \n",
      "7                   Wii Play      Wii        28.91             2006   \n",
      "8  New Super Mario Bros. Wii      Wii        28.32             2009   \n",
      "9                  Duck Hunt      NES        28.31             1984   \n",
      "\n",
      "          genre  \n",
      "0        Sports  \n",
      "1      Platform  \n",
      "2        Racing  \n",
      "3        Sports  \n",
      "4  Role-Playing  \n",
      "5        Puzzle  \n",
      "6      Platform  \n",
      "7          Misc  \n",
      "8      Platform  \n",
      "9       Shooter  \n"
     ]
    }
   ],
   "source": [
    "# Ordenar el DataFrame por la columna 'total_sales' en orden descendente\n",
    "df_sorted = new_df.sort_values(by='total_sales', ascending=False)\n",
    "\n",
    "print(df_sorted[['name', 'platform', 'total_sales', 'year_of_release','genre']].head(10))"
   ]
  },
  {
   "cell_type": "code",
   "execution_count": 250,
   "metadata": {},
   "outputs": [
    {
     "name": "stdout",
     "output_type": "stream",
     "text": [
      "                             name platform  total_sales  year_of_release  \\\n",
      "1               Super Mario Bros.      NES        40.24             1985   \n",
      "4        Pokemon Red/Pokemon Blue       GB        31.38             1996   \n",
      "5                          Tetris       GB        30.26             1989   \n",
      "9                       Duck Hunt      NES        28.31             1984   \n",
      "12    Pokemon Gold/Pokemon Silver       GB        23.09             1999   \n",
      "14             Kinect Adventures!     X360        21.82             2010   \n",
      "16             Grand Theft Auto V      PS3        21.05             2013   \n",
      "17  Grand Theft Auto: San Andreas      PS2        20.81             2004   \n",
      "18              Super Mario World     SNES        20.62             1990   \n",
      "21               Super Mario Land       GB        18.14             1989   \n",
      "\n",
      "           genre  \n",
      "1       Platform  \n",
      "4   Role-Playing  \n",
      "5         Puzzle  \n",
      "9        Shooter  \n",
      "12  Role-Playing  \n",
      "14          Misc  \n",
      "16        Action  \n",
      "17        Action  \n",
      "18      Platform  \n",
      "21      Platform  \n"
     ]
    }
   ],
   "source": [
    "df_filtered = new_df[~new_df['platform'].isin(['Wii', 'DS'])]\n",
    "\n",
    "# Ordenar el DataFrame filtrado por la columna 'total_sales' en orden descendente\n",
    "df_sorted = df_filtered.sort_values(by='total_sales', ascending=False)\n",
    "\n",
    "# Verificar los resultados\n",
    "print(df_sorted[['name', 'platform', 'total_sales', 'year_of_release','genre']].head(10))"
   ]
  },
  {
   "cell_type": "markdown",
   "metadata": {},
   "source": [
    "Observamos que los juegos más vendidos en los últimos años han sido de Nintendo "
   ]
  },
  {
   "cell_type": "code",
   "execution_count": 251,
   "metadata": {},
   "outputs": [
    {
     "data": {
      "text/plain": [
       "name\n",
       "Grand Theft Auto V                56.58\n",
       "Call of Duty: Black Ops II        29.40\n",
       "Call of Duty: Ghosts              27.39\n",
       "Call of Duty: Black Ops 3         25.67\n",
       "Minecraft                         24.16\n",
       "Call of Duty: Advanced Warfare    21.97\n",
       "FIFA 15                           17.37\n",
       "FIFA 14                           16.46\n",
       "FIFA 16                           16.30\n",
       "FIFA Soccer 13                    15.97\n",
       "Name: total_sales, dtype: float64"
      ]
     },
     "execution_count": 251,
     "metadata": {},
     "output_type": "execute_result"
    }
   ],
   "source": [
    "# Filtrar por el año de lanzamiento 2008\n",
    "games_2008 = new_df[new_df['year_of_release'].isin([2016, 2015, 2014, 2013, 2012])]\n",
    "\n",
    "# Agrupar por nombre de juego y sumar las ventas totales\n",
    "sales_by_game_2008 = games_2008.groupby('name')['total_sales'].sum()\n",
    "\n",
    "# Ordenar por ventas totales en orden descendente y seleccionar el top 10\n",
    "top_10_games_2008 = sales_by_game_2008.sort_values(ascending=False).head(10)\n",
    "\n",
    "top_10_games_2008"
   ]
  },
  {
   "cell_type": "markdown",
   "metadata": {},
   "source": [
    "Quitando nintendo podemos ver algo curioso que es que la mayoría del top 10 son shooters por o que veos que las nuevas tendencias se acercan más a shooters"
   ]
  },
  {
   "cell_type": "markdown",
   "metadata": {},
   "source": [
    "Que me falta?"
   ]
  },
  {
   "cell_type": "markdown",
   "metadata": {},
   "source": [
    "<div class=\"alert alert-block alert-warning\">\n",
    "<b>Comentario del revisor</b> <a class=\"tocSkip\"></a>\n",
    "    \n",
    "Para completar los análisis te recomiendo relaizar las siguientes gráficas y sus interpretaciones:\n",
    "    \n",
    "    - Grafica de cajas que muestre las ventas por plataforma\n",
    "    - Un par de gráfico que muestre la relación entre las ventas y las score de los ususario y los críticos\n",
    "    \n",
    "Además, recuerda realizar las siguientes purebas de hipótesis:\n",
    "    \n",
    "    - Las calificaciones promedio de los usuarios para las plataformas Xbox One y PC son las mismas.\n",
    "    - Las calificaciones promedio de los usuarios para los géneros de Acción y Deportes son diferentes\n",
    "\n",
    "</div>"
   ]
  },
  {
   "cell_type": "markdown",
   "metadata": {},
   "source": [
    "### Grafica de cajas que muestre las ventas por plataforma"
   ]
  },
  {
   "cell_type": "code",
   "execution_count": 252,
   "metadata": {},
   "outputs": [
    {
     "data": {
      "text/html": [
       "<div>\n",
       "<style scoped>\n",
       "    .dataframe tbody tr th:only-of-type {\n",
       "        vertical-align: middle;\n",
       "    }\n",
       "\n",
       "    .dataframe tbody tr th {\n",
       "        vertical-align: top;\n",
       "    }\n",
       "\n",
       "    .dataframe thead th {\n",
       "        text-align: right;\n",
       "    }\n",
       "</style>\n",
       "<table border=\"1\" class=\"dataframe\">\n",
       "  <thead>\n",
       "    <tr style=\"text-align: right;\">\n",
       "      <th></th>\n",
       "      <th>name</th>\n",
       "      <th>platform</th>\n",
       "      <th>year_of_release</th>\n",
       "      <th>genre</th>\n",
       "      <th>na_sales</th>\n",
       "      <th>eu_sales</th>\n",
       "      <th>jp_sales</th>\n",
       "      <th>other_sales</th>\n",
       "      <th>critic_score</th>\n",
       "      <th>user_score</th>\n",
       "      <th>rating</th>\n",
       "      <th>total_sales</th>\n",
       "    </tr>\n",
       "  </thead>\n",
       "  <tbody>\n",
       "    <tr>\n",
       "      <th>0</th>\n",
       "      <td>Wii Sports</td>\n",
       "      <td>Wii</td>\n",
       "      <td>2006</td>\n",
       "      <td>Sports</td>\n",
       "      <td>41.36</td>\n",
       "      <td>28.96</td>\n",
       "      <td>3.77</td>\n",
       "      <td>8.45</td>\n",
       "      <td>76.0</td>\n",
       "      <td>8.0</td>\n",
       "      <td>E</td>\n",
       "      <td>82.54</td>\n",
       "    </tr>\n",
       "    <tr>\n",
       "      <th>1</th>\n",
       "      <td>Mario Kart Wii</td>\n",
       "      <td>Wii</td>\n",
       "      <td>2008</td>\n",
       "      <td>Racing</td>\n",
       "      <td>15.68</td>\n",
       "      <td>12.76</td>\n",
       "      <td>3.79</td>\n",
       "      <td>3.29</td>\n",
       "      <td>82.0</td>\n",
       "      <td>8.3</td>\n",
       "      <td>E</td>\n",
       "      <td>35.52</td>\n",
       "    </tr>\n",
       "    <tr>\n",
       "      <th>2</th>\n",
       "      <td>Wii Sports Resort</td>\n",
       "      <td>Wii</td>\n",
       "      <td>2009</td>\n",
       "      <td>Sports</td>\n",
       "      <td>15.61</td>\n",
       "      <td>10.93</td>\n",
       "      <td>3.28</td>\n",
       "      <td>2.95</td>\n",
       "      <td>80.0</td>\n",
       "      <td>8.0</td>\n",
       "      <td>E</td>\n",
       "      <td>32.77</td>\n",
       "    </tr>\n",
       "    <tr>\n",
       "      <th>3</th>\n",
       "      <td>New Super Mario Bros.</td>\n",
       "      <td>DS</td>\n",
       "      <td>2006</td>\n",
       "      <td>Platform</td>\n",
       "      <td>11.28</td>\n",
       "      <td>9.14</td>\n",
       "      <td>6.50</td>\n",
       "      <td>2.88</td>\n",
       "      <td>89.0</td>\n",
       "      <td>8.5</td>\n",
       "      <td>E</td>\n",
       "      <td>29.80</td>\n",
       "    </tr>\n",
       "    <tr>\n",
       "      <th>4</th>\n",
       "      <td>Wii Play</td>\n",
       "      <td>Wii</td>\n",
       "      <td>2006</td>\n",
       "      <td>Misc</td>\n",
       "      <td>13.96</td>\n",
       "      <td>9.18</td>\n",
       "      <td>2.93</td>\n",
       "      <td>2.84</td>\n",
       "      <td>58.0</td>\n",
       "      <td>6.6</td>\n",
       "      <td>E</td>\n",
       "      <td>28.91</td>\n",
       "    </tr>\n",
       "    <tr>\n",
       "      <th>...</th>\n",
       "      <td>...</td>\n",
       "      <td>...</td>\n",
       "      <td>...</td>\n",
       "      <td>...</td>\n",
       "      <td>...</td>\n",
       "      <td>...</td>\n",
       "      <td>...</td>\n",
       "      <td>...</td>\n",
       "      <td>...</td>\n",
       "      <td>...</td>\n",
       "      <td>...</td>\n",
       "      <td>...</td>\n",
       "    </tr>\n",
       "    <tr>\n",
       "      <th>10328</th>\n",
       "      <td>SCORE International Baja 1000: The Official Game</td>\n",
       "      <td>PS2</td>\n",
       "      <td>2008</td>\n",
       "      <td>Racing</td>\n",
       "      <td>0.00</td>\n",
       "      <td>0.00</td>\n",
       "      <td>0.00</td>\n",
       "      <td>0.00</td>\n",
       "      <td>70.0</td>\n",
       "      <td>7.4</td>\n",
       "      <td>E</td>\n",
       "      <td>0.00</td>\n",
       "    </tr>\n",
       "    <tr>\n",
       "      <th>10329</th>\n",
       "      <td>Samurai Warriors: Sanada Maru</td>\n",
       "      <td>PS3</td>\n",
       "      <td>2016</td>\n",
       "      <td>Action</td>\n",
       "      <td>0.00</td>\n",
       "      <td>0.00</td>\n",
       "      <td>0.01</td>\n",
       "      <td>0.00</td>\n",
       "      <td>70.0</td>\n",
       "      <td>7.4</td>\n",
       "      <td>M</td>\n",
       "      <td>0.01</td>\n",
       "    </tr>\n",
       "    <tr>\n",
       "      <th>10330</th>\n",
       "      <td>LMA Manager 2007</td>\n",
       "      <td>X360</td>\n",
       "      <td>2006</td>\n",
       "      <td>Sports</td>\n",
       "      <td>0.00</td>\n",
       "      <td>0.01</td>\n",
       "      <td>0.00</td>\n",
       "      <td>0.00</td>\n",
       "      <td>70.0</td>\n",
       "      <td>7.4</td>\n",
       "      <td>E</td>\n",
       "      <td>0.01</td>\n",
       "    </tr>\n",
       "    <tr>\n",
       "      <th>10331</th>\n",
       "      <td>Haitaka no Psychedelica</td>\n",
       "      <td>PSV</td>\n",
       "      <td>2016</td>\n",
       "      <td>Adventure</td>\n",
       "      <td>0.00</td>\n",
       "      <td>0.00</td>\n",
       "      <td>0.01</td>\n",
       "      <td>0.00</td>\n",
       "      <td>70.0</td>\n",
       "      <td>7.6</td>\n",
       "      <td>E10+</td>\n",
       "      <td>0.01</td>\n",
       "    </tr>\n",
       "    <tr>\n",
       "      <th>10332</th>\n",
       "      <td>Winning Post 8 2016</td>\n",
       "      <td>PSV</td>\n",
       "      <td>2016</td>\n",
       "      <td>Simulation</td>\n",
       "      <td>0.00</td>\n",
       "      <td>0.00</td>\n",
       "      <td>0.01</td>\n",
       "      <td>0.00</td>\n",
       "      <td>70.0</td>\n",
       "      <td>7.5</td>\n",
       "      <td>E</td>\n",
       "      <td>0.01</td>\n",
       "    </tr>\n",
       "  </tbody>\n",
       "</table>\n",
       "<p>10333 rows × 12 columns</p>\n",
       "</div>"
      ],
      "text/plain": [
       "                                                   name platform  \\\n",
       "0                                            Wii Sports      Wii   \n",
       "1                                        Mario Kart Wii      Wii   \n",
       "2                                     Wii Sports Resort      Wii   \n",
       "3                                 New Super Mario Bros.       DS   \n",
       "4                                              Wii Play      Wii   \n",
       "...                                                 ...      ...   \n",
       "10328  SCORE International Baja 1000: The Official Game      PS2   \n",
       "10329                     Samurai Warriors: Sanada Maru      PS3   \n",
       "10330                                  LMA Manager 2007     X360   \n",
       "10331                           Haitaka no Psychedelica      PSV   \n",
       "10332                               Winning Post 8 2016      PSV   \n",
       "\n",
       "       year_of_release       genre  na_sales  eu_sales  jp_sales  other_sales  \\\n",
       "0                 2006      Sports     41.36     28.96      3.77         8.45   \n",
       "1                 2008      Racing     15.68     12.76      3.79         3.29   \n",
       "2                 2009      Sports     15.61     10.93      3.28         2.95   \n",
       "3                 2006    Platform     11.28      9.14      6.50         2.88   \n",
       "4                 2006        Misc     13.96      9.18      2.93         2.84   \n",
       "...                ...         ...       ...       ...       ...          ...   \n",
       "10328             2008      Racing      0.00      0.00      0.00         0.00   \n",
       "10329             2016      Action      0.00      0.00      0.01         0.00   \n",
       "10330             2006      Sports      0.00      0.01      0.00         0.00   \n",
       "10331             2016   Adventure      0.00      0.00      0.01         0.00   \n",
       "10332             2016  Simulation      0.00      0.00      0.01         0.00   \n",
       "\n",
       "       critic_score  user_score rating  total_sales  \n",
       "0              76.0         8.0      E        82.54  \n",
       "1              82.0         8.3      E        35.52  \n",
       "2              80.0         8.0      E        32.77  \n",
       "3              89.0         8.5      E        29.80  \n",
       "4              58.0         6.6      E        28.91  \n",
       "...             ...         ...    ...          ...  \n",
       "10328          70.0         7.4      E         0.00  \n",
       "10329          70.0         7.4      M         0.01  \n",
       "10330          70.0         7.4      E         0.01  \n",
       "10331          70.0         7.6   E10+         0.01  \n",
       "10332          70.0         7.5      E         0.01  \n",
       "\n",
       "[10333 rows x 12 columns]"
      ]
     },
     "execution_count": 252,
     "metadata": {},
     "output_type": "execute_result"
    }
   ],
   "source": [
    "df_test = new_df[new_df['year_of_release'] >= 2006].reset_index(drop=True)\n",
    "df_test.reset_index(drop=True)"
   ]
  },
  {
   "cell_type": "code",
   "execution_count": 253,
   "metadata": {},
   "outputs": [
    {
     "data": {
      "text/html": [
       "<div>\n",
       "<style scoped>\n",
       "    .dataframe tbody tr th:only-of-type {\n",
       "        vertical-align: middle;\n",
       "    }\n",
       "\n",
       "    .dataframe tbody tr th {\n",
       "        vertical-align: top;\n",
       "    }\n",
       "\n",
       "    .dataframe thead th {\n",
       "        text-align: right;\n",
       "    }\n",
       "</style>\n",
       "<table border=\"1\" class=\"dataframe\">\n",
       "  <thead>\n",
       "    <tr style=\"text-align: right;\">\n",
       "      <th></th>\n",
       "      <th>name</th>\n",
       "    </tr>\n",
       "    <tr>\n",
       "      <th>platform</th>\n",
       "      <th></th>\n",
       "    </tr>\n",
       "  </thead>\n",
       "  <tbody>\n",
       "    <tr>\n",
       "      <th>DS</th>\n",
       "      <td>1979</td>\n",
       "    </tr>\n",
       "    <tr>\n",
       "      <th>PS3</th>\n",
       "      <td>1306</td>\n",
       "    </tr>\n",
       "    <tr>\n",
       "      <th>Wii</th>\n",
       "      <td>1286</td>\n",
       "    </tr>\n",
       "    <tr>\n",
       "      <th>X360</th>\n",
       "      <td>1214</td>\n",
       "    </tr>\n",
       "    <tr>\n",
       "      <th>PSP</th>\n",
       "      <td>1083</td>\n",
       "    </tr>\n",
       "    <tr>\n",
       "      <th>PS2</th>\n",
       "      <td>805</td>\n",
       "    </tr>\n",
       "    <tr>\n",
       "      <th>PC</th>\n",
       "      <td>776</td>\n",
       "    </tr>\n",
       "    <tr>\n",
       "      <th>3DS</th>\n",
       "      <td>512</td>\n",
       "    </tr>\n",
       "    <tr>\n",
       "      <th>PSV</th>\n",
       "      <td>429</td>\n",
       "    </tr>\n",
       "    <tr>\n",
       "      <th>PS4</th>\n",
       "      <td>392</td>\n",
       "    </tr>\n",
       "    <tr>\n",
       "      <th>XOne</th>\n",
       "      <td>247</td>\n",
       "    </tr>\n",
       "    <tr>\n",
       "      <th>WiiU</th>\n",
       "      <td>147</td>\n",
       "    </tr>\n",
       "    <tr>\n",
       "      <th>XB</th>\n",
       "      <td>66</td>\n",
       "    </tr>\n",
       "    <tr>\n",
       "      <th>GBA</th>\n",
       "      <td>45</td>\n",
       "    </tr>\n",
       "    <tr>\n",
       "      <th>GC</th>\n",
       "      <td>44</td>\n",
       "    </tr>\n",
       "    <tr>\n",
       "      <th>DC</th>\n",
       "      <td>2</td>\n",
       "    </tr>\n",
       "  </tbody>\n",
       "</table>\n",
       "</div>"
      ],
      "text/plain": [
       "          name\n",
       "platform      \n",
       "DS        1979\n",
       "PS3       1306\n",
       "Wii       1286\n",
       "X360      1214\n",
       "PSP       1083\n",
       "PS2        805\n",
       "PC         776\n",
       "3DS        512\n",
       "PSV        429\n",
       "PS4        392\n",
       "XOne       247\n",
       "WiiU       147\n",
       "XB          66\n",
       "GBA         45\n",
       "GC          44\n",
       "DC           2"
      ]
     },
     "execution_count": 253,
     "metadata": {},
     "output_type": "execute_result"
    }
   ],
   "source": [
    "df_test.pivot_table(index='platform', values='name', aggfunc='count').sort_values(by='name', ascending=False)"
   ]
  },
  {
   "cell_type": "code",
   "execution_count": 254,
   "metadata": {},
   "outputs": [
    {
     "data": {
      "text/plain": [
       "<AxesSubplot:xlabel='platform'>"
      ]
     },
     "execution_count": 254,
     "metadata": {},
     "output_type": "execute_result"
    },
    {
     "data": {
      "image/png": "[encoded data removed]",
      "text/plain": [
       "<Figure size 640x480 with 1 Axes>"
      ]
     },
     "metadata": {},
     "output_type": "display_data"
    }
   ],
   "source": [
    "test = df_test.pivot_table(index='platform', columns='year_of_release', values='name', aggfunc='count').fillna(0)\n",
    "test[2008].plot(kind='bar')"
   ]
  },
  {
   "cell_type": "code",
   "execution_count": 255,
   "metadata": {},
   "outputs": [
    {
     "data": {
      "text/html": [
       "<div>\n",
       "<style scoped>\n",
       "    .dataframe tbody tr th:only-of-type {\n",
       "        vertical-align: middle;\n",
       "    }\n",
       "\n",
       "    .dataframe tbody tr th {\n",
       "        vertical-align: top;\n",
       "    }\n",
       "\n",
       "    .dataframe thead th {\n",
       "        text-align: right;\n",
       "    }\n",
       "</style>\n",
       "<table border=\"1\" class=\"dataframe\">\n",
       "  <thead>\n",
       "    <tr style=\"text-align: right;\">\n",
       "      <th></th>\n",
       "      <th>name</th>\n",
       "      <th>platform</th>\n",
       "      <th>year_of_release</th>\n",
       "      <th>genre</th>\n",
       "      <th>na_sales</th>\n",
       "      <th>eu_sales</th>\n",
       "      <th>jp_sales</th>\n",
       "      <th>other_sales</th>\n",
       "      <th>critic_score</th>\n",
       "      <th>user_score</th>\n",
       "      <th>rating</th>\n",
       "      <th>total_sales</th>\n",
       "    </tr>\n",
       "  </thead>\n",
       "  <tbody>\n",
       "    <tr>\n",
       "      <th>0</th>\n",
       "      <td>Grand Theft Auto V</td>\n",
       "      <td>PS3</td>\n",
       "      <td>2013</td>\n",
       "      <td>Action</td>\n",
       "      <td>7.02</td>\n",
       "      <td>9.09</td>\n",
       "      <td>0.98</td>\n",
       "      <td>3.96</td>\n",
       "      <td>97.0</td>\n",
       "      <td>8.2</td>\n",
       "      <td>M</td>\n",
       "      <td>21.05</td>\n",
       "    </tr>\n",
       "    <tr>\n",
       "      <th>1</th>\n",
       "      <td>Call of Duty: Black Ops 3</td>\n",
       "      <td>PS4</td>\n",
       "      <td>2015</td>\n",
       "      <td>Shooter</td>\n",
       "      <td>6.03</td>\n",
       "      <td>5.86</td>\n",
       "      <td>0.36</td>\n",
       "      <td>2.38</td>\n",
       "      <td>70.0</td>\n",
       "      <td>7.4</td>\n",
       "      <td>M</td>\n",
       "      <td>14.63</td>\n",
       "    </tr>\n",
       "    <tr>\n",
       "      <th>2</th>\n",
       "      <td>Pokemon X/Pokemon Y</td>\n",
       "      <td>3DS</td>\n",
       "      <td>2013</td>\n",
       "      <td>Role-Playing</td>\n",
       "      <td>5.28</td>\n",
       "      <td>4.19</td>\n",
       "      <td>4.35</td>\n",
       "      <td>0.78</td>\n",
       "      <td>70.0</td>\n",
       "      <td>7.8</td>\n",
       "      <td>T</td>\n",
       "      <td>14.60</td>\n",
       "    </tr>\n",
       "    <tr>\n",
       "      <th>3</th>\n",
       "      <td>Call of Duty: Black Ops II</td>\n",
       "      <td>PS3</td>\n",
       "      <td>2012</td>\n",
       "      <td>Shooter</td>\n",
       "      <td>4.99</td>\n",
       "      <td>5.73</td>\n",
       "      <td>0.65</td>\n",
       "      <td>2.42</td>\n",
       "      <td>83.0</td>\n",
       "      <td>5.3</td>\n",
       "      <td>M</td>\n",
       "      <td>13.79</td>\n",
       "    </tr>\n",
       "    <tr>\n",
       "      <th>4</th>\n",
       "      <td>Call of Duty: Modern Warfare 3</td>\n",
       "      <td>PS3</td>\n",
       "      <td>2011</td>\n",
       "      <td>Shooter</td>\n",
       "      <td>5.54</td>\n",
       "      <td>5.73</td>\n",
       "      <td>0.49</td>\n",
       "      <td>1.57</td>\n",
       "      <td>88.0</td>\n",
       "      <td>3.2</td>\n",
       "      <td>M</td>\n",
       "      <td>13.33</td>\n",
       "    </tr>\n",
       "    <tr>\n",
       "      <th>...</th>\n",
       "      <td>...</td>\n",
       "      <td>...</td>\n",
       "      <td>...</td>\n",
       "      <td>...</td>\n",
       "      <td>...</td>\n",
       "      <td>...</td>\n",
       "      <td>...</td>\n",
       "      <td>...</td>\n",
       "      <td>...</td>\n",
       "      <td>...</td>\n",
       "      <td>...</td>\n",
       "      <td>...</td>\n",
       "    </tr>\n",
       "    <tr>\n",
       "      <th>3657</th>\n",
       "      <td>15 Days</td>\n",
       "      <td>PC</td>\n",
       "      <td>2009</td>\n",
       "      <td>Adventure</td>\n",
       "      <td>0.00</td>\n",
       "      <td>0.01</td>\n",
       "      <td>0.00</td>\n",
       "      <td>0.00</td>\n",
       "      <td>63.0</td>\n",
       "      <td>5.8</td>\n",
       "      <td>E10+</td>\n",
       "      <td>0.01</td>\n",
       "    </tr>\n",
       "    <tr>\n",
       "      <th>3658</th>\n",
       "      <td>Aiyoku no Eustia</td>\n",
       "      <td>PSV</td>\n",
       "      <td>2014</td>\n",
       "      <td>Misc</td>\n",
       "      <td>0.00</td>\n",
       "      <td>0.00</td>\n",
       "      <td>0.01</td>\n",
       "      <td>0.00</td>\n",
       "      <td>70.0</td>\n",
       "      <td>7.1</td>\n",
       "      <td>E</td>\n",
       "      <td>0.01</td>\n",
       "    </tr>\n",
       "    <tr>\n",
       "      <th>3659</th>\n",
       "      <td>Samurai Warriors: Sanada Maru</td>\n",
       "      <td>PS3</td>\n",
       "      <td>2016</td>\n",
       "      <td>Action</td>\n",
       "      <td>0.00</td>\n",
       "      <td>0.00</td>\n",
       "      <td>0.01</td>\n",
       "      <td>0.00</td>\n",
       "      <td>70.0</td>\n",
       "      <td>7.4</td>\n",
       "      <td>M</td>\n",
       "      <td>0.01</td>\n",
       "    </tr>\n",
       "    <tr>\n",
       "      <th>3660</th>\n",
       "      <td>Haitaka no Psychedelica</td>\n",
       "      <td>PSV</td>\n",
       "      <td>2016</td>\n",
       "      <td>Adventure</td>\n",
       "      <td>0.00</td>\n",
       "      <td>0.00</td>\n",
       "      <td>0.01</td>\n",
       "      <td>0.00</td>\n",
       "      <td>70.0</td>\n",
       "      <td>7.6</td>\n",
       "      <td>E10+</td>\n",
       "      <td>0.01</td>\n",
       "    </tr>\n",
       "    <tr>\n",
       "      <th>3661</th>\n",
       "      <td>Winning Post 8 2016</td>\n",
       "      <td>PSV</td>\n",
       "      <td>2016</td>\n",
       "      <td>Simulation</td>\n",
       "      <td>0.00</td>\n",
       "      <td>0.00</td>\n",
       "      <td>0.01</td>\n",
       "      <td>0.00</td>\n",
       "      <td>70.0</td>\n",
       "      <td>7.5</td>\n",
       "      <td>E</td>\n",
       "      <td>0.01</td>\n",
       "    </tr>\n",
       "  </tbody>\n",
       "</table>\n",
       "<p>3662 rows × 12 columns</p>\n",
       "</div>"
      ],
      "text/plain": [
       "                                name platform  year_of_release         genre  \\\n",
       "0                 Grand Theft Auto V      PS3             2013        Action   \n",
       "1          Call of Duty: Black Ops 3      PS4             2015       Shooter   \n",
       "2                Pokemon X/Pokemon Y      3DS             2013  Role-Playing   \n",
       "3         Call of Duty: Black Ops II      PS3             2012       Shooter   \n",
       "4     Call of Duty: Modern Warfare 3      PS3             2011       Shooter   \n",
       "...                              ...      ...              ...           ...   \n",
       "3657                         15 Days       PC             2009     Adventure   \n",
       "3658                Aiyoku no Eustia      PSV             2014          Misc   \n",
       "3659   Samurai Warriors: Sanada Maru      PS3             2016        Action   \n",
       "3660         Haitaka no Psychedelica      PSV             2016     Adventure   \n",
       "3661             Winning Post 8 2016      PSV             2016    Simulation   \n",
       "\n",
       "      na_sales  eu_sales  jp_sales  other_sales  critic_score  user_score  \\\n",
       "0         7.02      9.09      0.98         3.96          97.0         8.2   \n",
       "1         6.03      5.86      0.36         2.38          70.0         7.4   \n",
       "2         5.28      4.19      4.35         0.78          70.0         7.8   \n",
       "3         4.99      5.73      0.65         2.42          83.0         5.3   \n",
       "4         5.54      5.73      0.49         1.57          88.0         3.2   \n",
       "...        ...       ...       ...          ...           ...         ...   \n",
       "3657      0.00      0.01      0.00         0.00          63.0         5.8   \n",
       "3658      0.00      0.00      0.01         0.00          70.0         7.1   \n",
       "3659      0.00      0.00      0.01         0.00          70.0         7.4   \n",
       "3660      0.00      0.00      0.01         0.00          70.0         7.6   \n",
       "3661      0.00      0.00      0.01         0.00          70.0         7.5   \n",
       "\n",
       "     rating  total_sales  \n",
       "0         M        21.05  \n",
       "1         M        14.63  \n",
       "2         T        14.60  \n",
       "3         M        13.79  \n",
       "4         M        13.33  \n",
       "...     ...          ...  \n",
       "3657   E10+         0.01  \n",
       "3658      E         0.01  \n",
       "3659      M         0.01  \n",
       "3660   E10+         0.01  \n",
       "3661      E         0.01  \n",
       "\n",
       "[3662 rows x 12 columns]"
      ]
     },
     "execution_count": 255,
     "metadata": {},
     "output_type": "execute_result"
    }
   ],
   "source": [
    "columns = ['PS4', 'PSV', 'XOne', 'PC', '3DS', 'PS3']\n",
    "top_platform = df_test[df_test['platform'].isin(columns)].reset_index(drop=True)\n",
    "top_platform"
   ]
  },
  {
   "cell_type": "code",
   "execution_count": 260,
   "metadata": {},
   "outputs": [
    {
     "data": {
      "text/plain": [
       "<AxesSubplot:xlabel='na_sales', ylabel='platform'>"
      ]
     },
     "execution_count": 260,
     "metadata": {},
     "output_type": "execute_result"
    },
    {
     "data": {
      "image/png": "[encoded data removed]",
      "text/plain": [
       "<Figure size 640x480 with 1 Axes>"
      ]
     },
     "metadata": {},
     "output_type": "display_data"
    }
   ],
   "source": [
    "sns.boxplot(data=top_platform, x=\"na_sales\", y=\"platform\")"
   ]
  },
  {
   "cell_type": "code",
   "execution_count": 261,
   "metadata": {},
   "outputs": [
    {
     "data": {
      "text/plain": [
       "<AxesSubplot:xlabel='eu_sales', ylabel='platform'>"
      ]
     },
     "execution_count": 261,
     "metadata": {},
     "output_type": "execute_result"
    },
    {
     "data": {
      "image/png": "[encoded data removed]",
      "text/plain": [
       "<Figure size 640x480 with 1 Axes>"
      ]
     },
     "metadata": {},
     "output_type": "display_data"
    }
   ],
   "source": [
    "sns.boxplot(data=top_platform, x=\"eu_sales\", y=\"platform\")"
   ]
  },
  {
   "cell_type": "code",
   "execution_count": 262,
   "metadata": {},
   "outputs": [
    {
     "data": {
      "text/plain": [
       "<AxesSubplot:xlabel='jp_sales', ylabel='platform'>"
      ]
     },
     "execution_count": 262,
     "metadata": {},
     "output_type": "execute_result"
    },
    {
     "data": {
      "image/png": "[encoded data removed]",
      "text/plain": [
       "<Figure size 640x480 with 1 Axes>"
      ]
     },
     "metadata": {},
     "output_type": "display_data"
    }
   ],
   "source": [
    "sns.boxplot(data=top_platform, x=\"jp_sales\", y=\"platform\")"
   ]
  },
  {
   "cell_type": "code",
   "execution_count": 263,
   "metadata": {},
   "outputs": [
    {
     "data": {
      "text/plain": [
       "<AxesSubplot:xlabel='other_sales', ylabel='platform'>"
      ]
     },
     "execution_count": 263,
     "metadata": {},
     "output_type": "execute_result"
    },
    {
     "data": {
      "image/png": "[encoded data removed]",
      "text/plain": [
       "<Figure size 640x480 with 1 Axes>"
      ]
     },
     "metadata": {},
     "output_type": "display_data"
    }
   ],
   "source": [
    "sns.boxplot(data=top_platform, x=\"other_sales\", y=\"platform\")"
   ]
  },
  {
   "cell_type": "code",
   "execution_count": 256,
   "metadata": {},
   "outputs": [
    {
     "data": {
      "text/plain": [
       "<AxesSubplot:xlabel='total_sales', ylabel='platform'>"
      ]
     },
     "execution_count": 256,
     "metadata": {},
     "output_type": "execute_result"
    },
    {
     "data": {
      "image/png": "[encoded data removed]",
      "text/plain": [
       "<Figure size 640x480 with 1 Axes>"
      ]
     },
     "metadata": {},
     "output_type": "display_data"
    }
   ],
   "source": [
    "sns.boxplot(data=top_platform, x=\"total_sales\", y=\"platform\")"
   ]
  },
  {
   "cell_type": "code",
   "execution_count": 265,
   "metadata": {},
   "outputs": [
    {
     "data": {
      "text/html": [
       "<div>\n",
       "<style scoped>\n",
       "    .dataframe tbody tr th:only-of-type {\n",
       "        vertical-align: middle;\n",
       "    }\n",
       "\n",
       "    .dataframe tbody tr th {\n",
       "        vertical-align: top;\n",
       "    }\n",
       "\n",
       "    .dataframe thead th {\n",
       "        text-align: right;\n",
       "    }\n",
       "</style>\n",
       "<table border=\"1\" class=\"dataframe\">\n",
       "  <thead>\n",
       "    <tr style=\"text-align: right;\">\n",
       "      <th></th>\n",
       "      <th>eu_sales</th>\n",
       "      <th>jp_sales</th>\n",
       "      <th>na_sales</th>\n",
       "      <th>other_sales</th>\n",
       "    </tr>\n",
       "    <tr>\n",
       "      <th>platform</th>\n",
       "      <th></th>\n",
       "      <th></th>\n",
       "      <th></th>\n",
       "      <th></th>\n",
       "    </tr>\n",
       "  </thead>\n",
       "  <tbody>\n",
       "    <tr>\n",
       "      <th>3DS</th>\n",
       "      <td>0.119668</td>\n",
       "      <td>0.196523</td>\n",
       "      <td>0.161426</td>\n",
       "      <td>0.025918</td>\n",
       "    </tr>\n",
       "    <tr>\n",
       "      <th>PC</th>\n",
       "      <td>0.129278</td>\n",
       "      <td>0.000000</td>\n",
       "      <td>0.057281</td>\n",
       "      <td>0.024034</td>\n",
       "    </tr>\n",
       "    <tr>\n",
       "      <th>PS3</th>\n",
       "      <td>0.250544</td>\n",
       "      <td>0.060804</td>\n",
       "      <td>0.298721</td>\n",
       "      <td>0.103055</td>\n",
       "    </tr>\n",
       "    <tr>\n",
       "      <th>PS4</th>\n",
       "      <td>0.359923</td>\n",
       "      <td>0.040714</td>\n",
       "      <td>0.277398</td>\n",
       "      <td>0.123342</td>\n",
       "    </tr>\n",
       "    <tr>\n",
       "      <th>PSV</th>\n",
       "      <td>0.030466</td>\n",
       "      <td>0.050909</td>\n",
       "      <td>0.029068</td>\n",
       "      <td>0.014988</td>\n",
       "    </tr>\n",
       "    <tr>\n",
       "      <th>XOne</th>\n",
       "      <td>0.208866</td>\n",
       "      <td>0.001377</td>\n",
       "      <td>0.377004</td>\n",
       "      <td>0.057773</td>\n",
       "    </tr>\n",
       "  </tbody>\n",
       "</table>\n",
       "</div>"
      ],
      "text/plain": [
       "          eu_sales  jp_sales  na_sales  other_sales\n",
       "platform                                           \n",
       "3DS       0.119668  0.196523  0.161426     0.025918\n",
       "PC        0.129278  0.000000  0.057281     0.024034\n",
       "PS3       0.250544  0.060804  0.298721     0.103055\n",
       "PS4       0.359923  0.040714  0.277398     0.123342\n",
       "PSV       0.030466  0.050909  0.029068     0.014988\n",
       "XOne      0.208866  0.001377  0.377004     0.057773"
      ]
     },
     "execution_count": 265,
     "metadata": {},
     "output_type": "execute_result"
    }
   ],
   "source": [
    "top_platform.pivot_table(index='platform', values=['na_sales', 'eu_sales', 'jp_sales','other_sales'], aggfunc='mean')"
   ]
  },
  {
   "cell_type": "code",
   "execution_count": 266,
   "metadata": {},
   "outputs": [
    {
     "data": {
      "text/plain": [
       "name               Grand Theft Auto V\n",
       "platform                          PS3\n",
       "year_of_release                  2013\n",
       "genre                          Action\n",
       "na_sales                         7.02\n",
       "eu_sales                         9.09\n",
       "jp_sales                         0.98\n",
       "other_sales                      3.96\n",
       "critic_score                     97.0\n",
       "user_score                        8.2\n",
       "rating                              M\n",
       "total_sales                     21.05\n",
       "Name: 9, dtype: object"
      ]
     },
     "execution_count": 266,
     "metadata": {},
     "output_type": "execute_result"
    }
   ],
   "source": [
    "max_sales_record = top_platform_2.loc[top_platform_2['total_sales'].idxmax()]\n",
    "max_sales_record"
   ]
  },
  {
   "cell_type": "markdown",
   "metadata": {},
   "source": [
    "El videojuego con más ventas de los últimos años ha sido el GTA V "
   ]
  },
  {
   "cell_type": "code",
   "execution_count": null,
   "metadata": {},
   "outputs": [],
   "source": []
  },
  {
   "cell_type": "markdown",
   "metadata": {},
   "source": [
    "### Ventas totales vs puntuación de usuarios"
   ]
  },
  {
   "cell_type": "code",
   "execution_count": 267,
   "metadata": {},
   "outputs": [
    {
     "data": {
      "image/png": "[encoded data removed]",
      "text/plain": [
       "<Figure size 1200x600 with 1 Axes>"
      ]
     },
     "metadata": {},
     "output_type": "display_data"
    }
   ],
   "source": [
    "plt.figure(figsize=(12, 6))\n",
    "sns.scatterplot(data=top_platform, x='total_sales', y='user_score', alpha=0.6)\n",
    "plt.xlabel('Ventas Totales')\n",
    "plt.ylabel('Puntuación de Usuarios')\n",
    "plt.title('Relación entre Ventas Totales y Puntuación de Usuarios')\n",
    "plt.grid(True)\n",
    "plt.show()"
   ]
  },
  {
   "cell_type": "code",
   "execution_count": 268,
   "metadata": {},
   "outputs": [
    {
     "data": {
      "image/png": "[encoded data removed]",
      "text/plain": [
       "<Figure size 1200x600 with 1 Axes>"
      ]
     },
     "metadata": {},
     "output_type": "display_data"
    }
   ],
   "source": [
    "plt.figure(figsize=(12, 6))\n",
    "sns.scatterplot(data=top_platform, x='total_sales', y='critic_score', alpha=0.6)\n",
    "plt.xlabel('Ventas Totales')\n",
    "plt.ylabel('Puntuación de Críticos')\n",
    "plt.title('Relación entre Ventas Totales y Puntuación de Críticos')\n",
    "plt.grid(True)\n",
    "plt.show()"
   ]
  },
  {
   "cell_type": "code",
   "execution_count": null,
   "metadata": {},
   "outputs": [],
   "source": []
  },
  {
   "cell_type": "code",
   "execution_count": null,
   "metadata": {},
   "outputs": [],
   "source": []
  }
 ],
 "metadata": {
  "ExecuteTimeLog": [
   {
    "duration": 427,
    "start_time": "2024-06-20T03:33:57.050Z"
   },
   {
    "duration": 3,
    "start_time": "2024-06-20T03:34:04.732Z"
   },
   {
    "duration": 53,
    "start_time": "2024-06-20T03:34:28.934Z"
   },
   {
    "duration": 52,
    "start_time": "2024-06-20T03:34:36.503Z"
   },
   {
    "duration": 12,
    "start_time": "2024-06-20T03:34:40.517Z"
   },
   {
    "duration": 13,
    "start_time": "2024-06-20T03:34:46.635Z"
   },
   {
    "duration": 28,
    "start_time": "2024-06-20T03:34:51.287Z"
   },
   {
    "duration": 21,
    "start_time": "2024-06-20T03:42:18.139Z"
   },
   {
    "duration": 20,
    "start_time": "2024-06-20T03:42:21.201Z"
   },
   {
    "duration": 26,
    "start_time": "2024-06-20T03:43:09.361Z"
   },
   {
    "duration": 16,
    "start_time": "2024-06-20T03:43:25.491Z"
   },
   {
    "duration": 1180,
    "start_time": "2024-06-20T03:44:31.642Z"
   },
   {
    "duration": 72,
    "start_time": "2024-06-20T03:44:48.477Z"
   },
   {
    "duration": 1152,
    "start_time": "2024-06-20T03:44:51.884Z"
   },
   {
    "duration": 94,
    "start_time": "2024-06-20T03:44:58.851Z"
   },
   {
    "duration": 18,
    "start_time": "2024-06-20T03:45:05.117Z"
   },
   {
    "duration": 25,
    "start_time": "2024-06-20T03:45:13.656Z"
   },
   {
    "duration": 17,
    "start_time": "2024-06-20T03:45:15.436Z"
   },
   {
    "duration": 188,
    "start_time": "2024-06-20T03:46:42.842Z"
   },
   {
    "duration": 96,
    "start_time": "2024-06-20T03:47:04.607Z"
   },
   {
    "duration": 94,
    "start_time": "2024-06-20T03:47:12.440Z"
   },
   {
    "duration": 8,
    "start_time": "2024-06-20T03:49:47.211Z"
   },
   {
    "duration": 96,
    "start_time": "2024-06-20T03:50:11.896Z"
   },
   {
    "duration": 23,
    "start_time": "2024-06-20T03:51:10.087Z"
   },
   {
    "duration": 19,
    "start_time": "2024-06-20T03:51:18.808Z"
   },
   {
    "duration": 19,
    "start_time": "2024-06-20T03:51:25.840Z"
   },
   {
    "duration": 18,
    "start_time": "2024-06-20T03:52:14.296Z"
   },
   {
    "duration": 26,
    "start_time": "2024-06-20T03:52:28.393Z"
   },
   {
    "duration": 17,
    "start_time": "2024-06-20T03:52:28.423Z"
   },
   {
    "duration": 19,
    "start_time": "2024-06-20T03:52:28.443Z"
   },
   {
    "duration": 52,
    "start_time": "2024-06-20T03:52:28.465Z"
   },
   {
    "duration": 21,
    "start_time": "2024-06-20T03:52:52.309Z"
   },
   {
    "duration": 10,
    "start_time": "2024-06-20T03:52:57.853Z"
   },
   {
    "duration": 10,
    "start_time": "2024-06-20T03:53:11.801Z"
   },
   {
    "duration": 9,
    "start_time": "2024-06-20T03:53:30.364Z"
   },
   {
    "duration": 8,
    "start_time": "2024-06-20T03:53:37.817Z"
   },
   {
    "duration": 7,
    "start_time": "2024-06-20T03:53:41.880Z"
   },
   {
    "duration": 8,
    "start_time": "2024-06-20T03:53:50.074Z"
   },
   {
    "duration": 8,
    "start_time": "2024-06-20T03:54:47.426Z"
   },
   {
    "duration": 6,
    "start_time": "2024-06-20T03:55:21.875Z"
   },
   {
    "duration": 18,
    "start_time": "2024-06-20T03:55:25.467Z"
   },
   {
    "duration": 3,
    "start_time": "2024-06-20T03:58:45.265Z"
   },
   {
    "duration": 18,
    "start_time": "2024-06-20T04:01:02.089Z"
   },
   {
    "duration": 3,
    "start_time": "2024-06-20T04:12:39.960Z"
   },
   {
    "duration": 50,
    "start_time": "2024-06-20T04:12:49.315Z"
   },
   {
    "duration": 3,
    "start_time": "2024-06-20T04:12:52.385Z"
   },
   {
    "duration": 51,
    "start_time": "2024-06-20T04:12:52.644Z"
   },
   {
    "duration": 19,
    "start_time": "2024-06-20T04:13:36.443Z"
   },
   {
    "duration": 19,
    "start_time": "2024-06-20T04:14:33.432Z"
   },
   {
    "duration": 78,
    "start_time": "2024-06-20T04:14:48.986Z"
   },
   {
    "duration": 7,
    "start_time": "2024-06-20T04:14:59.950Z"
   },
   {
    "duration": 3,
    "start_time": "2024-06-20T04:15:04.334Z"
   },
   {
    "duration": 54,
    "start_time": "2024-06-20T04:15:04.341Z"
   },
   {
    "duration": 19,
    "start_time": "2024-06-20T04:15:04.398Z"
   },
   {
    "duration": 18,
    "start_time": "2024-06-20T04:15:04.420Z"
   },
   {
    "duration": 82,
    "start_time": "2024-06-20T04:15:04.442Z"
   },
   {
    "duration": 0,
    "start_time": "2024-06-20T04:15:04.527Z"
   },
   {
    "duration": 0,
    "start_time": "2024-06-20T04:15:04.528Z"
   },
   {
    "duration": 0,
    "start_time": "2024-06-20T04:15:04.530Z"
   },
   {
    "duration": 3,
    "start_time": "2024-06-20T04:18:07.621Z"
   },
   {
    "duration": 61,
    "start_time": "2024-06-20T04:18:07.902Z"
   },
   {
    "duration": 21,
    "start_time": "2024-06-20T04:18:08.176Z"
   },
   {
    "duration": 18,
    "start_time": "2024-06-20T04:18:10.400Z"
   },
   {
    "duration": 17,
    "start_time": "2024-06-20T04:18:34.894Z"
   },
   {
    "duration": 19,
    "start_time": "2024-06-20T04:19:54.982Z"
   },
   {
    "duration": 16,
    "start_time": "2024-06-20T04:20:04.435Z"
   },
   {
    "duration": 3,
    "start_time": "2024-06-20T04:20:19.858Z"
   },
   {
    "duration": 56,
    "start_time": "2024-06-20T04:20:19.865Z"
   },
   {
    "duration": 21,
    "start_time": "2024-06-20T04:20:19.924Z"
   },
   {
    "duration": 22,
    "start_time": "2024-06-20T04:20:19.949Z"
   },
   {
    "duration": 39,
    "start_time": "2024-06-20T04:20:19.977Z"
   },
   {
    "duration": 22,
    "start_time": "2024-06-20T04:20:20.018Z"
   },
   {
    "duration": 82,
    "start_time": "2024-06-20T04:20:20.043Z"
   },
   {
    "duration": 0,
    "start_time": "2024-06-20T04:20:20.128Z"
   },
   {
    "duration": 1,
    "start_time": "2024-06-20T04:20:20.129Z"
   },
   {
    "duration": 21,
    "start_time": "2024-06-20T04:20:32.183Z"
   },
   {
    "duration": 9,
    "start_time": "2024-06-20T04:21:47.151Z"
   },
   {
    "duration": 7,
    "start_time": "2024-06-20T04:21:51.784Z"
   },
   {
    "duration": 6,
    "start_time": "2024-06-20T04:22:18.510Z"
   },
   {
    "duration": 23,
    "start_time": "2024-06-20T04:22:30.863Z"
   },
   {
    "duration": 24,
    "start_time": "2024-06-20T04:22:37.669Z"
   },
   {
    "duration": 7,
    "start_time": "2024-06-20T04:22:46.715Z"
   },
   {
    "duration": 22,
    "start_time": "2024-06-20T04:24:03.472Z"
   },
   {
    "duration": 3,
    "start_time": "2024-06-20T04:30:46.999Z"
   },
   {
    "duration": 8,
    "start_time": "2024-06-20T04:32:26.756Z"
   },
   {
    "duration": 7,
    "start_time": "2024-06-20T04:32:30.707Z"
   },
   {
    "duration": 10,
    "start_time": "2024-06-20T04:32:45.923Z"
   },
   {
    "duration": 6,
    "start_time": "2024-06-20T04:32:53.000Z"
   },
   {
    "duration": 26,
    "start_time": "2024-06-20T04:36:57.507Z"
   },
   {
    "duration": 6,
    "start_time": "2024-06-20T04:37:02.015Z"
   },
   {
    "duration": 7,
    "start_time": "2024-06-20T04:37:03.291Z"
   },
   {
    "duration": 7,
    "start_time": "2024-06-20T04:37:13.034Z"
   },
   {
    "duration": 9,
    "start_time": "2024-06-20T04:37:14.685Z"
   },
   {
    "duration": 6,
    "start_time": "2024-06-20T04:37:35.497Z"
   },
   {
    "duration": 9,
    "start_time": "2024-06-20T04:37:38.178Z"
   },
   {
    "duration": 7,
    "start_time": "2024-06-20T04:37:47.919Z"
   },
   {
    "duration": 5,
    "start_time": "2024-06-20T04:37:51.716Z"
   },
   {
    "duration": 19,
    "start_time": "2024-06-20T04:38:11.328Z"
   },
   {
    "duration": 19,
    "start_time": "2024-06-20T04:38:13.656Z"
   },
   {
    "duration": 10,
    "start_time": "2024-06-20T04:45:54.429Z"
   },
   {
    "duration": 7,
    "start_time": "2024-06-20T04:46:05.180Z"
   },
   {
    "duration": 336,
    "start_time": "2024-06-21T03:16:16.551Z"
   },
   {
    "duration": 20,
    "start_time": "2024-06-21T03:16:21.490Z"
   },
   {
    "duration": 458,
    "start_time": "2024-06-21T03:16:26.258Z"
   },
   {
    "duration": 112,
    "start_time": "2024-06-21T03:16:26.720Z"
   },
   {
    "duration": 18,
    "start_time": "2024-06-21T03:16:26.836Z"
   },
   {
    "duration": 42,
    "start_time": "2024-06-21T03:16:26.857Z"
   },
   {
    "duration": 41,
    "start_time": "2024-06-21T03:16:26.907Z"
   },
   {
    "duration": 30,
    "start_time": "2024-06-21T03:16:26.953Z"
   },
   {
    "duration": 6,
    "start_time": "2024-06-21T03:16:26.986Z"
   },
   {
    "duration": 8,
    "start_time": "2024-06-21T03:16:26.995Z"
   },
   {
    "duration": 31,
    "start_time": "2024-06-21T03:16:27.006Z"
   },
   {
    "duration": 12,
    "start_time": "2024-06-21T03:16:27.046Z"
   },
   {
    "duration": 126,
    "start_time": "2024-06-21T03:16:27.061Z"
   },
   {
    "duration": 0,
    "start_time": "2024-06-21T03:16:27.189Z"
   },
   {
    "duration": 0,
    "start_time": "2024-06-21T03:16:27.192Z"
   },
   {
    "duration": 9,
    "start_time": "2024-06-21T03:16:40.838Z"
   },
   {
    "duration": 4,
    "start_time": "2024-06-21T03:16:43.750Z"
   },
   {
    "duration": 9,
    "start_time": "2024-06-21T03:33:53.698Z"
   },
   {
    "duration": 837,
    "start_time": "2024-06-21T03:34:05.958Z"
   },
   {
    "duration": 8,
    "start_time": "2024-06-21T03:34:22.021Z"
   },
   {
    "duration": 9,
    "start_time": "2024-06-21T03:34:25.705Z"
   },
   {
    "duration": 75,
    "start_time": "2024-06-21T03:34:33.589Z"
   },
   {
    "duration": 21,
    "start_time": "2024-06-21T03:35:58.081Z"
   },
   {
    "duration": 9,
    "start_time": "2024-06-21T03:36:01.194Z"
   },
   {
    "duration": 8,
    "start_time": "2024-06-21T03:36:10.791Z"
   },
   {
    "duration": 29,
    "start_time": "2024-06-21T03:37:26.673Z"
   },
   {
    "duration": 7,
    "start_time": "2024-06-21T03:37:31.520Z"
   },
   {
    "duration": 5,
    "start_time": "2024-06-21T03:37:38.685Z"
   },
   {
    "duration": 27,
    "start_time": "2024-06-21T03:37:58.796Z"
   },
   {
    "duration": 17,
    "start_time": "2024-06-21T03:38:32.304Z"
   },
   {
    "duration": 18,
    "start_time": "2024-06-21T03:38:40.533Z"
   },
   {
    "duration": 13,
    "start_time": "2024-06-21T03:38:46.763Z"
   },
   {
    "duration": 21,
    "start_time": "2024-06-21T03:38:50.053Z"
   },
   {
    "duration": 13,
    "start_time": "2024-06-21T03:39:36.366Z"
   },
   {
    "duration": 16,
    "start_time": "2024-06-21T03:39:54.729Z"
   },
   {
    "duration": 42,
    "start_time": "2024-06-21T03:41:40.627Z"
   },
   {
    "duration": 9,
    "start_time": "2024-06-21T03:41:42.404Z"
   },
   {
    "duration": 9,
    "start_time": "2024-06-21T03:41:44.104Z"
   },
   {
    "duration": 22,
    "start_time": "2024-06-21T03:42:57.881Z"
   },
   {
    "duration": 25,
    "start_time": "2024-06-21T03:43:06.816Z"
   },
   {
    "duration": 18,
    "start_time": "2024-06-21T03:43:21.256Z"
   },
   {
    "duration": 17,
    "start_time": "2024-06-21T03:43:22.288Z"
   },
   {
    "duration": 20,
    "start_time": "2024-06-21T03:43:23.902Z"
   },
   {
    "duration": 8,
    "start_time": "2024-06-21T03:43:26.635Z"
   },
   {
    "duration": 7,
    "start_time": "2024-06-21T03:43:42.547Z"
   },
   {
    "duration": 8,
    "start_time": "2024-06-21T03:43:48.196Z"
   },
   {
    "duration": 10,
    "start_time": "2024-06-21T03:43:48.728Z"
   },
   {
    "duration": 7,
    "start_time": "2024-06-21T03:43:52.361Z"
   },
   {
    "duration": 50,
    "start_time": "2024-06-21T03:43:52.371Z"
   },
   {
    "duration": 16,
    "start_time": "2024-06-21T03:43:52.425Z"
   },
   {
    "duration": 20,
    "start_time": "2024-06-21T03:43:52.444Z"
   },
   {
    "duration": 19,
    "start_time": "2024-06-21T03:43:52.469Z"
   },
   {
    "duration": 47,
    "start_time": "2024-06-21T03:43:52.491Z"
   },
   {
    "duration": 10,
    "start_time": "2024-06-21T03:43:52.544Z"
   },
   {
    "duration": 11,
    "start_time": "2024-06-21T03:43:52.556Z"
   },
   {
    "duration": 8,
    "start_time": "2024-06-21T03:43:52.570Z"
   },
   {
    "duration": 7,
    "start_time": "2024-06-21T03:43:52.581Z"
   },
   {
    "duration": 7,
    "start_time": "2024-06-21T03:43:52.624Z"
   },
   {
    "duration": 56,
    "start_time": "2024-06-21T03:43:52.635Z"
   },
   {
    "duration": 0,
    "start_time": "2024-06-21T03:43:52.693Z"
   },
   {
    "duration": 0,
    "start_time": "2024-06-21T03:43:52.696Z"
   },
   {
    "duration": 8,
    "start_time": "2024-06-21T03:44:18.587Z"
   },
   {
    "duration": 11,
    "start_time": "2024-06-21T03:44:19.165Z"
   },
   {
    "duration": 8,
    "start_time": "2024-06-21T03:45:54.268Z"
   },
   {
    "duration": 8,
    "start_time": "2024-06-21T03:45:58.844Z"
   },
   {
    "duration": 471,
    "start_time": "2024-06-21T04:20:56.890Z"
   },
   {
    "duration": 5,
    "start_time": "2024-06-21T04:21:16.066Z"
   },
   {
    "duration": 7,
    "start_time": "2024-06-21T04:21:24.752Z"
   },
   {
    "duration": 17,
    "start_time": "2024-06-21T04:21:28.821Z"
   },
   {
    "duration": 40,
    "start_time": "2024-06-21T04:21:39.297Z"
   },
   {
    "duration": 17,
    "start_time": "2024-06-21T04:21:59.432Z"
   },
   {
    "duration": 10,
    "start_time": "2024-06-21T04:32:57.754Z"
   },
   {
    "duration": 19,
    "start_time": "2024-06-21T04:33:01.227Z"
   },
   {
    "duration": 11,
    "start_time": "2024-06-21T04:33:24.049Z"
   },
   {
    "duration": 11,
    "start_time": "2024-06-21T04:33:31.895Z"
   },
   {
    "duration": 9,
    "start_time": "2024-06-21T04:33:38.919Z"
   },
   {
    "duration": 11,
    "start_time": "2024-06-21T04:34:28.461Z"
   },
   {
    "duration": 9,
    "start_time": "2024-06-21T04:35:18.586Z"
   },
   {
    "duration": 16,
    "start_time": "2024-06-21T04:35:21.174Z"
   },
   {
    "duration": 21,
    "start_time": "2024-06-21T04:35:24.421Z"
   },
   {
    "duration": 5,
    "start_time": "2024-06-21T04:35:32.230Z"
   },
   {
    "duration": 666,
    "start_time": "2024-06-21T04:44:40.805Z"
   },
   {
    "duration": 11,
    "start_time": "2024-06-21T04:44:46.357Z"
   },
   {
    "duration": 7,
    "start_time": "2024-06-21T04:45:19.665Z"
   },
   {
    "duration": 9,
    "start_time": "2024-06-21T04:45:22.230Z"
   },
   {
    "duration": 6,
    "start_time": "2024-06-21T04:45:26.546Z"
   },
   {
    "duration": 18,
    "start_time": "2024-06-21T04:50:58.375Z"
   },
   {
    "duration": 11,
    "start_time": "2024-06-21T04:52:22.340Z"
   },
   {
    "duration": 8,
    "start_time": "2024-06-21T04:53:06.136Z"
   },
   {
    "duration": 12,
    "start_time": "2024-06-21T04:53:08.190Z"
   },
   {
    "duration": 321,
    "start_time": "2024-06-21T04:54:42.978Z"
   },
   {
    "duration": 47,
    "start_time": "2024-06-21T04:54:47.245Z"
   },
   {
    "duration": 7,
    "start_time": "2024-06-21T04:55:47.553Z"
   },
   {
    "duration": 30,
    "start_time": "2024-06-21T04:55:51.053Z"
   },
   {
    "duration": 27,
    "start_time": "2024-06-21T04:57:44.128Z"
   },
   {
    "duration": 6,
    "start_time": "2024-06-21T04:57:44.971Z"
   },
   {
    "duration": 7,
    "start_time": "2024-06-21T04:57:52.207Z"
   },
   {
    "duration": 178,
    "start_time": "2024-06-21T04:59:16.055Z"
   },
   {
    "duration": 173,
    "start_time": "2024-06-21T04:59:22.752Z"
   },
   {
    "duration": 128,
    "start_time": "2024-06-21T04:59:43.297Z"
   },
   {
    "duration": 14,
    "start_time": "2024-06-21T05:00:31.042Z"
   },
   {
    "duration": 127,
    "start_time": "2024-06-21T05:00:44.284Z"
   },
   {
    "duration": 12,
    "start_time": "2024-06-21T05:02:30.942Z"
   },
   {
    "duration": 12,
    "start_time": "2024-06-21T05:02:48.586Z"
   },
   {
    "duration": 10,
    "start_time": "2024-06-21T05:02:51.881Z"
   },
   {
    "duration": 6,
    "start_time": "2024-06-21T05:02:55.903Z"
   },
   {
    "duration": 14,
    "start_time": "2024-06-21T05:02:56.114Z"
   },
   {
    "duration": 255,
    "start_time": "2024-06-21T05:04:35.498Z"
   },
   {
    "duration": 229,
    "start_time": "2024-06-21T05:04:46.745Z"
   },
   {
    "duration": 25,
    "start_time": "2024-06-21T05:05:00.409Z"
   },
   {
    "duration": 216,
    "start_time": "2024-06-21T05:05:30.210Z"
   },
   {
    "duration": 27,
    "start_time": "2024-06-21T05:05:32.058Z"
   },
   {
    "duration": 258,
    "start_time": "2024-06-21T05:05:34.691Z"
   },
   {
    "duration": 270,
    "start_time": "2024-06-21T05:06:01.471Z"
   },
   {
    "duration": 263,
    "start_time": "2024-06-21T05:06:04.673Z"
   },
   {
    "duration": 265,
    "start_time": "2024-06-21T05:06:21.176Z"
   },
   {
    "duration": 262,
    "start_time": "2024-06-21T05:06:32.582Z"
   },
   {
    "duration": 5,
    "start_time": "2024-06-21T05:07:32.561Z"
   },
   {
    "duration": 5,
    "start_time": "2024-06-21T05:07:40.985Z"
   },
   {
    "duration": 6,
    "start_time": "2024-06-21T05:07:45.982Z"
   },
   {
    "duration": 5,
    "start_time": "2024-06-21T05:07:52.480Z"
   },
   {
    "duration": 9,
    "start_time": "2024-06-21T05:07:58.998Z"
   },
   {
    "duration": 8,
    "start_time": "2024-06-21T05:08:19.670Z"
   },
   {
    "duration": 8,
    "start_time": "2024-06-21T05:08:22.675Z"
   },
   {
    "duration": 8,
    "start_time": "2024-06-21T05:08:24.425Z"
   },
   {
    "duration": 8,
    "start_time": "2024-06-21T05:09:01.901Z"
   },
   {
    "duration": 8,
    "start_time": "2024-06-21T05:09:15.097Z"
   },
   {
    "duration": 321,
    "start_time": "2024-06-22T03:36:43.045Z"
   },
   {
    "duration": 455,
    "start_time": "2024-06-22T03:36:48.108Z"
   },
   {
    "duration": 67,
    "start_time": "2024-06-22T03:36:48.566Z"
   },
   {
    "duration": 20,
    "start_time": "2024-06-22T03:36:48.636Z"
   },
   {
    "duration": 25,
    "start_time": "2024-06-22T03:36:48.659Z"
   },
   {
    "duration": 52,
    "start_time": "2024-06-22T03:36:48.687Z"
   },
   {
    "duration": 18,
    "start_time": "2024-06-22T03:36:48.742Z"
   },
   {
    "duration": 22,
    "start_time": "2024-06-22T03:36:48.763Z"
   },
   {
    "duration": 41,
    "start_time": "2024-06-22T03:36:48.787Z"
   },
   {
    "duration": 11,
    "start_time": "2024-06-22T03:36:48.832Z"
   },
   {
    "duration": 11,
    "start_time": "2024-06-22T03:36:48.848Z"
   },
   {
    "duration": 13,
    "start_time": "2024-06-22T03:36:48.862Z"
   },
   {
    "duration": 52,
    "start_time": "2024-06-22T03:36:48.877Z"
   },
   {
    "duration": 8,
    "start_time": "2024-06-22T03:36:48.932Z"
   },
   {
    "duration": 8,
    "start_time": "2024-06-22T03:36:48.943Z"
   },
   {
    "duration": 72,
    "start_time": "2024-06-22T03:36:48.955Z"
   },
   {
    "duration": 6,
    "start_time": "2024-06-22T03:36:49.030Z"
   },
   {
    "duration": 290,
    "start_time": "2024-06-22T03:36:49.039Z"
   },
   {
    "duration": 24,
    "start_time": "2024-06-22T03:36:49.332Z"
   },
   {
    "duration": 11,
    "start_time": "2024-06-22T03:36:49.359Z"
   },
   {
    "duration": 17,
    "start_time": "2024-06-22T03:36:53.820Z"
   },
   {
    "duration": 476,
    "start_time": "2024-06-27T04:25:59.831Z"
   },
   {
    "duration": 71,
    "start_time": "2024-06-27T04:26:00.311Z"
   },
   {
    "duration": 20,
    "start_time": "2024-06-27T04:26:00.385Z"
   },
   {
    "duration": 33,
    "start_time": "2024-06-27T04:26:00.408Z"
   },
   {
    "duration": 21,
    "start_time": "2024-06-27T04:26:00.445Z"
   },
   {
    "duration": 19,
    "start_time": "2024-06-27T04:26:00.468Z"
   },
   {
    "duration": 24,
    "start_time": "2024-06-27T04:26:00.522Z"
   },
   {
    "duration": 8,
    "start_time": "2024-06-27T04:26:00.549Z"
   },
   {
    "duration": 11,
    "start_time": "2024-06-27T04:26:00.560Z"
   },
   {
    "duration": 51,
    "start_time": "2024-06-27T04:26:00.574Z"
   },
   {
    "duration": 16,
    "start_time": "2024-06-27T04:26:00.628Z"
   },
   {
    "duration": 7,
    "start_time": "2024-06-27T04:26:00.646Z"
   },
   {
    "duration": 8,
    "start_time": "2024-06-27T04:26:00.656Z"
   },
   {
    "duration": 52,
    "start_time": "2024-06-27T04:26:00.671Z"
   },
   {
    "duration": 34,
    "start_time": "2024-06-27T04:26:00.727Z"
   },
   {
    "duration": 7,
    "start_time": "2024-06-27T04:26:00.763Z"
   },
   {
    "duration": 300,
    "start_time": "2024-06-27T04:26:00.772Z"
   },
   {
    "duration": 28,
    "start_time": "2024-06-27T04:26:01.075Z"
   },
   {
    "duration": 9,
    "start_time": "2024-06-27T04:26:01.122Z"
   },
   {
    "duration": 134,
    "start_time": "2024-06-27T04:30:27.778Z"
   },
   {
    "duration": 17,
    "start_time": "2024-06-27T04:30:49.789Z"
   },
   {
    "duration": 6,
    "start_time": "2024-06-27T04:30:54.857Z"
   },
   {
    "duration": 18,
    "start_time": "2024-06-27T04:31:04.973Z"
   },
   {
    "duration": 6,
    "start_time": "2024-06-27T04:31:08.467Z"
   },
   {
    "duration": 7,
    "start_time": "2024-06-27T04:31:13.811Z"
   },
   {
    "duration": 7,
    "start_time": "2024-06-27T04:31:16.678Z"
   },
   {
    "duration": 6,
    "start_time": "2024-06-27T04:31:20.461Z"
   },
   {
    "duration": 7,
    "start_time": "2024-06-27T04:31:51.329Z"
   },
   {
    "duration": 7,
    "start_time": "2024-06-27T04:32:11.256Z"
   },
   {
    "duration": 8,
    "start_time": "2024-06-27T04:32:11.455Z"
   },
   {
    "duration": 7,
    "start_time": "2024-06-27T04:32:11.817Z"
   },
   {
    "duration": 7,
    "start_time": "2024-06-27T04:32:23.598Z"
   },
   {
    "duration": 8,
    "start_time": "2024-06-27T04:34:32.308Z"
   },
   {
    "duration": 26,
    "start_time": "2024-06-27T04:34:32.785Z"
   },
   {
    "duration": 23,
    "start_time": "2024-06-27T04:35:00.072Z"
   },
   {
    "duration": 12,
    "start_time": "2024-06-27T04:37:34.334Z"
   },
   {
    "duration": 9,
    "start_time": "2024-06-27T04:37:44.406Z"
   },
   {
    "duration": 11,
    "start_time": "2024-06-27T04:37:59.406Z"
   },
   {
    "duration": 6,
    "start_time": "2024-06-27T04:38:08.916Z"
   },
   {
    "duration": 23,
    "start_time": "2024-06-27T04:38:38.386Z"
   },
   {
    "duration": 26,
    "start_time": "2024-06-27T04:39:14.054Z"
   },
   {
    "duration": 322,
    "start_time": "2024-06-28T03:52:43.568Z"
   },
   {
    "duration": 477,
    "start_time": "2024-06-28T03:52:48.571Z"
   },
   {
    "duration": 74,
    "start_time": "2024-06-28T03:52:49.052Z"
   },
   {
    "duration": 18,
    "start_time": "2024-06-28T03:52:49.129Z"
   },
   {
    "duration": 43,
    "start_time": "2024-06-28T03:52:49.153Z"
   },
   {
    "duration": 22,
    "start_time": "2024-06-28T03:52:49.199Z"
   },
   {
    "duration": 18,
    "start_time": "2024-06-28T03:52:49.223Z"
   },
   {
    "duration": 59,
    "start_time": "2024-06-28T03:52:49.245Z"
   },
   {
    "duration": 8,
    "start_time": "2024-06-28T03:52:49.306Z"
   },
   {
    "duration": 12,
    "start_time": "2024-06-28T03:52:49.317Z"
   },
   {
    "duration": 10,
    "start_time": "2024-06-28T03:52:49.335Z"
   },
   {
    "duration": 45,
    "start_time": "2024-06-28T03:52:49.348Z"
   },
   {
    "duration": 9,
    "start_time": "2024-06-28T03:52:49.396Z"
   },
   {
    "duration": 10,
    "start_time": "2024-06-28T03:52:49.409Z"
   },
   {
    "duration": 13,
    "start_time": "2024-06-28T03:52:49.424Z"
   },
   {
    "duration": 71,
    "start_time": "2024-06-28T03:52:49.441Z"
   },
   {
    "duration": 6,
    "start_time": "2024-06-28T03:52:49.516Z"
   },
   {
    "duration": 280,
    "start_time": "2024-06-28T03:52:49.525Z"
   },
   {
    "duration": 23,
    "start_time": "2024-06-28T03:52:49.808Z"
   },
   {
    "duration": 8,
    "start_time": "2024-06-28T03:52:49.835Z"
   },
   {
    "duration": 51,
    "start_time": "2024-06-28T03:52:49.846Z"
   },
   {
    "duration": 8,
    "start_time": "2024-06-28T03:52:49.899Z"
   },
   {
    "duration": 7,
    "start_time": "2024-06-28T03:52:49.910Z"
   },
   {
    "duration": 6,
    "start_time": "2024-06-28T03:52:49.921Z"
   },
   {
    "duration": 6,
    "start_time": "2024-06-28T03:52:49.931Z"
   },
   {
    "duration": 7,
    "start_time": "2024-06-28T03:52:49.991Z"
   },
   {
    "duration": 25,
    "start_time": "2024-06-28T03:52:50.001Z"
   },
   {
    "duration": 12,
    "start_time": "2024-06-28T03:52:50.028Z"
   },
   {
    "duration": 11,
    "start_time": "2024-06-28T03:53:08.893Z"
   },
   {
    "duration": 16,
    "start_time": "2024-06-28T03:54:40.639Z"
   },
   {
    "duration": 870,
    "start_time": "2024-06-28T03:55:08.471Z"
   },
   {
    "duration": 63,
    "start_time": "2024-06-28T03:55:18.729Z"
   },
   {
    "duration": 57,
    "start_time": "2024-06-28T03:55:21.828Z"
   },
   {
    "duration": 15,
    "start_time": "2024-06-28T03:56:03.194Z"
   },
   {
    "duration": 15,
    "start_time": "2024-06-28T03:57:12.268Z"
   },
   {
    "duration": 16,
    "start_time": "2024-06-28T03:57:25.791Z"
   },
   {
    "duration": 13,
    "start_time": "2024-06-28T03:58:07.198Z"
   },
   {
    "duration": 17,
    "start_time": "2024-06-28T03:58:13.249Z"
   },
   {
    "duration": 9,
    "start_time": "2024-06-28T03:59:20.020Z"
   },
   {
    "duration": 441,
    "start_time": "2024-06-28T03:59:37.605Z"
   },
   {
    "duration": 67,
    "start_time": "2024-06-28T04:00:08.769Z"
   },
   {
    "duration": 11,
    "start_time": "2024-06-28T04:00:29.748Z"
   },
   {
    "duration": 1013,
    "start_time": "2024-06-28T04:00:35.480Z"
   },
   {
    "duration": 7,
    "start_time": "2024-06-28T04:00:46.888Z"
   },
   {
    "duration": 14,
    "start_time": "2024-06-28T04:01:45.258Z"
   },
   {
    "duration": 9,
    "start_time": "2024-06-28T04:01:51.704Z"
   },
   {
    "duration": 8,
    "start_time": "2024-06-28T04:02:37.867Z"
   },
   {
    "duration": 311,
    "start_time": "2024-07-03T04:45:37.433Z"
   },
   {
    "duration": 435,
    "start_time": "2024-07-03T04:45:42.192Z"
   },
   {
    "duration": 71,
    "start_time": "2024-07-03T04:45:42.633Z"
   },
   {
    "duration": 18,
    "start_time": "2024-07-03T04:45:42.707Z"
   },
   {
    "duration": 23,
    "start_time": "2024-07-03T04:45:42.729Z"
   },
   {
    "duration": 20,
    "start_time": "2024-07-03T04:45:42.755Z"
   },
   {
    "duration": 18,
    "start_time": "2024-07-03T04:45:42.778Z"
   },
   {
    "duration": 21,
    "start_time": "2024-07-03T04:45:42.834Z"
   },
   {
    "duration": 12,
    "start_time": "2024-07-03T04:45:42.857Z"
   },
   {
    "duration": 12,
    "start_time": "2024-07-03T04:45:42.871Z"
   },
   {
    "duration": 45,
    "start_time": "2024-07-03T04:45:42.889Z"
   },
   {
    "duration": 14,
    "start_time": "2024-07-03T04:45:42.937Z"
   },
   {
    "duration": 7,
    "start_time": "2024-07-03T04:45:42.954Z"
   },
   {
    "duration": 7,
    "start_time": "2024-07-03T04:45:42.964Z"
   },
   {
    "duration": 8,
    "start_time": "2024-07-03T04:45:42.974Z"
   },
   {
    "duration": 75,
    "start_time": "2024-07-03T04:45:42.985Z"
   },
   {
    "duration": 6,
    "start_time": "2024-07-03T04:45:43.063Z"
   },
   {
    "duration": 289,
    "start_time": "2024-07-03T04:45:43.072Z"
   },
   {
    "duration": 22,
    "start_time": "2024-07-03T04:45:43.364Z"
   },
   {
    "duration": 9,
    "start_time": "2024-07-03T04:45:43.390Z"
   },
   {
    "duration": 57,
    "start_time": "2024-07-03T04:45:43.402Z"
   },
   {
    "duration": 8,
    "start_time": "2024-07-03T04:45:43.462Z"
   },
   {
    "duration": 7,
    "start_time": "2024-07-03T04:45:43.474Z"
   },
   {
    "duration": 51,
    "start_time": "2024-07-03T04:45:43.484Z"
   },
   {
    "duration": 8,
    "start_time": "2024-07-03T04:45:43.538Z"
   },
   {
    "duration": 8,
    "start_time": "2024-07-03T04:45:43.550Z"
   },
   {
    "duration": 27,
    "start_time": "2024-07-03T04:45:43.561Z"
   },
   {
    "duration": 49,
    "start_time": "2024-07-03T04:45:43.591Z"
   },
   {
    "duration": 16,
    "start_time": "2024-07-03T04:45:43.646Z"
   },
   {
    "duration": 8,
    "start_time": "2024-07-03T04:45:43.665Z"
   },
   {
    "duration": 6,
    "start_time": "2024-07-03T04:45:43.676Z"
   },
   {
    "duration": 32,
    "start_time": "2024-07-03T04:45:49.581Z"
   },
   {
    "duration": 9,
    "start_time": "2024-07-03T04:46:34.447Z"
   },
   {
    "duration": 13,
    "start_time": "2024-07-03T04:47:04.176Z"
   },
   {
    "duration": 879,
    "start_time": "2024-07-03T04:48:19.449Z"
   },
   {
    "duration": 41,
    "start_time": "2024-07-03T04:48:53.425Z"
   },
   {
    "duration": 19,
    "start_time": "2024-07-03T04:49:06.258Z"
   },
   {
    "duration": 5137,
    "start_time": "2024-07-03T04:50:39.522Z"
   },
   {
    "duration": 44,
    "start_time": "2024-07-03T04:51:49.900Z"
   },
   {
    "duration": 3,
    "start_time": "2024-07-03T04:51:57.814Z"
   },
   {
    "duration": 58,
    "start_time": "2024-07-03T04:51:58.730Z"
   },
   {
    "duration": 21,
    "start_time": "2024-07-03T04:51:59.266Z"
   },
   {
    "duration": 21,
    "start_time": "2024-07-03T04:51:59.292Z"
   },
   {
    "duration": 21,
    "start_time": "2024-07-03T04:51:59.332Z"
   },
   {
    "duration": 22,
    "start_time": "2024-07-03T04:51:59.411Z"
   },
   {
    "duration": 29,
    "start_time": "2024-07-03T04:51:59.440Z"
   },
   {
    "duration": 11,
    "start_time": "2024-07-03T04:51:59.503Z"
   },
   {
    "duration": 13,
    "start_time": "2024-07-03T04:51:59.557Z"
   },
   {
    "duration": 12,
    "start_time": "2024-07-03T04:51:59.576Z"
   },
   {
    "duration": 16,
    "start_time": "2024-07-03T04:51:59.626Z"
   },
   {
    "duration": 6,
    "start_time": "2024-07-03T04:51:59.710Z"
   },
   {
    "duration": 8,
    "start_time": "2024-07-03T04:51:59.738Z"
   },
   {
    "duration": 9,
    "start_time": "2024-07-03T04:51:59.798Z"
   },
   {
    "duration": 35,
    "start_time": "2024-07-03T04:51:59.828Z"
   },
   {
    "duration": 6,
    "start_time": "2024-07-03T04:51:59.867Z"
   },
   {
    "duration": 289,
    "start_time": "2024-07-03T04:51:59.891Z"
   },
   {
    "duration": 23,
    "start_time": "2024-07-03T04:52:00.183Z"
   },
   {
    "duration": 26,
    "start_time": "2024-07-03T04:52:00.210Z"
   },
   {
    "duration": 23,
    "start_time": "2024-07-03T04:52:00.241Z"
   },
   {
    "duration": 9,
    "start_time": "2024-07-03T04:52:00.268Z"
   },
   {
    "duration": 6,
    "start_time": "2024-07-03T04:52:00.280Z"
   },
   {
    "duration": 47,
    "start_time": "2024-07-03T04:52:00.289Z"
   },
   {
    "duration": 10,
    "start_time": "2024-07-03T04:52:00.340Z"
   },
   {
    "duration": 5,
    "start_time": "2024-07-03T04:52:00.354Z"
   },
   {
    "duration": 25,
    "start_time": "2024-07-03T04:52:00.364Z"
   },
   {
    "duration": 15,
    "start_time": "2024-07-03T04:52:00.433Z"
   },
   {
    "duration": 17,
    "start_time": "2024-07-03T04:52:00.451Z"
   },
   {
    "duration": 11,
    "start_time": "2024-07-03T04:52:00.489Z"
   },
   {
    "duration": 26,
    "start_time": "2024-07-03T04:52:00.519Z"
   },
   {
    "duration": 581,
    "start_time": "2024-07-03T04:52:00.594Z"
   },
   {
    "duration": 312,
    "start_time": "2024-07-13T04:22:10.529Z"
   },
   {
    "duration": 4492,
    "start_time": "2024-07-13T04:22:15.264Z"
   },
   {
    "duration": 67,
    "start_time": "2024-07-13T04:22:19.759Z"
   },
   {
    "duration": 21,
    "start_time": "2024-07-13T04:22:19.830Z"
   },
   {
    "duration": 23,
    "start_time": "2024-07-13T04:22:19.855Z"
   },
   {
    "duration": 61,
    "start_time": "2024-07-13T04:22:19.883Z"
   },
   {
    "duration": 19,
    "start_time": "2024-07-13T04:22:19.948Z"
   },
   {
    "duration": 23,
    "start_time": "2024-07-13T04:22:19.970Z"
   },
   {
    "duration": 8,
    "start_time": "2024-07-13T04:22:20.032Z"
   },
   {
    "duration": 11,
    "start_time": "2024-07-13T04:22:20.043Z"
   },
   {
    "duration": 11,
    "start_time": "2024-07-13T04:22:20.058Z"
   },
   {
    "duration": 60,
    "start_time": "2024-07-13T04:22:20.072Z"
   },
   {
    "duration": 8,
    "start_time": "2024-07-13T04:22:20.135Z"
   },
   {
    "duration": 7,
    "start_time": "2024-07-13T04:22:20.147Z"
   },
   {
    "duration": 7,
    "start_time": "2024-07-13T04:22:20.162Z"
   },
   {
    "duration": 81,
    "start_time": "2024-07-13T04:22:20.173Z"
   },
   {
    "duration": 7,
    "start_time": "2024-07-13T04:22:20.256Z"
   },
   {
    "duration": 303,
    "start_time": "2024-07-13T04:22:20.266Z"
   },
   {
    "duration": 24,
    "start_time": "2024-07-13T04:22:20.572Z"
   },
   {
    "duration": 33,
    "start_time": "2024-07-13T04:22:20.599Z"
   },
   {
    "duration": 24,
    "start_time": "2024-07-13T04:22:20.635Z"
   },
   {
    "duration": 8,
    "start_time": "2024-07-13T04:22:20.662Z"
   },
   {
    "duration": 8,
    "start_time": "2024-07-13T04:22:20.673Z"
   },
   {
    "duration": 9,
    "start_time": "2024-07-13T04:22:20.732Z"
   },
   {
    "duration": 7,
    "start_time": "2024-07-13T04:22:20.744Z"
   },
   {
    "duration": 9,
    "start_time": "2024-07-13T04:22:20.754Z"
   },
   {
    "duration": 8,
    "start_time": "2024-07-13T04:22:20.766Z"
   },
   {
    "duration": 77,
    "start_time": "2024-07-13T04:22:20.777Z"
   },
   {
    "duration": 13,
    "start_time": "2024-07-13T04:22:20.857Z"
   },
   {
    "duration": 15,
    "start_time": "2024-07-13T04:22:20.873Z"
   },
   {
    "duration": 17,
    "start_time": "2024-07-13T04:22:20.931Z"
   },
   {
    "duration": 637,
    "start_time": "2024-07-13T04:22:20.951Z"
   },
   {
    "duration": 4617,
    "start_time": "2024-07-17T03:04:00.906Z"
   },
   {
    "duration": 77,
    "start_time": "2024-07-17T03:04:05.526Z"
   },
   {
    "duration": 20,
    "start_time": "2024-07-17T03:04:05.608Z"
   },
   {
    "duration": 39,
    "start_time": "2024-07-17T03:04:05.632Z"
   },
   {
    "duration": 31,
    "start_time": "2024-07-17T03:04:05.676Z"
   },
   {
    "duration": 21,
    "start_time": "2024-07-17T03:04:05.710Z"
   },
   {
    "duration": 54,
    "start_time": "2024-07-17T03:04:05.734Z"
   },
   {
    "duration": 13,
    "start_time": "2024-07-17T03:04:05.791Z"
   },
   {
    "duration": 13,
    "start_time": "2024-07-17T03:04:05.807Z"
   },
   {
    "duration": 42,
    "start_time": "2024-07-17T03:04:05.826Z"
   },
   {
    "duration": 15,
    "start_time": "2024-07-17T03:04:05.871Z"
   },
   {
    "duration": 7,
    "start_time": "2024-07-17T03:04:05.889Z"
   },
   {
    "duration": 12,
    "start_time": "2024-07-17T03:04:05.899Z"
   },
   {
    "duration": 9,
    "start_time": "2024-07-17T03:04:05.914Z"
   },
   {
    "duration": 76,
    "start_time": "2024-07-17T03:04:05.926Z"
   },
   {
    "duration": 7,
    "start_time": "2024-07-17T03:04:06.005Z"
   },
   {
    "duration": 288,
    "start_time": "2024-07-17T03:04:06.016Z"
   },
   {
    "duration": 25,
    "start_time": "2024-07-17T03:04:06.308Z"
   },
   {
    "duration": 35,
    "start_time": "2024-07-17T03:04:06.336Z"
   },
   {
    "duration": 26,
    "start_time": "2024-07-17T03:04:06.374Z"
   },
   {
    "duration": 7,
    "start_time": "2024-07-17T03:04:06.403Z"
   },
   {
    "duration": 12,
    "start_time": "2024-07-17T03:04:06.418Z"
   },
   {
    "duration": 36,
    "start_time": "2024-07-17T03:04:06.433Z"
   },
   {
    "duration": 11,
    "start_time": "2024-07-17T03:04:06.473Z"
   },
   {
    "duration": 9,
    "start_time": "2024-07-17T03:04:06.487Z"
   },
   {
    "duration": 7,
    "start_time": "2024-07-17T03:04:06.499Z"
   },
   {
    "duration": 62,
    "start_time": "2024-07-17T03:04:06.509Z"
   },
   {
    "duration": 16,
    "start_time": "2024-07-17T03:04:06.578Z"
   },
   {
    "duration": 19,
    "start_time": "2024-07-17T03:04:06.598Z"
   },
   {
    "duration": 55,
    "start_time": "2024-07-17T03:04:06.620Z"
   },
   {
    "duration": 602,
    "start_time": "2024-07-17T03:04:06.678Z"
   },
   {
    "duration": 11,
    "start_time": "2024-07-17T03:53:57.037Z"
   },
   {
    "duration": 24,
    "start_time": "2024-07-17T03:54:53.456Z"
   },
   {
    "duration": 5,
    "start_time": "2024-07-17T03:54:58.114Z"
   },
   {
    "duration": 26,
    "start_time": "2024-07-17T03:54:58.390Z"
   },
   {
    "duration": 23,
    "start_time": "2024-07-17T03:54:58.678Z"
   },
   {
    "duration": 21,
    "start_time": "2024-07-17T03:54:59.097Z"
   },
   {
    "duration": 18,
    "start_time": "2024-07-17T03:54:59.949Z"
   },
   {
    "duration": 4,
    "start_time": "2024-07-17T03:55:40.039Z"
   },
   {
    "duration": 51,
    "start_time": "2024-07-17T03:55:40.047Z"
   },
   {
    "duration": 22,
    "start_time": "2024-07-17T03:55:40.101Z"
   },
   {
    "duration": 42,
    "start_time": "2024-07-17T03:55:40.127Z"
   },
   {
    "duration": 21,
    "start_time": "2024-07-17T03:55:40.175Z"
   },
   {
    "duration": 90,
    "start_time": "2024-07-17T03:55:40.199Z"
   },
   {
    "duration": 20,
    "start_time": "2024-07-17T03:55:40.292Z"
   },
   {
    "duration": 8,
    "start_time": "2024-07-17T03:55:40.316Z"
   },
   {
    "duration": 46,
    "start_time": "2024-07-17T03:55:40.327Z"
   },
   {
    "duration": 10,
    "start_time": "2024-07-17T03:55:40.376Z"
   },
   {
    "duration": 12,
    "start_time": "2024-07-17T03:55:40.389Z"
   },
   {
    "duration": 9,
    "start_time": "2024-07-17T03:55:40.404Z"
   },
   {
    "duration": 7,
    "start_time": "2024-07-17T03:55:40.415Z"
   },
   {
    "duration": 6,
    "start_time": "2024-07-17T03:55:40.473Z"
   },
   {
    "duration": 34,
    "start_time": "2024-07-17T03:55:40.482Z"
   },
   {
    "duration": 7,
    "start_time": "2024-07-17T03:55:40.518Z"
   },
   {
    "duration": 309,
    "start_time": "2024-07-17T03:55:40.528Z"
   },
   {
    "duration": 32,
    "start_time": "2024-07-17T03:55:40.840Z"
   },
   {
    "duration": 8,
    "start_time": "2024-07-17T03:55:40.875Z"
   },
   {
    "duration": 22,
    "start_time": "2024-07-17T03:55:40.887Z"
   },
   {
    "duration": 6,
    "start_time": "2024-07-17T03:55:40.913Z"
   },
   {
    "duration": 48,
    "start_time": "2024-07-17T03:55:40.922Z"
   },
   {
    "duration": 7,
    "start_time": "2024-07-17T03:55:40.973Z"
   },
   {
    "duration": 7,
    "start_time": "2024-07-17T03:55:40.983Z"
   },
   {
    "duration": 8,
    "start_time": "2024-07-17T03:55:40.994Z"
   },
   {
    "duration": 654,
    "start_time": "2024-07-17T03:55:41.005Z"
   },
   {
    "duration": 0,
    "start_time": "2024-07-17T03:55:41.669Z"
   },
   {
    "duration": 0,
    "start_time": "2024-07-17T03:55:41.672Z"
   },
   {
    "duration": 0,
    "start_time": "2024-07-17T03:55:41.674Z"
   },
   {
    "duration": 0,
    "start_time": "2024-07-17T03:55:41.677Z"
   },
   {
    "duration": 0,
    "start_time": "2024-07-17T03:55:41.680Z"
   },
   {
    "duration": 4,
    "start_time": "2024-07-17T04:22:30.545Z"
   },
   {
    "duration": 61,
    "start_time": "2024-07-17T04:22:30.553Z"
   },
   {
    "duration": 23,
    "start_time": "2024-07-17T04:22:30.618Z"
   },
   {
    "duration": 41,
    "start_time": "2024-07-17T04:22:30.644Z"
   },
   {
    "duration": 26,
    "start_time": "2024-07-17T04:22:30.690Z"
   },
   {
    "duration": 53,
    "start_time": "2024-07-17T04:22:30.719Z"
   },
   {
    "duration": 30,
    "start_time": "2024-07-17T04:22:30.775Z"
   },
   {
    "duration": 10,
    "start_time": "2024-07-17T04:22:30.808Z"
   },
   {
    "duration": 47,
    "start_time": "2024-07-17T04:22:30.822Z"
   },
   {
    "duration": 13,
    "start_time": "2024-07-17T04:22:30.872Z"
   },
   {
    "duration": 15,
    "start_time": "2024-07-17T04:22:30.890Z"
   },
   {
    "duration": 8,
    "start_time": "2024-07-17T04:22:30.912Z"
   },
   {
    "duration": 45,
    "start_time": "2024-07-17T04:22:30.923Z"
   },
   {
    "duration": 10,
    "start_time": "2024-07-17T04:22:30.972Z"
   },
   {
    "duration": 41,
    "start_time": "2024-07-17T04:22:30.986Z"
   },
   {
    "duration": 42,
    "start_time": "2024-07-17T04:22:31.032Z"
   },
   {
    "duration": 429,
    "start_time": "2024-07-17T04:22:31.078Z"
   },
   {
    "duration": 30,
    "start_time": "2024-07-17T04:22:31.511Z"
   },
   {
    "duration": 31,
    "start_time": "2024-07-17T04:22:31.545Z"
   },
   {
    "duration": 32,
    "start_time": "2024-07-17T04:22:31.579Z"
   },
   {
    "duration": 8,
    "start_time": "2024-07-17T04:22:31.614Z"
   },
   {
    "duration": 43,
    "start_time": "2024-07-17T04:22:31.627Z"
   },
   {
    "duration": 8,
    "start_time": "2024-07-17T04:22:31.673Z"
   },
   {
    "duration": 7,
    "start_time": "2024-07-17T04:22:31.684Z"
   },
   {
    "duration": 16,
    "start_time": "2024-07-17T04:22:31.694Z"
   },
   {
    "duration": 118,
    "start_time": "2024-07-17T04:22:31.714Z"
   },
   {
    "duration": 0,
    "start_time": "2024-07-17T04:22:31.836Z"
   },
   {
    "duration": 0,
    "start_time": "2024-07-17T04:22:31.838Z"
   },
   {
    "duration": 0,
    "start_time": "2024-07-17T04:22:31.840Z"
   },
   {
    "duration": 0,
    "start_time": "2024-07-17T04:22:31.842Z"
   },
   {
    "duration": 0,
    "start_time": "2024-07-17T04:22:31.844Z"
   },
   {
    "duration": 44,
    "start_time": "2024-07-17T04:33:34.832Z"
   },
   {
    "duration": 43,
    "start_time": "2024-07-17T04:33:43.517Z"
   },
   {
    "duration": 44,
    "start_time": "2024-07-17T04:33:46.433Z"
   },
   {
    "duration": 42,
    "start_time": "2024-07-17T04:33:50.062Z"
   },
   {
    "duration": 6,
    "start_time": "2024-07-17T04:34:59.478Z"
   },
   {
    "duration": 8,
    "start_time": "2024-07-17T04:35:00.638Z"
   },
   {
    "duration": 8,
    "start_time": "2024-07-17T04:35:08.817Z"
   },
   {
    "duration": 8,
    "start_time": "2024-07-17T04:35:11.877Z"
   },
   {
    "duration": 274,
    "start_time": "2024-07-17T04:40:11.810Z"
   },
   {
    "duration": 3,
    "start_time": "2024-07-17T05:03:49.532Z"
   },
   {
    "duration": 49,
    "start_time": "2024-07-17T05:03:49.539Z"
   },
   {
    "duration": 18,
    "start_time": "2024-07-17T05:03:49.592Z"
   },
   {
    "duration": 17,
    "start_time": "2024-07-17T05:03:49.613Z"
   },
   {
    "duration": 48,
    "start_time": "2024-07-17T05:03:49.636Z"
   },
   {
    "duration": 18,
    "start_time": "2024-07-17T05:03:49.687Z"
   },
   {
    "duration": 21,
    "start_time": "2024-07-17T05:03:49.707Z"
   },
   {
    "duration": 40,
    "start_time": "2024-07-17T05:03:49.731Z"
   },
   {
    "duration": 10,
    "start_time": "2024-07-17T05:03:49.774Z"
   },
   {
    "duration": 11,
    "start_time": "2024-07-17T05:03:49.787Z"
   },
   {
    "duration": 15,
    "start_time": "2024-07-17T05:03:49.800Z"
   },
   {
    "duration": 53,
    "start_time": "2024-07-17T05:03:49.818Z"
   },
   {
    "duration": 10,
    "start_time": "2024-07-17T05:03:49.874Z"
   },
   {
    "duration": 7,
    "start_time": "2024-07-17T05:03:49.891Z"
   },
   {
    "duration": 67,
    "start_time": "2024-07-17T05:03:49.901Z"
   },
   {
    "duration": 6,
    "start_time": "2024-07-17T05:03:49.971Z"
   },
   {
    "duration": 279,
    "start_time": "2024-07-17T05:03:49.980Z"
   },
   {
    "duration": 28,
    "start_time": "2024-07-17T05:03:50.261Z"
   },
   {
    "duration": 9,
    "start_time": "2024-07-17T05:03:50.292Z"
   },
   {
    "duration": 23,
    "start_time": "2024-07-17T05:03:50.304Z"
   },
   {
    "duration": 41,
    "start_time": "2024-07-17T05:03:50.331Z"
   },
   {
    "duration": 8,
    "start_time": "2024-07-17T05:03:50.374Z"
   },
   {
    "duration": 7,
    "start_time": "2024-07-17T05:03:50.385Z"
   },
   {
    "duration": 8,
    "start_time": "2024-07-17T05:03:50.395Z"
   },
   {
    "duration": 9,
    "start_time": "2024-07-17T05:03:50.406Z"
   },
   {
    "duration": 6,
    "start_time": "2024-07-17T05:03:50.469Z"
   },
   {
    "duration": 9,
    "start_time": "2024-07-17T05:03:50.478Z"
   },
   {
    "duration": 301,
    "start_time": "2024-07-17T05:03:50.490Z"
   },
   {
    "duration": 606,
    "start_time": "2024-07-17T05:03:50.795Z"
   },
   {
    "duration": 24,
    "start_time": "2024-07-17T05:03:51.404Z"
   },
   {
    "duration": 38,
    "start_time": "2024-07-17T05:03:51.431Z"
   },
   {
    "duration": 16,
    "start_time": "2024-07-17T05:03:51.472Z"
   },
   {
    "duration": 16,
    "start_time": "2024-07-17T05:03:51.491Z"
   },
   {
    "duration": 8,
    "start_time": "2024-07-17T05:04:19.123Z"
   },
   {
    "duration": 4,
    "start_time": "2024-07-17T05:04:30.287Z"
   },
   {
    "duration": 5,
    "start_time": "2024-07-17T05:04:36.617Z"
   },
   {
    "duration": 10,
    "start_time": "2024-07-17T05:04:52.653Z"
   },
   {
    "duration": 5,
    "start_time": "2024-07-17T05:04:52.973Z"
   },
   {
    "duration": 276,
    "start_time": "2024-07-17T05:04:53.394Z"
   },
   {
    "duration": 9,
    "start_time": "2024-07-17T05:04:54.036Z"
   },
   {
    "duration": 10,
    "start_time": "2024-07-17T05:04:55.315Z"
   },
   {
    "duration": 11,
    "start_time": "2024-07-17T05:05:18.322Z"
   },
   {
    "duration": 5,
    "start_time": "2024-07-17T05:05:19.002Z"
   },
   {
    "duration": 81,
    "start_time": "2024-07-17T05:05:19.386Z"
   },
   {
    "duration": 8,
    "start_time": "2024-07-17T05:05:24.113Z"
   },
   {
    "duration": 5,
    "start_time": "2024-07-17T05:05:24.312Z"
   },
   {
    "duration": 84,
    "start_time": "2024-07-17T05:05:24.517Z"
   },
   {
    "duration": 8,
    "start_time": "2024-07-17T05:05:59.176Z"
   },
   {
    "duration": 269,
    "start_time": "2024-07-17T05:05:59.703Z"
   },
   {
    "duration": 11,
    "start_time": "2024-07-17T05:06:04.927Z"
   },
   {
    "duration": 7,
    "start_time": "2024-07-17T05:06:05.568Z"
   },
   {
    "duration": 83,
    "start_time": "2024-07-17T05:06:06.422Z"
   },
   {
    "duration": 83,
    "start_time": "2024-07-17T05:06:30.006Z"
   },
   {
    "duration": 83,
    "start_time": "2024-07-17T05:06:34.631Z"
   },
   {
    "duration": 268,
    "start_time": "2024-07-17T05:07:33.826Z"
   },
   {
    "duration": 87,
    "start_time": "2024-07-17T05:08:22.657Z"
   },
   {
    "duration": 308,
    "start_time": "2024-07-17T05:08:27.844Z"
   },
   {
    "duration": 14,
    "start_time": "2024-07-17T05:08:58.676Z"
   },
   {
    "duration": 5,
    "start_time": "2024-07-17T05:09:00.579Z"
   },
   {
    "duration": 22,
    "start_time": "2024-07-17T05:09:06.192Z"
   },
   {
    "duration": 22,
    "start_time": "2024-07-17T05:09:10.928Z"
   },
   {
    "duration": 4,
    "start_time": "2024-07-17T05:09:23.564Z"
   },
   {
    "duration": 487,
    "start_time": "2024-07-17T05:09:24.244Z"
   },
   {
    "duration": 347,
    "start_time": "2024-07-17T05:09:31.799Z"
   },
   {
    "duration": 364,
    "start_time": "2024-07-17T05:09:35.595Z"
   },
   {
    "duration": 10,
    "start_time": "2024-07-17T05:10:07.519Z"
   },
   {
    "duration": 10,
    "start_time": "2024-07-17T05:10:11.527Z"
   },
   {
    "duration": 22,
    "start_time": "2024-07-17T05:14:26.026Z"
   },
   {
    "duration": 313,
    "start_time": "2024-07-25T01:59:34.194Z"
   },
   {
    "duration": 4359,
    "start_time": "2024-07-25T01:59:38.191Z"
   },
   {
    "duration": 120,
    "start_time": "2024-07-25T01:59:42.553Z"
   },
   {
    "duration": 26,
    "start_time": "2024-07-25T01:59:42.677Z"
   },
   {
    "duration": 20,
    "start_time": "2024-07-25T01:59:42.708Z"
   },
   {
    "duration": 24,
    "start_time": "2024-07-25T01:59:42.730Z"
   },
   {
    "duration": 26,
    "start_time": "2024-07-25T01:59:42.791Z"
   },
   {
    "duration": 23,
    "start_time": "2024-07-25T01:59:42.820Z"
   },
   {
    "duration": 8,
    "start_time": "2024-07-25T01:59:42.846Z"
   },
   {
    "duration": 47,
    "start_time": "2024-07-25T01:59:42.856Z"
   },
   {
    "duration": 10,
    "start_time": "2024-07-25T01:59:42.910Z"
   },
   {
    "duration": 13,
    "start_time": "2024-07-25T01:59:42.923Z"
   },
   {
    "duration": 7,
    "start_time": "2024-07-25T01:59:42.939Z"
   },
   {
    "duration": 8,
    "start_time": "2024-07-25T01:59:42.993Z"
   },
   {
    "duration": 8,
    "start_time": "2024-07-25T01:59:43.004Z"
   },
   {
    "duration": 33,
    "start_time": "2024-07-25T01:59:43.016Z"
   },
   {
    "duration": 46,
    "start_time": "2024-07-25T01:59:43.051Z"
   },
   {
    "duration": 276,
    "start_time": "2024-07-25T01:59:43.100Z"
   },
   {
    "duration": 32,
    "start_time": "2024-07-25T01:59:43.378Z"
   },
   {
    "duration": 9,
    "start_time": "2024-07-25T01:59:43.413Z"
   },
   {
    "duration": 24,
    "start_time": "2024-07-25T01:59:43.425Z"
   },
   {
    "duration": 48,
    "start_time": "2024-07-25T01:59:43.452Z"
   },
   {
    "duration": 10,
    "start_time": "2024-07-25T01:59:43.506Z"
   },
   {
    "duration": 9,
    "start_time": "2024-07-25T01:59:43.519Z"
   },
   {
    "duration": 6,
    "start_time": "2024-07-25T01:59:43.532Z"
   },
   {
    "duration": 1434,
    "start_time": "2024-07-25T01:59:43.542Z"
   },
   {
    "duration": 0,
    "start_time": "2024-07-25T01:59:44.980Z"
   },
   {
    "duration": 0,
    "start_time": "2024-07-25T01:59:44.991Z"
   },
   {
    "duration": 0,
    "start_time": "2024-07-25T01:59:44.993Z"
   },
   {
    "duration": 0,
    "start_time": "2024-07-25T01:59:44.995Z"
   },
   {
    "duration": 0,
    "start_time": "2024-07-25T01:59:44.998Z"
   },
   {
    "duration": 0,
    "start_time": "2024-07-25T01:59:45.000Z"
   },
   {
    "duration": 0,
    "start_time": "2024-07-25T01:59:45.002Z"
   },
   {
    "duration": 0,
    "start_time": "2024-07-25T01:59:45.004Z"
   },
   {
    "duration": 0,
    "start_time": "2024-07-25T01:59:45.007Z"
   },
   {
    "duration": 0,
    "start_time": "2024-07-25T01:59:45.010Z"
   },
   {
    "duration": 0,
    "start_time": "2024-07-25T01:59:45.012Z"
   },
   {
    "duration": 0,
    "start_time": "2024-07-25T01:59:45.014Z"
   },
   {
    "duration": 0,
    "start_time": "2024-07-25T01:59:45.015Z"
   },
   {
    "duration": 18,
    "start_time": "2024-07-25T02:00:10.511Z"
   },
   {
    "duration": 24,
    "start_time": "2024-07-25T02:00:13.637Z"
   },
   {
    "duration": 12,
    "start_time": "2024-07-25T02:00:33.785Z"
   },
   {
    "duration": 13,
    "start_time": "2024-07-25T02:00:52.674Z"
   },
   {
    "duration": 7,
    "start_time": "2024-07-25T02:00:52.973Z"
   },
   {
    "duration": 252,
    "start_time": "2024-07-25T02:00:53.147Z"
   },
   {
    "duration": 0,
    "start_time": "2024-07-25T02:00:53.402Z"
   },
   {
    "duration": 17,
    "start_time": "2024-07-25T02:00:53.712Z"
   },
   {
    "duration": 5,
    "start_time": "2024-07-25T02:00:54.108Z"
   },
   {
    "duration": 499,
    "start_time": "2024-07-25T02:00:54.304Z"
   },
   {
    "duration": 14,
    "start_time": "2024-07-25T02:00:54.807Z"
   },
   {
    "duration": 9,
    "start_time": "2024-07-25T02:00:54.981Z"
   },
   {
    "duration": 20,
    "start_time": "2024-07-25T02:00:55.257Z"
   },
   {
    "duration": 25,
    "start_time": "2024-07-25T02:00:58.625Z"
   },
   {
    "duration": 15,
    "start_time": "2024-07-25T02:00:58.812Z"
   },
   {
    "duration": 16,
    "start_time": "2024-07-25T02:00:58.972Z"
   },
   {
    "duration": 16,
    "start_time": "2024-07-25T02:00:59.282Z"
   },
   {
    "duration": 12,
    "start_time": "2024-07-25T02:01:57.736Z"
   },
   {
    "duration": 8,
    "start_time": "2024-07-25T02:01:58.241Z"
   },
   {
    "duration": 8,
    "start_time": "2024-07-25T02:01:58.775Z"
   },
   {
    "duration": 271,
    "start_time": "2024-07-25T02:02:00.802Z"
   },
   {
    "duration": 11,
    "start_time": "2024-07-25T02:02:01.310Z"
   },
   {
    "duration": 6,
    "start_time": "2024-07-25T02:02:01.707Z"
   },
   {
    "duration": 361,
    "start_time": "2024-07-25T02:02:01.874Z"
   },
   {
    "duration": 9,
    "start_time": "2024-07-25T02:02:02.270Z"
   },
   {
    "duration": 10,
    "start_time": "2024-07-25T02:02:02.469Z"
   },
   {
    "duration": 24,
    "start_time": "2024-07-25T02:02:02.687Z"
   },
   {
    "duration": 25,
    "start_time": "2024-07-25T02:02:03.768Z"
   },
   {
    "duration": 12,
    "start_time": "2024-07-25T02:02:05.086Z"
   },
   {
    "duration": 17,
    "start_time": "2024-07-25T02:02:05.369Z"
   },
   {
    "duration": 16,
    "start_time": "2024-07-25T02:02:05.953Z"
   },
   {
    "duration": 12,
    "start_time": "2024-07-25T02:07:39.115Z"
   },
   {
    "duration": 13,
    "start_time": "2024-07-25T02:14:27.968Z"
   },
   {
    "duration": 8,
    "start_time": "2024-07-25T02:14:36.306Z"
   },
   {
    "duration": 9,
    "start_time": "2024-07-25T02:14:40.915Z"
   },
   {
    "duration": 234,
    "start_time": "2024-07-25T02:14:46.330Z"
   },
   {
    "duration": 11,
    "start_time": "2024-07-25T02:15:56.562Z"
   },
   {
    "duration": 10,
    "start_time": "2024-07-25T02:46:58.950Z"
   },
   {
    "duration": 4,
    "start_time": "2024-07-25T02:51:39.612Z"
   },
   {
    "duration": 379,
    "start_time": "2024-07-25T02:51:55.996Z"
   },
   {
    "duration": 373,
    "start_time": "2024-07-25T02:52:03.738Z"
   },
   {
    "duration": 388,
    "start_time": "2024-07-25T02:52:08.124Z"
   },
   {
    "duration": 372,
    "start_time": "2024-07-25T02:52:12.124Z"
   },
   {
    "duration": 367,
    "start_time": "2024-07-25T02:52:14.753Z"
   },
   {
    "duration": 421,
    "start_time": "2024-07-25T02:52:22.370Z"
   },
   {
    "duration": 401,
    "start_time": "2024-07-25T02:52:29.393Z"
   },
   {
    "duration": 371,
    "start_time": "2024-07-25T02:52:35.466Z"
   },
   {
    "duration": 394,
    "start_time": "2024-07-25T02:52:39.679Z"
   },
   {
    "duration": 416,
    "start_time": "2024-07-25T03:05:13.162Z"
   },
   {
    "duration": 732,
    "start_time": "2024-07-25T03:05:23.314Z"
   },
   {
    "duration": 529,
    "start_time": "2024-07-25T03:05:27.523Z"
   },
   {
    "duration": 364,
    "start_time": "2024-07-25T03:05:40.566Z"
   },
   {
    "duration": 551,
    "start_time": "2024-07-25T03:06:24.778Z"
   },
   {
    "duration": 421,
    "start_time": "2024-07-25T03:15:26.993Z"
   },
   {
    "duration": 372,
    "start_time": "2024-07-25T03:17:11.487Z"
   },
   {
    "duration": 11,
    "start_time": "2024-07-25T03:17:19.471Z"
   },
   {
    "duration": 5,
    "start_time": "2024-07-25T03:17:20.549Z"
   },
   {
    "duration": 386,
    "start_time": "2024-07-25T03:17:21.574Z"
   },
   {
    "duration": 114,
    "start_time": "2024-07-25T03:17:59.036Z"
   },
   {
    "duration": 16,
    "start_time": "2024-07-25T03:18:30.797Z"
   },
   {
    "duration": 845,
    "start_time": "2024-07-25T03:19:14.256Z"
   },
   {
    "duration": 96,
    "start_time": "2024-07-25T03:19:16.917Z"
   },
   {
    "duration": 4,
    "start_time": "2024-07-25T03:19:26.998Z"
   },
   {
    "duration": 50,
    "start_time": "2024-07-25T03:19:27.006Z"
   },
   {
    "duration": 20,
    "start_time": "2024-07-25T03:19:27.091Z"
   },
   {
    "duration": 18,
    "start_time": "2024-07-25T03:19:27.115Z"
   },
   {
    "duration": 55,
    "start_time": "2024-07-25T03:19:27.136Z"
   },
   {
    "duration": 18,
    "start_time": "2024-07-25T03:19:27.195Z"
   },
   {
    "duration": 23,
    "start_time": "2024-07-25T03:19:27.217Z"
   },
   {
    "duration": 48,
    "start_time": "2024-07-25T03:19:27.243Z"
   },
   {
    "duration": 11,
    "start_time": "2024-07-25T03:19:27.294Z"
   },
   {
    "duration": 11,
    "start_time": "2024-07-25T03:19:27.312Z"
   },
   {
    "duration": 67,
    "start_time": "2024-07-25T03:19:27.327Z"
   },
   {
    "duration": 5,
    "start_time": "2024-07-25T03:19:27.397Z"
   },
   {
    "duration": 8,
    "start_time": "2024-07-25T03:19:27.404Z"
   },
   {
    "duration": 8,
    "start_time": "2024-07-25T03:19:27.415Z"
   },
   {
    "duration": 82,
    "start_time": "2024-07-25T03:19:27.425Z"
   },
   {
    "duration": 7,
    "start_time": "2024-07-25T03:19:27.510Z"
   },
   {
    "duration": 290,
    "start_time": "2024-07-25T03:19:27.521Z"
   },
   {
    "duration": 23,
    "start_time": "2024-07-25T03:19:27.814Z"
   },
   {
    "duration": 11,
    "start_time": "2024-07-25T03:19:27.840Z"
   },
   {
    "duration": 59,
    "start_time": "2024-07-25T03:19:27.854Z"
   },
   {
    "duration": 8,
    "start_time": "2024-07-25T03:19:27.915Z"
   },
   {
    "duration": 7,
    "start_time": "2024-07-25T03:19:27.926Z"
   },
   {
    "duration": 57,
    "start_time": "2024-07-25T03:19:27.935Z"
   },
   {
    "duration": 7,
    "start_time": "2024-07-25T03:19:27.995Z"
   },
   {
    "duration": 13,
    "start_time": "2024-07-25T03:19:28.005Z"
   },
   {
    "duration": 8,
    "start_time": "2024-07-25T03:19:28.021Z"
   },
   {
    "duration": 92,
    "start_time": "2024-07-25T03:19:28.032Z"
   },
   {
    "duration": 0,
    "start_time": "2024-07-25T03:19:28.128Z"
   },
   {
    "duration": 0,
    "start_time": "2024-07-25T03:19:28.130Z"
   },
   {
    "duration": 0,
    "start_time": "2024-07-25T03:19:28.133Z"
   },
   {
    "duration": 0,
    "start_time": "2024-07-25T03:19:28.135Z"
   },
   {
    "duration": 0,
    "start_time": "2024-07-25T03:19:28.138Z"
   },
   {
    "duration": 0,
    "start_time": "2024-07-25T03:19:28.139Z"
   },
   {
    "duration": 0,
    "start_time": "2024-07-25T03:19:28.142Z"
   },
   {
    "duration": 0,
    "start_time": "2024-07-25T03:19:28.145Z"
   },
   {
    "duration": 0,
    "start_time": "2024-07-25T03:19:28.146Z"
   },
   {
    "duration": 0,
    "start_time": "2024-07-25T03:19:28.191Z"
   },
   {
    "duration": 0,
    "start_time": "2024-07-25T03:19:28.193Z"
   },
   {
    "duration": 8,
    "start_time": "2024-07-25T03:19:59.027Z"
   },
   {
    "duration": 11,
    "start_time": "2024-07-25T03:20:03.733Z"
   },
   {
    "duration": 10,
    "start_time": "2024-07-25T03:20:35.393Z"
   },
   {
    "duration": 11,
    "start_time": "2024-07-25T03:21:17.712Z"
   },
   {
    "duration": 25,
    "start_time": "2024-07-25T03:21:27.403Z"
   },
   {
    "duration": 10,
    "start_time": "2024-07-25T03:21:43.420Z"
   },
   {
    "duration": 10,
    "start_time": "2024-07-25T03:23:36.780Z"
   },
   {
    "duration": 7,
    "start_time": "2024-07-25T03:23:39.922Z"
   },
   {
    "duration": 10,
    "start_time": "2024-07-25T03:26:40.908Z"
   },
   {
    "duration": 7,
    "start_time": "2024-07-25T03:26:47.034Z"
   },
   {
    "duration": 30,
    "start_time": "2024-07-25T03:26:56.015Z"
   },
   {
    "duration": 24,
    "start_time": "2024-07-25T03:27:09.511Z"
   },
   {
    "duration": 21,
    "start_time": "2024-07-25T03:29:31.459Z"
   },
   {
    "duration": 7,
    "start_time": "2024-07-25T03:29:35.621Z"
   },
   {
    "duration": 25,
    "start_time": "2024-07-25T03:29:36.190Z"
   },
   {
    "duration": 9,
    "start_time": "2024-07-25T03:29:48.338Z"
   },
   {
    "duration": 19,
    "start_time": "2024-07-25T03:29:56.066Z"
   },
   {
    "duration": 7,
    "start_time": "2024-07-25T03:29:56.632Z"
   },
   {
    "duration": 27,
    "start_time": "2024-07-25T03:29:56.978Z"
   },
   {
    "duration": 6,
    "start_time": "2024-07-25T03:30:00.563Z"
   },
   {
    "duration": 252,
    "start_time": "2024-07-25T03:30:01.023Z"
   },
   {
    "duration": 33,
    "start_time": "2024-07-25T03:30:03.182Z"
   },
   {
    "duration": 9,
    "start_time": "2024-07-25T03:30:10.495Z"
   },
   {
    "duration": 20,
    "start_time": "2024-07-25T03:30:11.823Z"
   },
   {
    "duration": 7,
    "start_time": "2024-07-25T03:30:26.343Z"
   },
   {
    "duration": 19,
    "start_time": "2024-07-25T03:30:40.856Z"
   },
   {
    "duration": 17,
    "start_time": "2024-07-25T03:30:51.225Z"
   },
   {
    "duration": 18,
    "start_time": "2024-07-25T03:31:35.024Z"
   },
   {
    "duration": 21,
    "start_time": "2024-07-25T03:31:37.469Z"
   },
   {
    "duration": 23,
    "start_time": "2024-07-25T03:31:43.773Z"
   },
   {
    "duration": 17,
    "start_time": "2024-07-25T03:31:45.338Z"
   },
   {
    "duration": 26,
    "start_time": "2024-07-25T03:32:01.016Z"
   },
   {
    "duration": 20,
    "start_time": "2024-07-25T03:32:14.446Z"
   },
   {
    "duration": 28,
    "start_time": "2024-07-25T03:32:25.881Z"
   },
   {
    "duration": 24,
    "start_time": "2024-07-25T03:32:34.817Z"
   },
   {
    "duration": 19,
    "start_time": "2024-07-25T03:32:37.781Z"
   },
   {
    "duration": 7,
    "start_time": "2024-07-25T03:32:42.807Z"
   },
   {
    "duration": 10,
    "start_time": "2024-07-25T03:34:16.856Z"
   },
   {
    "duration": 22,
    "start_time": "2024-07-25T03:34:19.043Z"
   },
   {
    "duration": 7,
    "start_time": "2024-07-25T03:34:22.828Z"
   },
   {
    "duration": 28,
    "start_time": "2024-07-25T03:34:23.371Z"
   },
   {
    "duration": 7,
    "start_time": "2024-07-25T03:34:26.425Z"
   },
   {
    "duration": 255,
    "start_time": "2024-07-25T03:34:26.995Z"
   },
   {
    "duration": 4,
    "start_time": "2024-07-25T03:35:26.899Z"
   },
   {
    "duration": 56,
    "start_time": "2024-07-25T03:35:26.909Z"
   },
   {
    "duration": 24,
    "start_time": "2024-07-25T03:35:26.993Z"
   },
   {
    "duration": 26,
    "start_time": "2024-07-25T03:35:27.021Z"
   },
   {
    "duration": 19,
    "start_time": "2024-07-25T03:35:27.091Z"
   },
   {
    "duration": 20,
    "start_time": "2024-07-25T03:35:27.113Z"
   },
   {
    "duration": 59,
    "start_time": "2024-07-25T03:35:27.138Z"
   },
   {
    "duration": 11,
    "start_time": "2024-07-25T03:35:27.201Z"
   },
   {
    "duration": 13,
    "start_time": "2024-07-25T03:35:27.216Z"
   },
   {
    "duration": 12,
    "start_time": "2024-07-25T03:35:27.232Z"
   },
   {
    "duration": 13,
    "start_time": "2024-07-25T03:35:27.292Z"
   },
   {
    "duration": 11,
    "start_time": "2024-07-25T03:35:27.308Z"
   },
   {
    "duration": 69,
    "start_time": "2024-07-25T03:35:27.322Z"
   },
   {
    "duration": 8,
    "start_time": "2024-07-25T03:35:27.397Z"
   },
   {
    "duration": 33,
    "start_time": "2024-07-25T03:35:27.408Z"
   },
   {
    "duration": 50,
    "start_time": "2024-07-25T03:35:27.444Z"
   },
   {
    "duration": 278,
    "start_time": "2024-07-25T03:35:27.497Z"
   },
   {
    "duration": 36,
    "start_time": "2024-07-25T03:35:27.779Z"
   },
   {
    "duration": 9,
    "start_time": "2024-07-25T03:35:27.820Z"
   },
   {
    "duration": 60,
    "start_time": "2024-07-25T03:35:27.832Z"
   },
   {
    "duration": 8,
    "start_time": "2024-07-25T03:35:27.895Z"
   },
   {
    "duration": 8,
    "start_time": "2024-07-25T03:35:27.906Z"
   },
   {
    "duration": 7,
    "start_time": "2024-07-25T03:35:27.918Z"
   },
   {
    "duration": 7,
    "start_time": "2024-07-25T03:35:27.928Z"
   },
   {
    "duration": 15,
    "start_time": "2024-07-25T03:35:27.991Z"
   },
   {
    "duration": 12,
    "start_time": "2024-07-25T03:35:28.009Z"
   },
   {
    "duration": 87,
    "start_time": "2024-07-25T03:35:28.024Z"
   },
   {
    "duration": 0,
    "start_time": "2024-07-25T03:35:28.114Z"
   },
   {
    "duration": 0,
    "start_time": "2024-07-25T03:35:28.116Z"
   },
   {
    "duration": 0,
    "start_time": "2024-07-25T03:35:28.122Z"
   },
   {
    "duration": 0,
    "start_time": "2024-07-25T03:35:28.124Z"
   },
   {
    "duration": 0,
    "start_time": "2024-07-25T03:35:28.126Z"
   },
   {
    "duration": 0,
    "start_time": "2024-07-25T03:35:28.128Z"
   },
   {
    "duration": 0,
    "start_time": "2024-07-25T03:35:28.130Z"
   },
   {
    "duration": 0,
    "start_time": "2024-07-25T03:35:28.132Z"
   },
   {
    "duration": 0,
    "start_time": "2024-07-25T03:35:28.134Z"
   },
   {
    "duration": 0,
    "start_time": "2024-07-25T03:35:28.136Z"
   },
   {
    "duration": 1,
    "start_time": "2024-07-25T03:35:28.138Z"
   },
   {
    "duration": 4265,
    "start_time": "2024-07-29T18:36:34.394Z"
   },
   {
    "duration": 65,
    "start_time": "2024-07-29T18:36:38.663Z"
   },
   {
    "duration": 18,
    "start_time": "2024-07-29T18:36:38.733Z"
   },
   {
    "duration": 22,
    "start_time": "2024-07-29T18:36:38.753Z"
   },
   {
    "duration": 21,
    "start_time": "2024-07-29T18:36:38.779Z"
   },
   {
    "duration": 50,
    "start_time": "2024-07-29T18:36:38.802Z"
   },
   {
    "duration": 23,
    "start_time": "2024-07-29T18:36:38.858Z"
   },
   {
    "duration": 13,
    "start_time": "2024-07-29T18:36:38.884Z"
   },
   {
    "duration": 40,
    "start_time": "2024-07-29T18:36:38.900Z"
   },
   {
    "duration": 11,
    "start_time": "2024-07-29T18:36:38.943Z"
   },
   {
    "duration": 12,
    "start_time": "2024-07-29T18:36:38.957Z"
   },
   {
    "duration": 10,
    "start_time": "2024-07-29T18:36:38.972Z"
   },
   {
    "duration": 67,
    "start_time": "2024-07-29T18:36:38.985Z"
   },
   {
    "duration": 7,
    "start_time": "2024-07-29T18:36:39.061Z"
   },
   {
    "duration": 64,
    "start_time": "2024-07-29T18:36:39.071Z"
   },
   {
    "duration": 7,
    "start_time": "2024-07-29T18:36:39.137Z"
   },
   {
    "duration": 280,
    "start_time": "2024-07-29T18:36:39.147Z"
   },
   {
    "duration": 24,
    "start_time": "2024-07-29T18:36:39.434Z"
   },
   {
    "duration": 8,
    "start_time": "2024-07-29T18:36:39.461Z"
   },
   {
    "duration": 23,
    "start_time": "2024-07-29T18:36:39.472Z"
   },
   {
    "duration": 39,
    "start_time": "2024-07-29T18:36:39.498Z"
   },
   {
    "duration": 7,
    "start_time": "2024-07-29T18:36:39.540Z"
   },
   {
    "duration": 11,
    "start_time": "2024-07-29T18:36:39.550Z"
   },
   {
    "duration": 11,
    "start_time": "2024-07-29T18:36:39.564Z"
   },
   {
    "duration": 58,
    "start_time": "2024-07-29T18:36:39.578Z"
   },
   {
    "duration": 9,
    "start_time": "2024-07-29T18:36:39.639Z"
   },
   {
    "duration": 649,
    "start_time": "2024-07-29T18:36:39.651Z"
   },
   {
    "duration": 0,
    "start_time": "2024-07-29T18:36:40.302Z"
   },
   {
    "duration": 0,
    "start_time": "2024-07-29T18:36:40.304Z"
   },
   {
    "duration": 0,
    "start_time": "2024-07-29T18:36:40.307Z"
   },
   {
    "duration": 0,
    "start_time": "2024-07-29T18:36:40.308Z"
   },
   {
    "duration": 0,
    "start_time": "2024-07-29T18:36:40.312Z"
   },
   {
    "duration": 0,
    "start_time": "2024-07-29T18:36:40.333Z"
   },
   {
    "duration": 0,
    "start_time": "2024-07-29T18:36:40.336Z"
   },
   {
    "duration": 0,
    "start_time": "2024-07-29T18:36:40.338Z"
   },
   {
    "duration": 0,
    "start_time": "2024-07-29T18:36:40.341Z"
   },
   {
    "duration": 0,
    "start_time": "2024-07-29T18:36:40.344Z"
   },
   {
    "duration": 0,
    "start_time": "2024-07-29T18:36:40.346Z"
   },
   {
    "duration": 17,
    "start_time": "2024-07-29T18:37:26.266Z"
   },
   {
    "duration": 231,
    "start_time": "2024-07-29T18:37:29.110Z"
   },
   {
    "duration": 8,
    "start_time": "2024-07-29T18:37:39.934Z"
   },
   {
    "duration": 5,
    "start_time": "2024-07-29T18:37:47.787Z"
   },
   {
    "duration": 414,
    "start_time": "2024-07-29T18:37:53.877Z"
   },
   {
    "duration": 9,
    "start_time": "2024-07-29T18:38:04.515Z"
   },
   {
    "duration": 9,
    "start_time": "2024-07-29T18:38:04.788Z"
   },
   {
    "duration": 1129,
    "start_time": "2024-07-29T18:38:05.101Z"
   },
   {
    "duration": 18,
    "start_time": "2024-07-29T18:38:42.101Z"
   },
   {
    "duration": 23,
    "start_time": "2024-07-29T18:39:06.580Z"
   },
   {
    "duration": 32,
    "start_time": "2024-07-29T18:39:06.931Z"
   },
   {
    "duration": 27,
    "start_time": "2024-07-29T18:39:07.226Z"
   },
   {
    "duration": 13,
    "start_time": "2024-07-29T18:39:22.574Z"
   },
   {
    "duration": 16,
    "start_time": "2024-07-29T18:39:32.127Z"
   },
   {
    "duration": 696,
    "start_time": "2024-07-29T18:48:07.029Z"
   },
   {
    "duration": 133,
    "start_time": "2024-07-29T18:48:07.728Z"
   },
   {
    "duration": 19,
    "start_time": "2024-07-29T18:48:07.864Z"
   },
   {
    "duration": 20,
    "start_time": "2024-07-29T18:48:07.887Z"
   },
   {
    "duration": 22,
    "start_time": "2024-07-29T18:48:07.934Z"
   },
   {
    "duration": 18,
    "start_time": "2024-07-29T18:48:07.958Z"
   },
   {
    "duration": 56,
    "start_time": "2024-07-29T18:48:07.981Z"
   },
   {
    "duration": 8,
    "start_time": "2024-07-29T18:48:08.040Z"
   },
   {
    "duration": 13,
    "start_time": "2024-07-29T18:48:08.051Z"
   },
   {
    "duration": 12,
    "start_time": "2024-07-29T18:48:08.071Z"
   },
   {
    "duration": 54,
    "start_time": "2024-07-29T18:48:08.086Z"
   },
   {
    "duration": 10,
    "start_time": "2024-07-29T18:48:08.143Z"
   },
   {
    "duration": 22,
    "start_time": "2024-07-29T18:48:08.156Z"
   },
   {
    "duration": 7,
    "start_time": "2024-07-29T18:48:08.181Z"
   },
   {
    "duration": 30,
    "start_time": "2024-07-29T18:48:08.235Z"
   },
   {
    "duration": 6,
    "start_time": "2024-07-29T18:48:08.268Z"
   },
   {
    "duration": 293,
    "start_time": "2024-07-29T18:48:08.277Z"
   },
   {
    "duration": 22,
    "start_time": "2024-07-29T18:48:08.573Z"
   },
   {
    "duration": 8,
    "start_time": "2024-07-29T18:48:08.598Z"
   },
   {
    "duration": 25,
    "start_time": "2024-07-29T18:48:08.636Z"
   },
   {
    "duration": 7,
    "start_time": "2024-07-29T18:48:08.663Z"
   },
   {
    "duration": 7,
    "start_time": "2024-07-29T18:48:08.672Z"
   },
   {
    "duration": 6,
    "start_time": "2024-07-29T18:48:08.682Z"
   },
   {
    "duration": 48,
    "start_time": "2024-07-29T18:48:08.691Z"
   },
   {
    "duration": 12,
    "start_time": "2024-07-29T18:48:08.742Z"
   },
   {
    "duration": 8,
    "start_time": "2024-07-29T18:48:08.757Z"
   },
   {
    "duration": 11,
    "start_time": "2024-07-29T18:48:08.767Z"
   },
   {
    "duration": 284,
    "start_time": "2024-07-29T18:48:08.785Z"
   },
   {
    "duration": 9,
    "start_time": "2024-07-29T18:48:09.072Z"
   },
   {
    "duration": 6,
    "start_time": "2024-07-29T18:48:09.084Z"
   },
   {
    "duration": 426,
    "start_time": "2024-07-29T18:48:09.093Z"
   },
   {
    "duration": 14,
    "start_time": "2024-07-29T18:48:09.522Z"
   },
   {
    "duration": 18,
    "start_time": "2024-07-29T18:48:09.539Z"
   },
   {
    "duration": 22,
    "start_time": "2024-07-29T18:48:09.561Z"
   },
   {
    "duration": 51,
    "start_time": "2024-07-29T18:48:09.586Z"
   },
   {
    "duration": 167,
    "start_time": "2024-07-29T18:48:09.640Z"
   },
   {
    "duration": 0,
    "start_time": "2024-07-29T18:48:09.810Z"
   },
   {
    "duration": 0,
    "start_time": "2024-07-29T18:48:09.812Z"
   },
   {
    "duration": 13,
    "start_time": "2024-07-29T18:48:24.104Z"
   },
   {
    "duration": 14,
    "start_time": "2024-07-29T18:48:27.375Z"
   },
   {
    "duration": 15,
    "start_time": "2024-07-29T18:48:30.623Z"
   },
   {
    "duration": 14,
    "start_time": "2024-07-29T19:13:53.238Z"
   },
   {
    "duration": 244,
    "start_time": "2024-07-29T19:16:29.472Z"
   },
   {
    "duration": 498,
    "start_time": "2024-07-29T19:21:48.908Z"
   },
   {
    "duration": 440,
    "start_time": "2024-07-29T19:24:17.727Z"
   },
   {
    "duration": 613,
    "start_time": "2024-07-29T20:47:29.710Z"
   },
   {
    "duration": 69,
    "start_time": "2024-07-29T20:48:00.259Z"
   },
   {
    "duration": 465,
    "start_time": "2024-07-29T20:48:11.899Z"
   },
   {
    "duration": 8,
    "start_time": "2024-07-29T20:50:35.516Z"
   },
   {
    "duration": 5,
    "start_time": "2024-07-29T20:50:38.727Z"
   },
   {
    "duration": 6,
    "start_time": "2024-07-29T20:51:16.312Z"
   },
   {
    "duration": 6,
    "start_time": "2024-07-29T20:52:05.352Z"
   },
   {
    "duration": 215,
    "start_time": "2024-07-29T20:52:29.268Z"
   },
   {
    "duration": 372,
    "start_time": "2024-07-29T20:53:21.712Z"
   },
   {
    "duration": 58,
    "start_time": "2024-07-29T20:53:26.263Z"
   },
   {
    "duration": 84,
    "start_time": "2024-07-29T20:53:29.218Z"
   },
   {
    "duration": 82,
    "start_time": "2024-07-29T20:53:33.476Z"
   },
   {
    "duration": 84,
    "start_time": "2024-07-29T20:53:36.778Z"
   },
   {
    "duration": 4,
    "start_time": "2024-07-29T20:53:40.301Z"
   },
   {
    "duration": 51,
    "start_time": "2024-07-29T20:53:40.309Z"
   },
   {
    "duration": 19,
    "start_time": "2024-07-29T20:53:40.363Z"
   },
   {
    "duration": 55,
    "start_time": "2024-07-29T20:53:40.385Z"
   },
   {
    "duration": 19,
    "start_time": "2024-07-29T20:53:40.445Z"
   },
   {
    "duration": 19,
    "start_time": "2024-07-29T20:53:40.467Z"
   },
   {
    "duration": 59,
    "start_time": "2024-07-29T20:53:40.488Z"
   },
   {
    "duration": 8,
    "start_time": "2024-07-29T20:53:40.550Z"
   },
   {
    "duration": 10,
    "start_time": "2024-07-29T20:53:40.561Z"
   },
   {
    "duration": 10,
    "start_time": "2024-07-29T20:53:40.574Z"
   },
   {
    "duration": 58,
    "start_time": "2024-07-29T20:53:40.587Z"
   },
   {
    "duration": 10,
    "start_time": "2024-07-29T20:53:40.648Z"
   },
   {
    "duration": 21,
    "start_time": "2024-07-29T20:53:40.661Z"
   },
   {
    "duration": 44,
    "start_time": "2024-07-29T20:53:40.690Z"
   },
   {
    "duration": 30,
    "start_time": "2024-07-29T20:53:40.737Z"
   },
   {
    "duration": 6,
    "start_time": "2024-07-29T20:53:40.770Z"
   },
   {
    "duration": 294,
    "start_time": "2024-07-29T20:53:40.779Z"
   },
   {
    "duration": 26,
    "start_time": "2024-07-29T20:53:41.076Z"
   },
   {
    "duration": 9,
    "start_time": "2024-07-29T20:53:41.104Z"
   },
   {
    "duration": 25,
    "start_time": "2024-07-29T20:53:41.136Z"
   },
   {
    "duration": 10,
    "start_time": "2024-07-29T20:53:41.164Z"
   },
   {
    "duration": 7,
    "start_time": "2024-07-29T20:53:41.177Z"
   },
   {
    "duration": 48,
    "start_time": "2024-07-29T20:53:41.188Z"
   },
   {
    "duration": 7,
    "start_time": "2024-07-29T20:53:41.239Z"
   },
   {
    "duration": 13,
    "start_time": "2024-07-29T20:53:41.249Z"
   },
   {
    "duration": 7,
    "start_time": "2024-07-29T20:53:41.265Z"
   },
   {
    "duration": 9,
    "start_time": "2024-07-29T20:53:41.276Z"
   },
   {
    "duration": 228,
    "start_time": "2024-07-29T20:53:41.335Z"
   },
   {
    "duration": 8,
    "start_time": "2024-07-29T20:53:41.566Z"
   },
   {
    "duration": 5,
    "start_time": "2024-07-29T20:53:41.578Z"
   },
   {
    "duration": 403,
    "start_time": "2024-07-29T20:53:41.587Z"
   },
   {
    "duration": 9,
    "start_time": "2024-07-29T20:53:41.993Z"
   },
   {
    "duration": 32,
    "start_time": "2024-07-29T20:53:42.005Z"
   },
   {
    "duration": 18,
    "start_time": "2024-07-29T20:53:42.041Z"
   },
   {
    "duration": 23,
    "start_time": "2024-07-29T20:53:42.062Z"
   },
   {
    "duration": 45,
    "start_time": "2024-07-29T20:53:42.089Z"
   },
   {
    "duration": 14,
    "start_time": "2024-07-29T20:53:42.137Z"
   },
   {
    "duration": 18,
    "start_time": "2024-07-29T20:53:42.154Z"
   },
   {
    "duration": 6,
    "start_time": "2024-07-29T20:53:42.175Z"
   },
   {
    "duration": 268,
    "start_time": "2024-07-29T20:53:42.183Z"
   },
   {
    "duration": 27,
    "start_time": "2024-07-29T20:54:27.565Z"
   },
   {
    "duration": 23,
    "start_time": "2024-07-29T20:55:09.739Z"
   },
   {
    "duration": 22,
    "start_time": "2024-07-29T20:55:18.127Z"
   },
   {
    "duration": 5,
    "start_time": "2024-07-29T20:55:25.466Z"
   },
   {
    "duration": 26,
    "start_time": "2024-07-29T20:55:25.771Z"
   },
   {
    "duration": 48,
    "start_time": "2024-07-29T20:55:26.054Z"
   },
   {
    "duration": 21,
    "start_time": "2024-07-29T20:55:27.647Z"
   },
   {
    "duration": 19,
    "start_time": "2024-07-29T20:55:27.974Z"
   },
   {
    "duration": 23,
    "start_time": "2024-07-29T20:55:28.454Z"
   },
   {
    "duration": 1206,
    "start_time": "2024-07-29T20:55:48.385Z"
   },
   {
    "duration": 486,
    "start_time": "2024-07-29T20:55:49.595Z"
   },
   {
    "duration": 686,
    "start_time": "2024-07-29T20:56:33.804Z"
   },
   {
    "duration": 126,
    "start_time": "2024-07-29T20:56:38.030Z"
   },
   {
    "duration": 50,
    "start_time": "2024-07-29T20:56:46.340Z"
   },
   {
    "duration": 31,
    "start_time": "2024-07-29T20:56:52.268Z"
   },
   {
    "duration": 48,
    "start_time": "2024-07-29T20:57:00.880Z"
   },
   {
    "duration": 29,
    "start_time": "2024-07-29T20:57:05.872Z"
   },
   {
    "duration": 3,
    "start_time": "2024-07-29T20:57:36.585Z"
   },
   {
    "duration": 47,
    "start_time": "2024-07-29T20:57:37.300Z"
   },
   {
    "duration": 28,
    "start_time": "2024-07-29T20:57:39.340Z"
   },
   {
    "duration": 28,
    "start_time": "2024-07-29T20:57:50.221Z"
   },
   {
    "duration": 12,
    "start_time": "2024-07-29T20:57:55.530Z"
   },
   {
    "duration": 28,
    "start_time": "2024-07-29T20:58:58.919Z"
   },
   {
    "duration": 19,
    "start_time": "2024-07-29T20:59:43.471Z"
   },
   {
    "duration": 17,
    "start_time": "2024-07-29T21:14:49.960Z"
   },
   {
    "duration": 7,
    "start_time": "2024-07-29T21:16:02.355Z"
   },
   {
    "duration": 6,
    "start_time": "2024-07-29T21:16:06.430Z"
   },
   {
    "duration": 8,
    "start_time": "2024-07-29T21:16:10.585Z"
   },
   {
    "duration": 19,
    "start_time": "2024-07-29T21:16:22.791Z"
   },
   {
    "duration": 28,
    "start_time": "2024-07-29T21:17:27.529Z"
   },
   {
    "duration": 11,
    "start_time": "2024-07-29T21:17:28.616Z"
   },
   {
    "duration": 16,
    "start_time": "2024-07-29T21:17:28.842Z"
   },
   {
    "duration": 12,
    "start_time": "2024-07-29T21:17:29.310Z"
   },
   {
    "duration": 24,
    "start_time": "2024-07-29T22:06:09.866Z"
   },
   {
    "duration": 27,
    "start_time": "2024-07-29T22:19:03.805Z"
   },
   {
    "duration": 27,
    "start_time": "2024-07-29T22:19:08.445Z"
   },
   {
    "duration": 3,
    "start_time": "2024-07-29T22:20:13.062Z"
   },
   {
    "duration": 25,
    "start_time": "2024-07-29T22:20:29.792Z"
   },
   {
    "duration": 7,
    "start_time": "2024-07-29T22:20:33.693Z"
   },
   {
    "duration": 8,
    "start_time": "2024-07-29T22:20:38.835Z"
   },
   {
    "duration": 6,
    "start_time": "2024-07-29T22:21:11.429Z"
   },
   {
    "duration": 23,
    "start_time": "2024-07-29T22:21:19.912Z"
   },
   {
    "duration": 23,
    "start_time": "2024-07-29T22:22:10.531Z"
   },
   {
    "duration": 7,
    "start_time": "2024-07-29T22:22:13.370Z"
   },
   {
    "duration": 11,
    "start_time": "2024-07-29T22:22:16.644Z"
   },
   {
    "duration": 9,
    "start_time": "2024-07-29T22:22:17.117Z"
   },
   {
    "duration": 22,
    "start_time": "2024-07-29T22:22:29.218Z"
   },
   {
    "duration": 7,
    "start_time": "2024-07-29T22:22:35.209Z"
   },
   {
    "duration": 7,
    "start_time": "2024-07-29T22:23:22.894Z"
   },
   {
    "duration": 7,
    "start_time": "2024-07-29T22:27:55.293Z"
   },
   {
    "duration": 28,
    "start_time": "2024-07-29T22:28:21.497Z"
   },
   {
    "duration": 2860,
    "start_time": "2024-07-29T22:28:25.611Z"
   },
   {
    "duration": 2948,
    "start_time": "2024-07-29T22:28:47.846Z"
   },
   {
    "duration": 23,
    "start_time": "2024-07-29T22:28:51.327Z"
   },
   {
    "duration": 7,
    "start_time": "2024-07-29T22:28:58.457Z"
   },
   {
    "duration": 6,
    "start_time": "2024-07-29T22:30:04.819Z"
   },
   {
    "duration": 29,
    "start_time": "2024-07-29T22:31:17.413Z"
   },
   {
    "duration": 32,
    "start_time": "2024-07-29T22:31:58.325Z"
   },
   {
    "duration": 38,
    "start_time": "2024-07-29T22:33:11.903Z"
   },
   {
    "duration": 8,
    "start_time": "2024-07-29T22:33:45.037Z"
   },
   {
    "duration": 369,
    "start_time": "2024-07-29T22:33:45.531Z"
   },
   {
    "duration": 23,
    "start_time": "2024-07-29T22:33:56.353Z"
   },
   {
    "duration": 33,
    "start_time": "2024-07-29T22:33:59.536Z"
   },
   {
    "duration": 12,
    "start_time": "2024-07-29T22:35:30.702Z"
   },
   {
    "duration": 12,
    "start_time": "2024-07-29T22:35:32.961Z"
   },
   {
    "duration": 3,
    "start_time": "2024-07-29T22:38:54.605Z"
   },
   {
    "duration": 54,
    "start_time": "2024-07-29T22:38:54.612Z"
   },
   {
    "duration": 27,
    "start_time": "2024-07-29T22:38:54.670Z"
   },
   {
    "duration": 35,
    "start_time": "2024-07-29T22:38:54.700Z"
   },
   {
    "duration": 19,
    "start_time": "2024-07-29T22:38:54.740Z"
   },
   {
    "duration": 28,
    "start_time": "2024-07-29T22:38:54.762Z"
   },
   {
    "duration": 51,
    "start_time": "2024-07-29T22:38:54.793Z"
   },
   {
    "duration": 17,
    "start_time": "2024-07-29T22:38:54.847Z"
   },
   {
    "duration": 18,
    "start_time": "2024-07-29T22:38:54.867Z"
   },
   {
    "duration": 63,
    "start_time": "2024-07-29T22:38:54.888Z"
   },
   {
    "duration": 8,
    "start_time": "2024-07-29T22:39:23.086Z"
   },
   {
    "duration": 26,
    "start_time": "2024-07-29T22:39:29.205Z"
   },
   {
    "duration": 8,
    "start_time": "2024-07-29T22:40:50.414Z"
   },
   {
    "duration": 10,
    "start_time": "2024-07-29T22:40:50.707Z"
   },
   {
    "duration": 10,
    "start_time": "2024-07-29T22:40:50.975Z"
   },
   {
    "duration": 21,
    "start_time": "2024-07-29T22:40:51.441Z"
   },
   {
    "duration": 6,
    "start_time": "2024-07-29T22:40:51.943Z"
   },
   {
    "duration": 2910,
    "start_time": "2024-07-29T22:40:52.419Z"
   },
   {
    "duration": 7,
    "start_time": "2024-07-29T22:40:55.332Z"
   },
   {
    "duration": 30,
    "start_time": "2024-07-29T22:40:55.343Z"
   },
   {
    "duration": 8,
    "start_time": "2024-07-29T22:40:55.377Z"
   },
   {
    "duration": 82,
    "start_time": "2024-07-29T22:40:55.388Z"
   },
   {
    "duration": 7,
    "start_time": "2024-07-29T22:40:55.472Z"
   },
   {
    "duration": 379,
    "start_time": "2024-07-29T22:40:56.756Z"
   },
   {
    "duration": 30,
    "start_time": "2024-07-29T22:40:58.277Z"
   },
   {
    "duration": 14,
    "start_time": "2024-07-29T22:40:58.522Z"
   },
   {
    "duration": 346,
    "start_time": "2024-07-29T22:41:45.091Z"
   },
   {
    "duration": 23,
    "start_time": "2024-07-29T22:41:56.654Z"
   },
   {
    "duration": 26,
    "start_time": "2024-07-29T22:42:03.967Z"
   },
   {
    "duration": 10,
    "start_time": "2024-07-29T22:42:20.165Z"
   },
   {
    "duration": 8,
    "start_time": "2024-07-29T22:42:24.616Z"
   },
   {
    "duration": 8,
    "start_time": "2024-07-29T22:42:28.644Z"
   },
   {
    "duration": 40,
    "start_time": "2024-07-29T22:42:37.934Z"
   },
   {
    "duration": 7,
    "start_time": "2024-07-29T22:42:42.715Z"
   },
   {
    "duration": 22,
    "start_time": "2024-07-29T22:42:57.758Z"
   },
   {
    "duration": 16,
    "start_time": "2024-07-29T22:43:00.594Z"
   },
   {
    "duration": 4,
    "start_time": "2024-07-29T22:43:10.381Z"
   },
   {
    "duration": 49,
    "start_time": "2024-07-29T22:43:10.390Z"
   },
   {
    "duration": 28,
    "start_time": "2024-07-29T22:43:10.442Z"
   },
   {
    "duration": 13,
    "start_time": "2024-07-29T22:43:10.472Z"
   },
   {
    "duration": 46,
    "start_time": "2024-07-29T22:43:10.489Z"
   },
   {
    "duration": 29,
    "start_time": "2024-07-29T22:43:10.539Z"
   },
   {
    "duration": 18,
    "start_time": "2024-07-29T22:43:10.571Z"
   },
   {
    "duration": 48,
    "start_time": "2024-07-29T22:43:10.592Z"
   },
   {
    "duration": 18,
    "start_time": "2024-07-29T22:43:10.642Z"
   },
   {
    "duration": 22,
    "start_time": "2024-07-29T22:43:10.663Z"
   },
   {
    "duration": 8,
    "start_time": "2024-07-29T22:43:10.688Z"
   },
   {
    "duration": 44,
    "start_time": "2024-07-29T22:43:10.699Z"
   },
   {
    "duration": 11,
    "start_time": "2024-07-29T22:43:10.746Z"
   },
   {
    "duration": 22,
    "start_time": "2024-07-29T22:43:10.763Z"
   },
   {
    "duration": 48,
    "start_time": "2024-07-29T22:43:10.787Z"
   },
   {
    "duration": 2897,
    "start_time": "2024-07-29T22:43:10.838Z"
   },
   {
    "duration": 6,
    "start_time": "2024-07-29T22:43:13.738Z"
   },
   {
    "duration": 32,
    "start_time": "2024-07-29T22:43:13.747Z"
   },
   {
    "duration": 8,
    "start_time": "2024-07-29T22:43:13.782Z"
   },
   {
    "duration": 37,
    "start_time": "2024-07-29T22:43:13.835Z"
   },
   {
    "duration": 7,
    "start_time": "2024-07-29T22:43:13.876Z"
   },
   {
    "duration": 400,
    "start_time": "2024-07-29T22:43:13.885Z"
   },
   {
    "duration": 46,
    "start_time": "2024-07-29T22:43:14.288Z"
   },
   {
    "duration": 13,
    "start_time": "2024-07-29T22:43:14.337Z"
   },
   {
    "duration": 12,
    "start_time": "2024-07-29T22:43:17.245Z"
   },
   {
    "duration": 14,
    "start_time": "2024-07-29T22:43:18.532Z"
   },
   {
    "duration": 28,
    "start_time": "2024-07-29T22:43:45.531Z"
   },
   {
    "duration": 5,
    "start_time": "2024-07-29T22:43:52.373Z"
   },
   {
    "duration": 23,
    "start_time": "2024-07-29T22:44:42.122Z"
   },
   {
    "duration": 4,
    "start_time": "2024-07-29T22:44:45.155Z"
   },
   {
    "duration": 16,
    "start_time": "2024-07-29T22:46:12.288Z"
   },
   {
    "duration": 34,
    "start_time": "2024-07-29T22:46:20.795Z"
   },
   {
    "duration": 14,
    "start_time": "2024-07-29T22:46:29.997Z"
   },
   {
    "duration": 9,
    "start_time": "2024-07-29T22:46:30.252Z"
   },
   {
    "duration": 68,
    "start_time": "2024-07-29T22:46:30.782Z"
   },
   {
    "duration": 4,
    "start_time": "2024-07-29T22:46:36.807Z"
   },
   {
    "duration": 56,
    "start_time": "2024-07-29T22:46:36.814Z"
   },
   {
    "duration": 27,
    "start_time": "2024-07-29T22:46:36.873Z"
   },
   {
    "duration": 35,
    "start_time": "2024-07-29T22:46:36.902Z"
   },
   {
    "duration": 20,
    "start_time": "2024-07-29T22:46:36.941Z"
   },
   {
    "duration": 29,
    "start_time": "2024-07-29T22:46:36.963Z"
   },
   {
    "duration": 52,
    "start_time": "2024-07-29T22:46:36.995Z"
   },
   {
    "duration": 17,
    "start_time": "2024-07-29T22:46:37.050Z"
   },
   {
    "duration": 18,
    "start_time": "2024-07-29T22:46:37.070Z"
   },
   {
    "duration": 61,
    "start_time": "2024-07-29T22:46:37.091Z"
   },
   {
    "duration": 10,
    "start_time": "2024-07-29T22:46:37.155Z"
   },
   {
    "duration": 10,
    "start_time": "2024-07-29T22:46:37.170Z"
   },
   {
    "duration": 11,
    "start_time": "2024-07-29T22:46:37.183Z"
   },
   {
    "duration": 27,
    "start_time": "2024-07-29T22:46:37.236Z"
   },
   {
    "duration": 10,
    "start_time": "2024-07-29T22:46:37.266Z"
   },
   {
    "duration": 2982,
    "start_time": "2024-07-29T22:46:37.278Z"
   },
   {
    "duration": 6,
    "start_time": "2024-07-29T22:46:40.265Z"
   },
   {
    "duration": 30,
    "start_time": "2024-07-29T22:46:40.274Z"
   },
   {
    "duration": 32,
    "start_time": "2024-07-29T22:46:40.307Z"
   },
   {
    "duration": 37,
    "start_time": "2024-07-29T22:46:40.343Z"
   },
   {
    "duration": 7,
    "start_time": "2024-07-29T22:46:40.383Z"
   },
   {
    "duration": 413,
    "start_time": "2024-07-29T22:46:40.394Z"
   },
   {
    "duration": 37,
    "start_time": "2024-07-29T22:46:40.810Z"
   },
   {
    "duration": 30,
    "start_time": "2024-07-29T22:46:42.098Z"
   },
   {
    "duration": 12,
    "start_time": "2024-07-29T22:46:42.379Z"
   },
   {
    "duration": 17,
    "start_time": "2024-07-29T22:46:43.022Z"
   },
   {
    "duration": 5,
    "start_time": "2024-07-29T22:46:43.367Z"
   },
   {
    "duration": 41,
    "start_time": "2024-07-29T22:46:44.346Z"
   },
   {
    "duration": 26,
    "start_time": "2024-07-29T22:47:09.268Z"
   },
   {
    "duration": 34,
    "start_time": "2024-07-29T22:47:13.489Z"
   },
   {
    "duration": 25,
    "start_time": "2024-07-29T22:47:57.572Z"
   },
   {
    "duration": 22,
    "start_time": "2024-07-29T22:48:03.360Z"
   },
   {
    "duration": 3,
    "start_time": "2024-07-29T22:48:18.383Z"
   },
   {
    "duration": 29,
    "start_time": "2024-07-29T22:48:40.024Z"
   },
   {
    "duration": 134,
    "start_time": "2024-07-29T22:48:44.741Z"
   },
   {
    "duration": 158,
    "start_time": "2024-07-29T22:48:51.156Z"
   },
   {
    "duration": 24,
    "start_time": "2024-07-29T22:49:21.969Z"
   },
   {
    "duration": 22,
    "start_time": "2024-07-29T22:49:27.447Z"
   },
   {
    "duration": 25,
    "start_time": "2024-07-29T22:49:38.383Z"
   },
   {
    "duration": 36,
    "start_time": "2024-07-29T22:49:41.925Z"
   },
   {
    "duration": 10,
    "start_time": "2024-07-29T22:51:24.901Z"
   },
   {
    "duration": 5,
    "start_time": "2024-07-29T22:51:37.460Z"
   },
   {
    "duration": 19,
    "start_time": "2024-07-29T22:51:41.758Z"
   },
   {
    "duration": 24,
    "start_time": "2024-07-29T22:54:46.380Z"
   },
   {
    "duration": 4,
    "start_time": "2024-07-29T22:54:59.946Z"
   },
   {
    "duration": 24,
    "start_time": "2024-07-29T22:55:16.295Z"
   },
   {
    "duration": 5,
    "start_time": "2024-07-29T22:55:19.803Z"
   },
   {
    "duration": 23,
    "start_time": "2024-07-29T22:55:24.484Z"
   },
   {
    "duration": 7,
    "start_time": "2024-07-29T22:55:27.886Z"
   },
   {
    "duration": 4,
    "start_time": "2024-07-29T22:55:57.762Z"
   },
   {
    "duration": 51,
    "start_time": "2024-07-29T22:55:57.770Z"
   },
   {
    "duration": 30,
    "start_time": "2024-07-29T22:55:57.824Z"
   },
   {
    "duration": 13,
    "start_time": "2024-07-29T22:55:57.858Z"
   },
   {
    "duration": 57,
    "start_time": "2024-07-29T22:55:57.877Z"
   },
   {
    "duration": 35,
    "start_time": "2024-07-29T22:55:57.938Z"
   },
   {
    "duration": 20,
    "start_time": "2024-07-29T22:55:57.976Z"
   },
   {
    "duration": 46,
    "start_time": "2024-07-29T22:55:57.999Z"
   },
   {
    "duration": 19,
    "start_time": "2024-07-29T22:55:58.047Z"
   },
   {
    "duration": 66,
    "start_time": "2024-07-29T22:55:58.069Z"
   },
   {
    "duration": 8,
    "start_time": "2024-07-29T22:55:58.139Z"
   },
   {
    "duration": 13,
    "start_time": "2024-07-29T22:55:58.150Z"
   },
   {
    "duration": 11,
    "start_time": "2024-07-29T22:55:58.166Z"
   },
   {
    "duration": 66,
    "start_time": "2024-07-29T22:55:58.182Z"
   },
   {
    "duration": 9,
    "start_time": "2024-07-29T22:55:58.251Z"
   },
   {
    "duration": 2979,
    "start_time": "2024-07-29T22:55:58.263Z"
   },
   {
    "duration": 10,
    "start_time": "2024-07-29T22:56:01.245Z"
   },
   {
    "duration": 31,
    "start_time": "2024-07-29T22:56:01.259Z"
   },
   {
    "duration": 7,
    "start_time": "2024-07-29T22:56:04.345Z"
   },
   {
    "duration": 9,
    "start_time": "2024-07-29T22:56:05.291Z"
   },
   {
    "duration": 7,
    "start_time": "2024-07-29T22:56:44.545Z"
   },
   {
    "duration": 31,
    "start_time": "2024-07-29T22:56:54.700Z"
   },
   {
    "duration": 31,
    "start_time": "2024-07-29T22:56:57.055Z"
   },
   {
    "duration": 325,
    "start_time": "2024-07-29T22:57:16.771Z"
   },
   {
    "duration": 48,
    "start_time": "2024-07-29T22:57:26.966Z"
   },
   {
    "duration": 6,
    "start_time": "2024-07-29T22:57:58.497Z"
   },
   {
    "duration": 7,
    "start_time": "2024-07-29T22:57:58.962Z"
   },
   {
    "duration": 32,
    "start_time": "2024-07-29T22:57:59.640Z"
   },
   {
    "duration": 44,
    "start_time": "2024-07-29T22:58:00.240Z"
   },
   {
    "duration": 28,
    "start_time": "2024-07-29T22:58:00.530Z"
   },
   {
    "duration": 6,
    "start_time": "2024-07-29T22:58:24.735Z"
   },
   {
    "duration": 32,
    "start_time": "2024-07-29T22:58:28.308Z"
   },
   {
    "duration": 45,
    "start_time": "2024-07-29T22:58:29.366Z"
   },
   {
    "duration": 29,
    "start_time": "2024-07-29T22:58:30.594Z"
   },
   {
    "duration": 25,
    "start_time": "2024-07-29T22:59:11.980Z"
   },
   {
    "duration": 31,
    "start_time": "2024-07-29T22:59:18.255Z"
   },
   {
    "duration": 19,
    "start_time": "2024-07-29T22:59:22.739Z"
   },
   {
    "duration": 31,
    "start_time": "2024-07-29T22:59:26.780Z"
   },
   {
    "duration": 24,
    "start_time": "2024-07-29T22:59:31.789Z"
   },
   {
    "duration": 47,
    "start_time": "2024-07-29T22:59:37.104Z"
   },
   {
    "duration": 48,
    "start_time": "2024-07-29T22:59:40.661Z"
   },
   {
    "duration": 48,
    "start_time": "2024-07-29T22:59:55.719Z"
   },
   {
    "duration": 5,
    "start_time": "2024-07-29T23:00:28.232Z"
   },
   {
    "duration": 8,
    "start_time": "2024-07-29T23:00:28.795Z"
   },
   {
    "duration": 35,
    "start_time": "2024-07-29T23:02:29.916Z"
   },
   {
    "duration": 35,
    "start_time": "2024-07-29T23:02:43.844Z"
   },
   {
    "duration": 36,
    "start_time": "2024-07-29T23:03:05.027Z"
   },
   {
    "duration": 21,
    "start_time": "2024-07-29T23:03:17.930Z"
   },
   {
    "duration": 9,
    "start_time": "2024-07-29T23:04:01.716Z"
   },
   {
    "duration": 15,
    "start_time": "2024-07-29T23:04:06.355Z"
   },
   {
    "duration": 22,
    "start_time": "2024-07-29T23:04:08.537Z"
   },
   {
    "duration": 19,
    "start_time": "2024-07-29T23:04:53.266Z"
   },
   {
    "duration": 21,
    "start_time": "2024-07-29T23:05:34.058Z"
   },
   {
    "duration": 4,
    "start_time": "2024-07-29T23:05:34.746Z"
   },
   {
    "duration": 23,
    "start_time": "2024-07-29T23:05:35.278Z"
   },
   {
    "duration": 76,
    "start_time": "2024-07-29T23:05:43.365Z"
   },
   {
    "duration": 20,
    "start_time": "2024-07-29T23:06:37.186Z"
   },
   {
    "duration": 3,
    "start_time": "2024-07-29T23:06:37.638Z"
   },
   {
    "duration": 4,
    "start_time": "2024-07-29T23:06:57.614Z"
   },
   {
    "duration": 49,
    "start_time": "2024-07-29T23:06:58.299Z"
   },
   {
    "duration": 4,
    "start_time": "2024-07-29T23:07:28.236Z"
   },
   {
    "duration": 170,
    "start_time": "2024-07-29T23:07:28.567Z"
   },
   {
    "duration": 4,
    "start_time": "2024-07-29T23:08:10.096Z"
   },
   {
    "duration": 52,
    "start_time": "2024-07-29T23:08:11.014Z"
   },
   {
    "duration": 20,
    "start_time": "2024-07-29T23:08:43.313Z"
   },
   {
    "duration": 4,
    "start_time": "2024-07-29T23:08:43.986Z"
   },
   {
    "duration": 157,
    "start_time": "2024-07-29T23:08:44.461Z"
   },
   {
    "duration": 4,
    "start_time": "2024-07-29T23:09:43.145Z"
   },
   {
    "duration": 13,
    "start_time": "2024-07-29T23:09:44.490Z"
   },
   {
    "duration": 32,
    "start_time": "2024-07-29T23:09:57.055Z"
   },
   {
    "duration": 12,
    "start_time": "2024-07-29T23:10:00.241Z"
   },
   {
    "duration": 16,
    "start_time": "2024-07-29T23:10:00.587Z"
   },
   {
    "duration": 4,
    "start_time": "2024-07-29T23:10:00.761Z"
   },
   {
    "duration": 44,
    "start_time": "2024-07-29T23:10:01.162Z"
   },
   {
    "duration": 20,
    "start_time": "2024-07-29T23:10:01.367Z"
   },
   {
    "duration": 4,
    "start_time": "2024-07-29T23:10:01.712Z"
   },
   {
    "duration": 167,
    "start_time": "2024-07-29T23:10:02.027Z"
   },
   {
    "duration": 24,
    "start_time": "2024-07-29T23:10:02.221Z"
   },
   {
    "duration": 38,
    "start_time": "2024-07-29T23:10:02.384Z"
   },
   {
    "duration": 5090,
    "start_time": "2024-07-30T02:04:26.703Z"
   },
   {
    "duration": 71,
    "start_time": "2024-07-30T02:04:31.797Z"
   },
   {
    "duration": 37,
    "start_time": "2024-07-30T02:04:31.872Z"
   },
   {
    "duration": 14,
    "start_time": "2024-07-30T02:04:31.913Z"
   },
   {
    "duration": 20,
    "start_time": "2024-07-30T02:04:31.931Z"
   },
   {
    "duration": 63,
    "start_time": "2024-07-30T02:04:31.954Z"
   },
   {
    "duration": 21,
    "start_time": "2024-07-30T02:04:32.020Z"
   },
   {
    "duration": 51,
    "start_time": "2024-07-30T02:04:32.045Z"
   },
   {
    "duration": 18,
    "start_time": "2024-07-30T02:04:32.100Z"
   },
   {
    "duration": 24,
    "start_time": "2024-07-30T02:04:32.125Z"
   },
   {
    "duration": 41,
    "start_time": "2024-07-30T02:04:32.153Z"
   },
   {
    "duration": 11,
    "start_time": "2024-07-30T02:04:32.197Z"
   },
   {
    "duration": 11,
    "start_time": "2024-07-30T02:04:32.211Z"
   },
   {
    "duration": 73,
    "start_time": "2024-07-30T02:04:32.225Z"
   },
   {
    "duration": 8,
    "start_time": "2024-07-30T02:04:32.301Z"
   },
   {
    "duration": 2956,
    "start_time": "2024-07-30T02:04:32.313Z"
   },
   {
    "duration": 17,
    "start_time": "2024-07-30T02:04:35.273Z"
   },
   {
    "duration": 31,
    "start_time": "2024-07-30T02:04:35.293Z"
   },
   {
    "duration": 7,
    "start_time": "2024-07-30T02:04:35.327Z"
   },
   {
    "duration": 7,
    "start_time": "2024-07-30T02:04:35.338Z"
   },
   {
    "duration": 1532,
    "start_time": "2024-07-30T02:04:35.348Z"
   },
   {
    "duration": 0,
    "start_time": "2024-07-30T02:04:36.892Z"
   },
   {
    "duration": 0,
    "start_time": "2024-07-30T02:04:36.894Z"
   },
   {
    "duration": 0,
    "start_time": "2024-07-30T02:04:36.896Z"
   },
   {
    "duration": 0,
    "start_time": "2024-07-30T02:04:36.898Z"
   },
   {
    "duration": 0,
    "start_time": "2024-07-30T02:04:36.900Z"
   },
   {
    "duration": 0,
    "start_time": "2024-07-30T02:04:36.901Z"
   },
   {
    "duration": 0,
    "start_time": "2024-07-30T02:04:36.903Z"
   },
   {
    "duration": 0,
    "start_time": "2024-07-30T02:04:36.905Z"
   },
   {
    "duration": 0,
    "start_time": "2024-07-30T02:04:36.907Z"
   },
   {
    "duration": 0,
    "start_time": "2024-07-30T02:04:36.910Z"
   },
   {
    "duration": 0,
    "start_time": "2024-07-30T02:04:36.913Z"
   },
   {
    "duration": 7,
    "start_time": "2024-07-30T02:07:57.353Z"
   },
   {
    "duration": 7,
    "start_time": "2024-07-30T02:08:34.452Z"
   },
   {
    "duration": 23,
    "start_time": "2024-07-30T02:09:51.648Z"
   },
   {
    "duration": 124,
    "start_time": "2024-07-30T02:10:15.193Z"
   },
   {
    "duration": 33,
    "start_time": "2024-07-30T02:10:20.735Z"
   },
   {
    "duration": 11,
    "start_time": "2024-07-30T02:10:33.249Z"
   },
   {
    "duration": 12,
    "start_time": "2024-07-30T02:10:46.842Z"
   },
   {
    "duration": 11,
    "start_time": "2024-07-30T02:10:51.203Z"
   },
   {
    "duration": 455,
    "start_time": "2024-07-30T02:11:28.536Z"
   },
   {
    "duration": 87,
    "start_time": "2024-07-30T02:11:33.719Z"
   },
   {
    "duration": 12,
    "start_time": "2024-07-30T02:11:39.842Z"
   },
   {
    "duration": 29,
    "start_time": "2024-07-30T02:11:55.215Z"
   },
   {
    "duration": 11,
    "start_time": "2024-07-30T02:12:06.687Z"
   },
   {
    "duration": 5,
    "start_time": "2024-07-30T02:13:12.175Z"
   },
   {
    "duration": 10,
    "start_time": "2024-07-30T02:13:13.008Z"
   },
   {
    "duration": 8,
    "start_time": "2024-07-30T02:13:16.216Z"
   },
   {
    "duration": 30,
    "start_time": "2024-07-30T02:13:26.665Z"
   },
   {
    "duration": 266,
    "start_time": "2024-07-30T02:13:34.753Z"
   },
   {
    "duration": 29,
    "start_time": "2024-07-30T02:13:43.926Z"
   },
   {
    "duration": 281,
    "start_time": "2024-07-30T02:13:49.513Z"
   },
   {
    "duration": 10,
    "start_time": "2024-07-30T02:13:53.600Z"
   },
   {
    "duration": 8,
    "start_time": "2024-07-30T02:13:54.024Z"
   },
   {
    "duration": 80,
    "start_time": "2024-07-30T02:13:54.561Z"
   },
   {
    "duration": 82,
    "start_time": "2024-07-30T02:14:26.401Z"
   },
   {
    "duration": 83,
    "start_time": "2024-07-30T02:15:07.603Z"
   },
   {
    "duration": 84,
    "start_time": "2024-07-30T02:15:13.940Z"
   },
   {
    "duration": 7,
    "start_time": "2024-07-30T02:15:33.583Z"
   },
   {
    "duration": 10,
    "start_time": "2024-07-30T02:15:34.046Z"
   },
   {
    "duration": 8,
    "start_time": "2024-07-30T02:15:34.653Z"
   },
   {
    "duration": 28,
    "start_time": "2024-07-30T02:15:37.479Z"
   },
   {
    "duration": 220,
    "start_time": "2024-07-30T02:15:59.847Z"
   },
   {
    "duration": 704,
    "start_time": "2024-07-30T02:17:43.143Z"
   },
   {
    "duration": 10,
    "start_time": "2024-07-30T02:17:55.595Z"
   },
   {
    "duration": 9,
    "start_time": "2024-07-30T02:19:35.910Z"
   },
   {
    "duration": 225,
    "start_time": "2024-07-30T02:20:52.084Z"
   },
   {
    "duration": 31,
    "start_time": "2024-07-30T02:21:40.082Z"
   },
   {
    "duration": 31,
    "start_time": "2024-07-30T02:21:43.651Z"
   },
   {
    "duration": 32,
    "start_time": "2024-07-30T02:21:47.267Z"
   },
   {
    "duration": 224,
    "start_time": "2024-07-30T02:21:53.616Z"
   },
   {
    "duration": 261,
    "start_time": "2024-07-30T02:22:45.332Z"
   },
   {
    "duration": 235,
    "start_time": "2024-07-30T02:22:49.870Z"
   },
   {
    "duration": 1873,
    "start_time": "2024-07-30T02:22:56.667Z"
   },
   {
    "duration": 8,
    "start_time": "2024-07-30T02:22:59.936Z"
   },
   {
    "duration": 399,
    "start_time": "2024-07-30T02:23:03.199Z"
   },
   {
    "duration": 7,
    "start_time": "2024-07-30T02:23:56.790Z"
   },
   {
    "duration": 6,
    "start_time": "2024-07-30T02:24:07.554Z"
   },
   {
    "duration": 6,
    "start_time": "2024-07-30T02:24:31.355Z"
   },
   {
    "duration": 85,
    "start_time": "2024-07-30T02:24:40.830Z"
   },
   {
    "duration": 6,
    "start_time": "2024-07-30T02:25:15.328Z"
   },
   {
    "duration": 6,
    "start_time": "2024-07-30T02:25:21.582Z"
   },
   {
    "duration": 6,
    "start_time": "2024-07-30T02:26:35.054Z"
   },
   {
    "duration": 5,
    "start_time": "2024-07-30T02:29:07.457Z"
   },
   {
    "duration": 26,
    "start_time": "2024-07-30T02:29:32.709Z"
   },
   {
    "duration": 5,
    "start_time": "2024-07-30T02:30:17.495Z"
   },
   {
    "duration": 6,
    "start_time": "2024-07-30T02:30:30.182Z"
   },
   {
    "duration": 6,
    "start_time": "2024-07-30T02:31:31.071Z"
   },
   {
    "duration": 5,
    "start_time": "2024-07-30T02:31:45.868Z"
   },
   {
    "duration": 6,
    "start_time": "2024-07-30T02:31:48.347Z"
   },
   {
    "duration": 6,
    "start_time": "2024-07-30T02:32:39.671Z"
   },
   {
    "duration": 6,
    "start_time": "2024-07-30T02:32:44.102Z"
   },
   {
    "duration": 5,
    "start_time": "2024-07-30T02:33:01.637Z"
   },
   {
    "duration": 5,
    "start_time": "2024-07-30T02:33:10.802Z"
   },
   {
    "duration": 4,
    "start_time": "2024-07-30T02:35:24.316Z"
   },
   {
    "duration": 29,
    "start_time": "2024-07-30T02:36:20.446Z"
   },
   {
    "duration": 33,
    "start_time": "2024-07-30T02:36:23.955Z"
   },
   {
    "duration": 136,
    "start_time": "2024-07-30T02:36:40.194Z"
   },
   {
    "duration": 4,
    "start_time": "2024-07-30T02:36:47.957Z"
   },
   {
    "duration": 52,
    "start_time": "2024-07-30T02:36:47.966Z"
   },
   {
    "duration": 29,
    "start_time": "2024-07-30T02:36:48.021Z"
   },
   {
    "duration": 41,
    "start_time": "2024-07-30T02:36:48.053Z"
   },
   {
    "duration": 20,
    "start_time": "2024-07-30T02:36:48.099Z"
   },
   {
    "duration": 40,
    "start_time": "2024-07-30T02:36:48.121Z"
   },
   {
    "duration": 20,
    "start_time": "2024-07-30T02:36:48.192Z"
   },
   {
    "duration": 17,
    "start_time": "2024-07-30T02:36:48.216Z"
   },
   {
    "duration": 18,
    "start_time": "2024-07-30T02:36:48.236Z"
   },
   {
    "duration": 57,
    "start_time": "2024-07-30T02:36:48.256Z"
   },
   {
    "duration": 8,
    "start_time": "2024-07-30T02:36:48.316Z"
   },
   {
    "duration": 11,
    "start_time": "2024-07-30T02:36:48.327Z"
   },
   {
    "duration": 51,
    "start_time": "2024-07-30T02:36:48.341Z"
   },
   {
    "duration": 22,
    "start_time": "2024-07-30T02:36:48.400Z"
   },
   {
    "duration": 7,
    "start_time": "2024-07-30T02:36:48.426Z"
   },
   {
    "duration": 2902,
    "start_time": "2024-07-30T02:36:48.436Z"
   },
   {
    "duration": 7,
    "start_time": "2024-07-30T02:36:51.341Z"
   },
   {
    "duration": 57,
    "start_time": "2024-07-30T02:36:51.351Z"
   },
   {
    "duration": 7,
    "start_time": "2024-07-30T02:36:51.411Z"
   },
   {
    "duration": 7,
    "start_time": "2024-07-30T02:36:51.421Z"
   },
   {
    "duration": 168,
    "start_time": "2024-07-30T02:36:51.431Z"
   },
   {
    "duration": 0,
    "start_time": "2024-07-30T02:36:51.603Z"
   },
   {
    "duration": 0,
    "start_time": "2024-07-30T02:36:51.605Z"
   },
   {
    "duration": 0,
    "start_time": "2024-07-30T02:36:51.608Z"
   },
   {
    "duration": 0,
    "start_time": "2024-07-30T02:36:51.610Z"
   },
   {
    "duration": 0,
    "start_time": "2024-07-30T02:36:51.612Z"
   },
   {
    "duration": 0,
    "start_time": "2024-07-30T02:36:51.614Z"
   },
   {
    "duration": 0,
    "start_time": "2024-07-30T02:36:51.616Z"
   },
   {
    "duration": 0,
    "start_time": "2024-07-30T02:36:51.617Z"
   },
   {
    "duration": 0,
    "start_time": "2024-07-30T02:36:51.620Z"
   },
   {
    "duration": 0,
    "start_time": "2024-07-30T02:36:51.622Z"
   },
   {
    "duration": 0,
    "start_time": "2024-07-30T02:36:51.623Z"
   },
   {
    "duration": 0,
    "start_time": "2024-07-30T02:36:51.625Z"
   },
   {
    "duration": 0,
    "start_time": "2024-07-30T02:36:51.627Z"
   },
   {
    "duration": 0,
    "start_time": "2024-07-30T02:36:51.629Z"
   },
   {
    "duration": 0,
    "start_time": "2024-07-30T02:36:51.631Z"
   },
   {
    "duration": 0,
    "start_time": "2024-07-30T02:36:51.633Z"
   },
   {
    "duration": 0,
    "start_time": "2024-07-30T02:36:51.636Z"
   },
   {
    "duration": 0,
    "start_time": "2024-07-30T02:36:51.638Z"
   },
   {
    "duration": 0,
    "start_time": "2024-07-30T02:36:51.640Z"
   },
   {
    "duration": 0,
    "start_time": "2024-07-30T02:36:51.641Z"
   },
   {
    "duration": 0,
    "start_time": "2024-07-30T02:36:51.691Z"
   },
   {
    "duration": 0,
    "start_time": "2024-07-30T02:36:51.693Z"
   },
   {
    "duration": 0,
    "start_time": "2024-07-30T02:36:51.696Z"
   },
   {
    "duration": 0,
    "start_time": "2024-07-30T02:36:51.699Z"
   },
   {
    "duration": 1,
    "start_time": "2024-07-30T02:36:51.700Z"
   },
   {
    "duration": 0,
    "start_time": "2024-07-30T02:36:51.703Z"
   },
   {
    "duration": 0,
    "start_time": "2024-07-30T02:36:51.705Z"
   },
   {
    "duration": 0,
    "start_time": "2024-07-30T02:36:51.707Z"
   },
   {
    "duration": 0,
    "start_time": "2024-07-30T02:36:51.709Z"
   },
   {
    "duration": 0,
    "start_time": "2024-07-30T02:36:51.711Z"
   },
   {
    "duration": 31,
    "start_time": "2024-07-30T02:38:09.411Z"
   },
   {
    "duration": 3,
    "start_time": "2024-07-30T02:38:10.994Z"
   },
   {
    "duration": 167,
    "start_time": "2024-07-30T02:38:11.494Z"
   },
   {
    "duration": 34,
    "start_time": "2024-07-30T02:38:12.091Z"
   },
   {
    "duration": 13,
    "start_time": "2024-07-30T02:38:12.814Z"
   },
   {
    "duration": 14,
    "start_time": "2024-07-30T02:38:14.893Z"
   },
   {
    "duration": 4,
    "start_time": "2024-07-30T02:38:15.170Z"
   },
   {
    "duration": 47,
    "start_time": "2024-07-30T02:38:15.410Z"
   },
   {
    "duration": 22,
    "start_time": "2024-07-30T02:38:15.928Z"
   },
   {
    "duration": 4,
    "start_time": "2024-07-30T02:38:16.208Z"
   },
   {
    "duration": 165,
    "start_time": "2024-07-30T02:38:16.482Z"
   },
   {
    "duration": 31,
    "start_time": "2024-07-30T02:38:16.836Z"
   },
   {
    "duration": 39,
    "start_time": "2024-07-30T02:38:17.279Z"
   },
   {
    "duration": 7,
    "start_time": "2024-07-30T02:38:18.241Z"
   },
   {
    "duration": 91,
    "start_time": "2024-07-30T02:38:18.571Z"
   },
   {
    "duration": 8,
    "start_time": "2024-07-30T02:38:19.009Z"
   },
   {
    "duration": 5,
    "start_time": "2024-07-30T02:38:28.095Z"
   },
   {
    "duration": 83,
    "start_time": "2024-07-30T02:38:28.653Z"
   },
   {
    "duration": 96,
    "start_time": "2024-07-30T02:39:22.180Z"
   },
   {
    "duration": 90,
    "start_time": "2024-07-30T02:39:24.271Z"
   },
   {
    "duration": 7,
    "start_time": "2024-07-30T02:39:31.704Z"
   },
   {
    "duration": 89,
    "start_time": "2024-07-30T02:39:32.028Z"
   },
   {
    "duration": 9,
    "start_time": "2024-07-30T02:39:32.362Z"
   },
   {
    "duration": 267,
    "start_time": "2024-07-30T02:39:32.709Z"
   },
   {
    "duration": 11,
    "start_time": "2024-07-30T02:39:32.980Z"
   },
   {
    "duration": 32,
    "start_time": "2024-07-30T02:39:34.096Z"
   },
   {
    "duration": 27,
    "start_time": "2024-07-30T02:39:34.993Z"
   },
   {
    "duration": 6,
    "start_time": "2024-07-30T02:39:37.921Z"
   },
   {
    "duration": 85,
    "start_time": "2024-07-30T02:39:38.232Z"
   },
   {
    "duration": 10,
    "start_time": "2024-07-30T02:41:11.983Z"
   },
   {
    "duration": 80,
    "start_time": "2024-07-30T02:41:20.602Z"
   },
   {
    "duration": 7,
    "start_time": "2024-07-30T02:41:28.284Z"
   },
   {
    "duration": 13,
    "start_time": "2024-07-30T02:41:47.136Z"
   },
   {
    "duration": 8,
    "start_time": "2024-07-30T02:42:02.638Z"
   },
   {
    "duration": 233,
    "start_time": "2024-07-30T02:42:03.606Z"
   },
   {
    "duration": 4,
    "start_time": "2024-07-30T02:42:05.978Z"
   },
   {
    "duration": 33,
    "start_time": "2024-07-30T02:42:07.029Z"
   },
   {
    "duration": 6,
    "start_time": "2024-07-30T02:43:15.990Z"
   },
   {
    "duration": 30,
    "start_time": "2024-07-30T02:43:34.548Z"
   },
   {
    "duration": 6,
    "start_time": "2024-07-30T02:43:46.539Z"
   },
   {
    "duration": 10,
    "start_time": "2024-07-30T02:43:46.772Z"
   },
   {
    "duration": 5,
    "start_time": "2024-07-30T02:43:48.270Z"
   },
   {
    "duration": 428,
    "start_time": "2024-07-30T02:43:49.287Z"
   },
   {
    "duration": 9,
    "start_time": "2024-07-30T02:43:59.337Z"
   },
   {
    "duration": 10,
    "start_time": "2024-07-30T02:43:59.874Z"
   },
   {
    "duration": 31,
    "start_time": "2024-07-30T02:44:00.365Z"
   },
   {
    "duration": 19,
    "start_time": "2024-07-30T02:44:07.117Z"
   },
   {
    "duration": 7,
    "start_time": "2024-07-30T02:45:53.028Z"
   },
   {
    "duration": 241,
    "start_time": "2024-07-30T02:45:54.010Z"
   },
   {
    "duration": 27,
    "start_time": "2024-07-30T02:54:50.277Z"
   },
   {
    "duration": 24,
    "start_time": "2024-07-30T02:54:51.191Z"
   },
   {
    "duration": 14,
    "start_time": "2024-07-30T02:54:56.960Z"
   },
   {
    "duration": 20,
    "start_time": "2024-07-30T02:55:06.639Z"
   },
   {
    "duration": 14,
    "start_time": "2024-07-30T02:55:10.118Z"
   },
   {
    "duration": 5,
    "start_time": "2024-07-30T02:59:08.228Z"
   },
   {
    "duration": 2354,
    "start_time": "2024-07-30T02:59:12.956Z"
   },
   {
    "duration": 218,
    "start_time": "2024-07-30T02:59:25.527Z"
   },
   {
    "duration": 2547,
    "start_time": "2024-07-30T02:59:36.363Z"
   },
   {
    "duration": 238,
    "start_time": "2024-07-30T03:03:15.608Z"
   },
   {
    "duration": 25,
    "start_time": "2024-07-30T03:04:19.248Z"
   },
   {
    "duration": 32,
    "start_time": "2024-07-30T03:04:56.418Z"
   },
   {
    "duration": 33,
    "start_time": "2024-07-30T03:04:56.732Z"
   },
   {
    "duration": 20,
    "start_time": "2024-07-30T03:05:06.935Z"
   },
   {
    "duration": 263,
    "start_time": "2024-07-30T03:05:37.895Z"
   },
   {
    "duration": 266,
    "start_time": "2024-07-30T03:05:41.870Z"
   },
   {
    "duration": 469,
    "start_time": "2024-07-30T03:05:44.341Z"
   },
   {
    "duration": 272,
    "start_time": "2024-07-30T03:05:53.309Z"
   },
   {
    "duration": 94,
    "start_time": "2024-07-30T03:05:57.274Z"
   },
   {
    "duration": 257,
    "start_time": "2024-07-30T03:05:59.144Z"
   },
   {
    "duration": 32,
    "start_time": "2024-07-30T03:07:20.982Z"
   },
   {
    "duration": 261,
    "start_time": "2024-07-30T03:07:25.395Z"
   },
   {
    "duration": 30,
    "start_time": "2024-07-30T03:08:25.616Z"
   },
   {
    "duration": 249,
    "start_time": "2024-07-30T03:09:10.390Z"
   },
   {
    "duration": 26,
    "start_time": "2024-07-30T03:09:16.083Z"
   },
   {
    "duration": 7,
    "start_time": "2024-07-30T03:10:07.597Z"
   },
   {
    "duration": 11,
    "start_time": "2024-07-30T03:10:29.836Z"
   },
   {
    "duration": 6,
    "start_time": "2024-07-30T03:11:12.968Z"
   },
   {
    "duration": 554,
    "start_time": "2024-07-30T03:11:24.444Z"
   },
   {
    "duration": 342,
    "start_time": "2024-07-30T03:12:02.068Z"
   },
   {
    "duration": 30,
    "start_time": "2024-07-30T03:12:16.045Z"
   },
   {
    "duration": 5,
    "start_time": "2024-07-30T03:12:40.724Z"
   },
   {
    "duration": 80,
    "start_time": "2024-07-30T03:12:52.816Z"
   },
   {
    "duration": 5,
    "start_time": "2024-07-30T03:13:11.042Z"
   },
   {
    "duration": 9,
    "start_time": "2024-07-30T03:13:15.207Z"
   },
   {
    "duration": 5,
    "start_time": "2024-07-30T03:15:28.438Z"
   },
   {
    "duration": 8,
    "start_time": "2024-07-30T03:15:32.321Z"
   },
   {
    "duration": 8,
    "start_time": "2024-07-30T03:15:56.342Z"
   },
   {
    "duration": 7,
    "start_time": "2024-07-30T03:15:59.456Z"
   },
   {
    "duration": 8,
    "start_time": "2024-07-30T03:16:02.847Z"
   },
   {
    "duration": 27,
    "start_time": "2024-07-30T03:41:04.308Z"
   },
   {
    "duration": 30,
    "start_time": "2024-07-30T03:41:14.827Z"
   },
   {
    "duration": 24,
    "start_time": "2024-07-30T03:41:52.263Z"
   },
   {
    "duration": 22,
    "start_time": "2024-07-30T03:42:18.824Z"
   },
   {
    "duration": 4,
    "start_time": "2024-07-30T03:42:28.151Z"
   },
   {
    "duration": 52,
    "start_time": "2024-07-30T03:42:28.159Z"
   },
   {
    "duration": 30,
    "start_time": "2024-07-30T03:42:28.214Z"
   },
   {
    "duration": 43,
    "start_time": "2024-07-30T03:42:28.248Z"
   },
   {
    "duration": 20,
    "start_time": "2024-07-30T03:42:28.294Z"
   },
   {
    "duration": 31,
    "start_time": "2024-07-30T03:42:28.317Z"
   },
   {
    "duration": 57,
    "start_time": "2024-07-30T03:42:28.351Z"
   },
   {
    "duration": 18,
    "start_time": "2024-07-30T03:42:28.411Z"
   },
   {
    "duration": 59,
    "start_time": "2024-07-30T03:42:28.433Z"
   },
   {
    "duration": 23,
    "start_time": "2024-07-30T03:42:28.497Z"
   },
   {
    "duration": 8,
    "start_time": "2024-07-30T03:42:28.523Z"
   },
   {
    "duration": 12,
    "start_time": "2024-07-30T03:42:28.534Z"
   },
   {
    "duration": 47,
    "start_time": "2024-07-30T03:42:28.550Z"
   },
   {
    "duration": 24,
    "start_time": "2024-07-30T03:42:28.600Z"
   },
   {
    "duration": 9,
    "start_time": "2024-07-30T03:42:28.630Z"
   },
   {
    "duration": 2940,
    "start_time": "2024-07-30T03:42:28.643Z"
   },
   {
    "duration": 7,
    "start_time": "2024-07-30T03:42:31.592Z"
   },
   {
    "duration": 35,
    "start_time": "2024-07-30T03:42:31.603Z"
   },
   {
    "duration": 7,
    "start_time": "2024-07-30T03:42:31.642Z"
   },
   {
    "duration": 44,
    "start_time": "2024-07-30T03:42:31.652Z"
   },
   {
    "duration": 28,
    "start_time": "2024-07-30T03:42:31.699Z"
   },
   {
    "duration": 4,
    "start_time": "2024-07-30T03:42:31.730Z"
   },
   {
    "duration": 213,
    "start_time": "2024-07-30T03:42:31.737Z"
   },
   {
    "duration": 52,
    "start_time": "2024-07-30T03:42:31.954Z"
   },
   {
    "duration": 15,
    "start_time": "2024-07-30T03:42:32.009Z"
   },
   {
    "duration": 24,
    "start_time": "2024-07-30T03:42:32.028Z"
   },
   {
    "duration": 7,
    "start_time": "2024-07-30T03:42:32.057Z"
   },
   {
    "duration": 50,
    "start_time": "2024-07-30T03:42:32.094Z"
   },
   {
    "duration": 49,
    "start_time": "2024-07-30T03:42:32.147Z"
   },
   {
    "duration": 4,
    "start_time": "2024-07-30T03:42:32.200Z"
   },
   {
    "duration": 193,
    "start_time": "2024-07-30T03:42:32.207Z"
   },
   {
    "duration": 25,
    "start_time": "2024-07-30T03:42:32.403Z"
   },
   {
    "duration": 69,
    "start_time": "2024-07-30T03:42:32.431Z"
   },
   {
    "duration": 9,
    "start_time": "2024-07-30T03:42:32.503Z"
   },
   {
    "duration": 18,
    "start_time": "2024-07-30T03:42:32.519Z"
   },
   {
    "duration": 7,
    "start_time": "2024-07-30T03:42:32.541Z"
   },
   {
    "duration": 309,
    "start_time": "2024-07-30T03:42:32.552Z"
   },
   {
    "duration": 6,
    "start_time": "2024-07-30T03:42:32.864Z"
   },
   {
    "duration": 56,
    "start_time": "2024-07-30T03:42:32.875Z"
   },
   {
    "duration": 9,
    "start_time": "2024-07-30T03:42:32.934Z"
   },
   {
    "duration": 10,
    "start_time": "2024-07-30T03:42:32.946Z"
   },
   {
    "duration": 7,
    "start_time": "2024-07-30T03:42:32.993Z"
   },
   {
    "duration": 429,
    "start_time": "2024-07-30T03:42:33.003Z"
   },
   {
    "duration": 10,
    "start_time": "2024-07-30T03:42:33.436Z"
   },
   {
    "duration": 11,
    "start_time": "2024-07-30T03:42:33.449Z"
   },
   {
    "duration": 45,
    "start_time": "2024-07-30T03:42:33.463Z"
   },
   {
    "duration": 29,
    "start_time": "2024-07-30T03:42:33.511Z"
   },
   {
    "duration": 55,
    "start_time": "2024-07-30T03:42:33.544Z"
   },
   {
    "duration": 18,
    "start_time": "2024-07-30T03:42:33.603Z"
   },
   {
    "duration": 17,
    "start_time": "2024-07-30T03:42:33.624Z"
   },
   {
    "duration": 74,
    "start_time": "2024-07-30T03:42:33.644Z"
   },
   {
    "duration": 19,
    "start_time": "2024-07-30T03:42:33.721Z"
   },
   {
    "duration": 306,
    "start_time": "2024-07-30T03:42:33.747Z"
   },
   {
    "duration": 59,
    "start_time": "2024-07-30T03:42:34.058Z"
   },
   {
    "duration": 278,
    "start_time": "2024-07-30T03:42:34.120Z"
   },
   {
    "duration": 9,
    "start_time": "2024-07-30T03:42:34.402Z"
   },
   {
    "duration": 24,
    "start_time": "2024-07-30T03:42:34.414Z"
   },
   {
    "duration": 7,
    "start_time": "2024-07-30T03:42:57.856Z"
   },
   {
    "duration": 265,
    "start_time": "2024-07-30T03:43:28.817Z"
   },
   {
    "duration": 240,
    "start_time": "2024-07-30T03:43:29.153Z"
   },
   {
    "duration": 248,
    "start_time": "2024-07-30T03:43:29.787Z"
   },
   {
    "duration": 279,
    "start_time": "2024-07-30T03:43:31.118Z"
   },
   {
    "duration": 278,
    "start_time": "2024-07-30T03:46:25.867Z"
   },
   {
    "duration": 21,
    "start_time": "2024-07-30T03:46:57.270Z"
   },
   {
    "duration": 8,
    "start_time": "2024-07-30T03:46:57.665Z"
   },
   {
    "duration": 271,
    "start_time": "2024-07-30T03:47:00.375Z"
   },
   {
    "duration": 278,
    "start_time": "2024-07-30T03:47:06.630Z"
   },
   {
    "duration": 4935,
    "start_time": "2024-07-30T03:48:00.864Z"
   }
  ],
  "kernelspec": {
   "display_name": "Python 3 (ipykernel)",
   "language": "python",
   "name": "python3"
  },
  "language_info": {
   "codemirror_mode": {
    "name": "ipython",
    "version": 3
   },
   "file_extension": ".py",
   "mimetype": "text/x-python",
   "name": "python",
   "nbconvert_exporter": "python",
   "pygments_lexer": "ipython3",
   "version": "3.9.19"
  },
  "toc": {
   "base_numbering": 1,
   "nav_menu": {},
   "number_sections": true,
   "sideBar": true,
   "skip_h1_title": true,
   "title_cell": "Table of Contents",
   "title_sidebar": "Contents",
   "toc_cell": false,
   "toc_position": {},
   "toc_section_display": true,
   "toc_window_display": false
  }
 },
 "nbformat": 4,
 "nbformat_minor": 2
}
